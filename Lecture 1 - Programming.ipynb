{
 "cells": [
  {
   "cell_type": "markdown",
   "metadata": {},
   "source": [
    "# Lecture 1 - Programming \n",
    "\n",
    "## What we are going to cover today\n",
    "\n",
    "### Fundamentals of programming. How does a computer actually run software? What are the basic operations of programming?\n",
    "- Data structures - variables, lists, arrays/matrixes, data frames, objects.\n",
    "- The four fundamental operations a computer does:\n",
    "    1. Arithmetic\n",
    "    2. Assignment\n",
    "    3. Decision\n",
    "    4. Looping\n",
    "- How do they work in R. What abstractions are used to make our life easier (or harder) in R. Vectorization and functions.\n",
    "\n",
    "### Fundamentals of data management. How do we work with datasets? How do we load data, save data, and _wrangle_ with data?"
   ]
  },
  {
   "cell_type": "markdown",
   "metadata": {},
   "source": [
    " "
   ]
  },
  {
   "cell_type": "markdown",
   "metadata": {},
   "source": [
    "# 1. Prerequisites"
   ]
  },
  {
   "cell_type": "markdown",
   "metadata": {},
   "source": [
    " "
   ]
  },
  {
   "cell_type": "markdown",
   "metadata": {},
   "source": [
    "First things first!\n",
    "\n",
    "**It's a good idea to comment your code!**\n",
    "\n",
    "All lines starting with "
   ]
  },
  {
   "cell_type": "markdown",
   "metadata": {},
   "source": [
    "### Loading packages and setting up the environment.\n",
    "\n",
    "R contains modules that add fuctionalities to R called packages. \n",
    "\n",
    "You can install packages directly in R like this. You only need to do this step **once**. However, there is **nothing wrong** if you install packages each time you run your script. It may just ve slow: "
   ]
  },
  {
   "cell_type": "markdown",
   "metadata": {},
   "source": [
    " "
   ]
  },
  {
   "cell_type": "code",
   "execution_count": 35,
   "metadata": {},
   "outputs": [],
   "source": [
    "#install.packages('ggplot2')\n",
    "#install.packages('tidyverse')\n",
    "#install.packages(\"readxl\")"
   ]
  },
  {
   "cell_type": "markdown",
   "metadata": {},
   "source": [
    "**Remember you always need to load packages before using them**. "
   ]
  },
  {
   "cell_type": "code",
   "execution_count": 76,
   "metadata": {},
   "outputs": [
    {
     "name": "stderr",
     "output_type": "stream",
     "text": [
      "── Attaching packages ─────────────────────────────────────── tidyverse 1.2.1 ──\n",
      "✔ tibble  1.4.2     ✔ purrr   0.2.5\n",
      "✔ tidyr   0.8.1     ✔ dplyr   0.7.6\n",
      "✔ readr   1.1.1     ✔ stringr 1.3.1\n",
      "✔ tibble  1.4.2     ✔ forcats 0.3.0\n",
      "── Conflicts ────────────────────────────────────────── tidyverse_conflicts() ──\n",
      "✖ dplyr::filter() masks stats::filter()\n",
      "✖ dplyr::lag()    masks stats::lag()\n"
     ]
    }
   ],
   "source": [
    "library('ggplot2')\n",
    "library('tidyverse')"
   ]
  },
  {
   "cell_type": "markdown",
   "metadata": {},
   "source": [
    "Also note, sometimes, packages conflict with other packages, as they contain functions that are identical in name. One frequent example is **plyr** and **dplyr**. \n",
    "\n",
    "You can either choose to either use one package only, or you can call the desired function explicitly (using \"explicit namespacing\") using **package::function**. If R includes it by default, use **base::** as the package name (namespace)"
   ]
  },
  {
   "cell_type": "code",
   "execution_count": 3,
   "metadata": {},
   "outputs": [
    {
     "data": {
      "text/html": [
       "85"
      ],
      "text/latex": [
       "85"
      ],
      "text/markdown": [
       "85"
      ],
      "text/plain": [
       "[1] 85"
      ]
     },
     "metadata": {},
     "output_type": "display_data"
    },
    {
     "data": {
      "text/html": [
       "85"
      ],
      "text/latex": [
       "85"
      ],
      "text/markdown": [
       "85"
      ],
      "text/plain": [
       "[1] 85"
      ]
     },
     "metadata": {},
     "output_type": "display_data"
    }
   ],
   "source": [
    "a=c(10,25,50)\n",
    "\n",
    "base::sum(a)\n",
    "sum(a)"
   ]
  },
  {
   "cell_type": "markdown",
   "metadata": {},
   "source": [
    "# 2. Data structures and data"
   ]
  },
  {
   "cell_type": "markdown",
   "metadata": {},
   "source": [
    "### A variable is an object storing data:"
   ]
  },
  {
   "cell_type": "code",
   "execution_count": 87,
   "metadata": {},
   "outputs": [
    {
     "data": {
      "text/html": [
       "2.5"
      ],
      "text/latex": [
       "2.5"
      ],
      "text/markdown": [
       "2.5"
      ],
      "text/plain": [
       "[1] 2.5"
      ]
     },
     "metadata": {},
     "output_type": "display_data"
    },
    {
     "data": {
      "text/html": [
       "-0.5"
      ],
      "text/latex": [
       "-0.5"
      ],
      "text/markdown": [
       "-0.5"
      ],
      "text/plain": [
       "[1] -0.5"
      ]
     },
     "metadata": {},
     "output_type": "display_data"
    },
    {
     "data": {
      "text/html": [
       "1.5"
      ],
      "text/latex": [
       "1.5"
      ],
      "text/markdown": [
       "1.5"
      ],
      "text/plain": [
       "[1] 1.5"
      ]
     },
     "metadata": {},
     "output_type": "display_data"
    },
    {
     "data": {
      "text/html": [
       "0.666666666666667"
      ],
      "text/latex": [
       "0.666666666666667"
      ],
      "text/markdown": [
       "0.666666666666667"
      ],
      "text/plain": [
       "[1] 0.6666667"
      ]
     },
     "metadata": {},
     "output_type": "display_data"
    },
    {
     "data": {
      "text/html": [
       "FALSE"
      ],
      "text/latex": [
       "FALSE"
      ],
      "text/markdown": [
       "FALSE"
      ],
      "text/plain": [
       "[1] FALSE"
      ]
     },
     "metadata": {},
     "output_type": "display_data"
    },
    {
     "data": {
      "text/html": [
       "TRUE"
      ],
      "text/latex": [
       "TRUE"
      ],
      "text/markdown": [
       "TRUE"
      ],
      "text/plain": [
       "[1] TRUE"
      ]
     },
     "metadata": {},
     "output_type": "display_data"
    },
    {
     "data": {
      "text/html": [
       "FALSE"
      ],
      "text/latex": [
       "FALSE"
      ],
      "text/markdown": [
       "FALSE"
      ],
      "text/plain": [
       "[1] FALSE"
      ]
     },
     "metadata": {},
     "output_type": "display_data"
    }
   ],
   "source": [
    "\n",
    "integer_var = 1\n",
    "float_var = 1.5\n",
    "nothing_var = NA\n",
    "string_var = 'This is a string'\n",
    "boolean_var = TRUE\n",
    "\n",
    "# And we can do operations\n",
    "\n",
    "integer_var + float_var\n",
    "integer_var - float_var\n",
    "integer_var * float_var\n",
    "integer_var / float_var\n",
    "integer_var == float_var\n",
    "integer_var == 1\n",
    "integer_var > float_var\n"
   ]
  },
  {
   "cell_type": "markdown",
   "metadata": {},
   "source": [
    " "
   ]
  },
  {
   "cell_type": "markdown",
   "metadata": {},
   "source": [
    "# R is vectorial. \n",
    "\n",
    "## This means:\n",
    "\n",
    "### we can store not only numbers, but also vectors and matrixes (collections of numbers)\n",
    "### we can compute not only number additions, but also addition and multiplication of vectors and matrixes. All operations that work on numbers extend on  vectors and matrixes\n",
    "\n",
    "So, for example:"
   ]
  },
  {
   "cell_type": "markdown",
   "metadata": {},
   "source": [
    "## Vectors\n",
    "\n",
    "### Vectors are lists of numbers."
   ]
  },
  {
   "cell_type": "code",
   "execution_count": 89,
   "metadata": {},
   "outputs": [],
   "source": [
    "X <- c(1,2,3,4,5)\n",
    "Y <- c(10,20,30,40,50)\n",
    "Z = c(X,Y)"
   ]
  },
  {
   "cell_type": "markdown",
   "metadata": {},
   "source": [
    "### `c(elements)` makes vectors"
   ]
  },
  {
   "cell_type": "code",
   "execution_count": 91,
   "metadata": {},
   "outputs": [
    {
     "data": {
      "text/html": [
       "<ol class=list-inline>\n",
       "\t<li>1</li>\n",
       "\t<li>2</li>\n",
       "\t<li>3</li>\n",
       "\t<li>4</li>\n",
       "\t<li>5</li>\n",
       "</ol>\n"
      ],
      "text/latex": [
       "\\begin{enumerate*}\n",
       "\\item 1\n",
       "\\item 2\n",
       "\\item 3\n",
       "\\item 4\n",
       "\\item 5\n",
       "\\end{enumerate*}\n"
      ],
      "text/markdown": [
       "1. 1\n",
       "2. 2\n",
       "3. 3\n",
       "4. 4\n",
       "5. 5\n",
       "\n",
       "\n"
      ],
      "text/plain": [
       "[1] 1 2 3 4 5"
      ]
     },
     "metadata": {},
     "output_type": "display_data"
    },
    {
     "data": {
      "text/html": [
       "<ol class=list-inline>\n",
       "\t<li>10</li>\n",
       "\t<li>20</li>\n",
       "\t<li>30</li>\n",
       "\t<li>40</li>\n",
       "\t<li>50</li>\n",
       "</ol>\n"
      ],
      "text/latex": [
       "\\begin{enumerate*}\n",
       "\\item 10\n",
       "\\item 20\n",
       "\\item 30\n",
       "\\item 40\n",
       "\\item 50\n",
       "\\end{enumerate*}\n"
      ],
      "text/markdown": [
       "1. 10\n",
       "2. 20\n",
       "3. 30\n",
       "4. 40\n",
       "5. 50\n",
       "\n",
       "\n"
      ],
      "text/plain": [
       "[1] 10 20 30 40 50"
      ]
     },
     "metadata": {},
     "output_type": "display_data"
    },
    {
     "data": {
      "text/html": [
       "<ol class=list-inline>\n",
       "\t<li>1</li>\n",
       "\t<li>2</li>\n",
       "\t<li>3</li>\n",
       "\t<li>4</li>\n",
       "\t<li>5</li>\n",
       "\t<li>10</li>\n",
       "\t<li>20</li>\n",
       "\t<li>30</li>\n",
       "\t<li>40</li>\n",
       "\t<li>50</li>\n",
       "</ol>\n"
      ],
      "text/latex": [
       "\\begin{enumerate*}\n",
       "\\item 1\n",
       "\\item 2\n",
       "\\item 3\n",
       "\\item 4\n",
       "\\item 5\n",
       "\\item 10\n",
       "\\item 20\n",
       "\\item 30\n",
       "\\item 40\n",
       "\\item 50\n",
       "\\end{enumerate*}\n"
      ],
      "text/markdown": [
       "1. 1\n",
       "2. 2\n",
       "3. 3\n",
       "4. 4\n",
       "5. 5\n",
       "6. 10\n",
       "7. 20\n",
       "8. 30\n",
       "9. 40\n",
       "10. 50\n",
       "\n",
       "\n"
      ],
      "text/plain": [
       " [1]  1  2  3  4  5 10 20 30 40 50"
      ]
     },
     "metadata": {},
     "output_type": "display_data"
    },
    {
     "data": {
      "text/html": [
       "<ol class=list-inline>\n",
       "\t<li>1</li>\n",
       "\t<li>2</li>\n",
       "\t<li>3</li>\n",
       "\t<li>4</li>\n",
       "\t<li>5</li>\n",
       "\t<li>10</li>\n",
       "\t<li>20</li>\n",
       "\t<li>30</li>\n",
       "\t<li>40</li>\n",
       "\t<li>50</li>\n",
       "\t<li>1</li>\n",
       "</ol>\n"
      ],
      "text/latex": [
       "\\begin{enumerate*}\n",
       "\\item 1\n",
       "\\item 2\n",
       "\\item 3\n",
       "\\item 4\n",
       "\\item 5\n",
       "\\item 10\n",
       "\\item 20\n",
       "\\item 30\n",
       "\\item 40\n",
       "\\item 50\n",
       "\\item 1\n",
       "\\end{enumerate*}\n"
      ],
      "text/markdown": [
       "1. 1\n",
       "2. 2\n",
       "3. 3\n",
       "4. 4\n",
       "5. 5\n",
       "6. 10\n",
       "7. 20\n",
       "8. 30\n",
       "9. 40\n",
       "10. 50\n",
       "11. 1\n",
       "\n",
       "\n"
      ],
      "text/plain": [
       " [1]  1  2  3  4  5 10 20 30 40 50  1"
      ]
     },
     "metadata": {},
     "output_type": "display_data"
    }
   ],
   "source": [
    "X\n",
    "Y\n",
    "Z\n",
    "c(Z,1)"
   ]
  },
  {
   "cell_type": "markdown",
   "metadata": {},
   "source": [
    "#### And `:` makes sequences. \n",
    "`1:5 == c(1,2,3,4,5)`  "
   ]
  },
  {
   "cell_type": "code",
   "execution_count": 164,
   "metadata": {},
   "outputs": [
    {
     "data": {
      "text/html": [
       "<ol class=list-inline>\n",
       "\t<li>1</li>\n",
       "\t<li>2</li>\n",
       "\t<li>3</li>\n",
       "\t<li>4</li>\n",
       "\t<li>5</li>\n",
       "</ol>\n"
      ],
      "text/latex": [
       "\\begin{enumerate*}\n",
       "\\item 1\n",
       "\\item 2\n",
       "\\item 3\n",
       "\\item 4\n",
       "\\item 5\n",
       "\\end{enumerate*}\n"
      ],
      "text/markdown": [
       "1. 1\n",
       "2. 2\n",
       "3. 3\n",
       "4. 4\n",
       "5. 5\n",
       "\n",
       "\n"
      ],
      "text/plain": [
       "[1] 1 2 3 4 5"
      ]
     },
     "metadata": {},
     "output_type": "display_data"
    },
    {
     "data": {
      "text/html": [
       "<ol class=list-inline>\n",
       "\t<li>1</li>\n",
       "\t<li>2</li>\n",
       "\t<li>3</li>\n",
       "\t<li>4</li>\n",
       "\t<li>5</li>\n",
       "</ol>\n"
      ],
      "text/latex": [
       "\\begin{enumerate*}\n",
       "\\item 1\n",
       "\\item 2\n",
       "\\item 3\n",
       "\\item 4\n",
       "\\item 5\n",
       "\\end{enumerate*}\n"
      ],
      "text/markdown": [
       "1. 1\n",
       "2. 2\n",
       "3. 3\n",
       "4. 4\n",
       "5. 5\n",
       "\n",
       "\n"
      ],
      "text/plain": [
       "[1] 1 2 3 4 5"
      ]
     },
     "metadata": {},
     "output_type": "display_data"
    },
    {
     "data": {
      "text/html": [
       "<ol class=list-inline>\n",
       "\t<li>TRUE</li>\n",
       "\t<li>TRUE</li>\n",
       "\t<li>TRUE</li>\n",
       "\t<li>TRUE</li>\n",
       "\t<li>TRUE</li>\n",
       "</ol>\n"
      ],
      "text/latex": [
       "\\begin{enumerate*}\n",
       "\\item TRUE\n",
       "\\item TRUE\n",
       "\\item TRUE\n",
       "\\item TRUE\n",
       "\\item TRUE\n",
       "\\end{enumerate*}\n"
      ],
      "text/markdown": [
       "1. TRUE\n",
       "2. TRUE\n",
       "3. TRUE\n",
       "4. TRUE\n",
       "5. TRUE\n",
       "\n",
       "\n"
      ],
      "text/plain": [
       "[1] TRUE TRUE TRUE TRUE TRUE"
      ]
     },
     "metadata": {},
     "output_type": "display_data"
    }
   ],
   "source": [
    "seq_a=1:5\n",
    "seq_b=c(1,2,3,4,5)\n",
    "seq_a\n",
    "seq_b\n",
    "seq_a == seq_b"
   ]
  },
  {
   "cell_type": "markdown",
   "metadata": {},
   "source": [
    "#### The size is given by length.\n"
   ]
  },
  {
   "cell_type": "code",
   "execution_count": 98,
   "metadata": {},
   "outputs": [
    {
     "data": {
      "text/html": [
       "5"
      ],
      "text/latex": [
       "5"
      ],
      "text/markdown": [
       "5"
      ],
      "text/plain": [
       "[1] 5"
      ]
     },
     "metadata": {},
     "output_type": "display_data"
    },
    {
     "data": {
      "text/html": [
       "5"
      ],
      "text/latex": [
       "5"
      ],
      "text/markdown": [
       "5"
      ],
      "text/plain": [
       "[1] 5"
      ]
     },
     "metadata": {},
     "output_type": "display_data"
    },
    {
     "data": {
      "text/html": [
       "10"
      ],
      "text/latex": [
       "10"
      ],
      "text/markdown": [
       "10"
      ],
      "text/plain": [
       "[1] 10"
      ]
     },
     "metadata": {},
     "output_type": "display_data"
    }
   ],
   "source": [
    "length(X)\n",
    "length(Y)\n",
    "length(Z)"
   ]
  },
  {
   "cell_type": "markdown",
   "metadata": {},
   "source": [
    "#### And to get the n'th element, just do `VECTOR[element]` \n",
    "#### In R, the first element is 1\n",
    "\n",
    "### The `[element]` in a vector is called an index"
   ]
  },
  {
   "cell_type": "code",
   "execution_count": 108,
   "metadata": {},
   "outputs": [
    {
     "data": {
      "text/html": [
       "1"
      ],
      "text/latex": [
       "1"
      ],
      "text/markdown": [
       "1"
      ],
      "text/plain": [
       "[1] 1"
      ]
     },
     "metadata": {},
     "output_type": "display_data"
    },
    {
     "data": {
      "text/html": [
       "30"
      ],
      "text/latex": [
       "30"
      ],
      "text/markdown": [
       "30"
      ],
      "text/plain": [
       "[1] 30"
      ]
     },
     "metadata": {},
     "output_type": "display_data"
    },
    {
     "data": {
      "text/html": [
       "<ol class=list-inline>\n",
       "\t<li>1</li>\n",
       "\t<li>2</li>\n",
       "\t<li>3</li>\n",
       "\t<li>4</li>\n",
       "\t<li>5</li>\n",
       "</ol>\n"
      ],
      "text/latex": [
       "\\begin{enumerate*}\n",
       "\\item 1\n",
       "\\item 2\n",
       "\\item 3\n",
       "\\item 4\n",
       "\\item 5\n",
       "\\end{enumerate*}\n"
      ],
      "text/markdown": [
       "1. 1\n",
       "2. 2\n",
       "3. 3\n",
       "4. 4\n",
       "5. 5\n",
       "\n",
       "\n"
      ],
      "text/plain": [
       "[1] 1 2 3 4 5"
      ]
     },
     "metadata": {},
     "output_type": "display_data"
    },
    {
     "data": {
      "text/html": [
       "<ol class=list-inline>\n",
       "\t<li>1</li>\n",
       "\t<li>2</li>\n",
       "\t<li>3</li>\n",
       "</ol>\n"
      ],
      "text/latex": [
       "\\begin{enumerate*}\n",
       "\\item 1\n",
       "\\item 2\n",
       "\\item 3\n",
       "\\end{enumerate*}\n"
      ],
      "text/markdown": [
       "1. 1\n",
       "2. 2\n",
       "3. 3\n",
       "\n",
       "\n"
      ],
      "text/plain": [
       "[1] 1 2 3"
      ]
     },
     "metadata": {},
     "output_type": "display_data"
    },
    {
     "data": {
      "text/html": [
       "<ol class=list-inline>\n",
       "\t<li>2</li>\n",
       "\t<li>3</li>\n",
       "\t<li>4</li>\n",
       "\t<li>5</li>\n",
       "</ol>\n"
      ],
      "text/latex": [
       "\\begin{enumerate*}\n",
       "\\item 2\n",
       "\\item 3\n",
       "\\item 4\n",
       "\\item 5\n",
       "\\end{enumerate*}\n"
      ],
      "text/markdown": [
       "1. 2\n",
       "2. 3\n",
       "3. 4\n",
       "4. 5\n",
       "\n",
       "\n"
      ],
      "text/plain": [
       "[1] 2 3 4 5"
      ]
     },
     "metadata": {},
     "output_type": "display_data"
    }
   ],
   "source": [
    "X[1]\n",
    "Y[3]"
   ]
  },
  {
   "cell_type": "markdown",
   "metadata": {},
   "source": [
    "#### And you can partition using :\n"
   ]
  },
  {
   "cell_type": "code",
   "execution_count": 113,
   "metadata": {},
   "outputs": [
    {
     "data": {
      "text/html": [
       "<ol class=list-inline>\n",
       "\t<li>1</li>\n",
       "\t<li>2</li>\n",
       "\t<li>3</li>\n",
       "\t<li>4</li>\n",
       "\t<li>5</li>\n",
       "</ol>\n"
      ],
      "text/latex": [
       "\\begin{enumerate*}\n",
       "\\item 1\n",
       "\\item 2\n",
       "\\item 3\n",
       "\\item 4\n",
       "\\item 5\n",
       "\\end{enumerate*}\n"
      ],
      "text/markdown": [
       "1. 1\n",
       "2. 2\n",
       "3. 3\n",
       "4. 4\n",
       "5. 5\n",
       "\n",
       "\n"
      ],
      "text/plain": [
       "[1] 1 2 3 4 5"
      ]
     },
     "metadata": {},
     "output_type": "display_data"
    },
    {
     "data": {
      "text/html": [
       "<ol class=list-inline>\n",
       "\t<li>10</li>\n",
       "\t<li>20</li>\n",
       "\t<li>30</li>\n",
       "</ol>\n"
      ],
      "text/latex": [
       "\\begin{enumerate*}\n",
       "\\item 10\n",
       "\\item 20\n",
       "\\item 30\n",
       "\\end{enumerate*}\n"
      ],
      "text/markdown": [
       "1. 10\n",
       "2. 20\n",
       "3. 30\n",
       "\n",
       "\n"
      ],
      "text/plain": [
       "[1] 10 20 30"
      ]
     },
     "metadata": {},
     "output_type": "display_data"
    },
    {
     "data": {
      "text/html": [
       "<ol class=list-inline>\n",
       "\t<li>2</li>\n",
       "\t<li>3</li>\n",
       "\t<li>4</li>\n",
       "\t<li>5</li>\n",
       "</ol>\n"
      ],
      "text/latex": [
       "\\begin{enumerate*}\n",
       "\\item 2\n",
       "\\item 3\n",
       "\\item 4\n",
       "\\item 5\n",
       "\\end{enumerate*}\n"
      ],
      "text/markdown": [
       "1. 2\n",
       "2. 3\n",
       "3. 4\n",
       "4. 5\n",
       "\n",
       "\n"
      ],
      "text/plain": [
       "[1] 2 3 4 5"
      ]
     },
     "metadata": {},
     "output_type": "display_data"
    }
   ],
   "source": [
    "X\n",
    "Y[1:3]\n",
    "X[-1]"
   ]
  },
  {
   "cell_type": "markdown",
   "metadata": {},
   "source": [
    "### All operations are vectorial, thus, work on vectors automatically"
   ]
  },
  {
   "cell_type": "code",
   "execution_count": 15,
   "metadata": {},
   "outputs": [
    {
     "data": {
      "text/html": [
       "<ol class=list-inline>\n",
       "\t<li>11</li>\n",
       "\t<li>22</li>\n",
       "\t<li>33</li>\n",
       "\t<li>44</li>\n",
       "\t<li>55</li>\n",
       "</ol>\n"
      ],
      "text/latex": [
       "\\begin{enumerate*}\n",
       "\\item 11\n",
       "\\item 22\n",
       "\\item 33\n",
       "\\item 44\n",
       "\\item 55\n",
       "\\end{enumerate*}\n"
      ],
      "text/markdown": [
       "1. 11\n",
       "2. 22\n",
       "3. 33\n",
       "4. 44\n",
       "5. 55\n",
       "\n",
       "\n"
      ],
      "text/plain": [
       "[1] 11 22 33 44 55"
      ]
     },
     "metadata": {},
     "output_type": "display_data"
    }
   ],
   "source": [
    "X+Y"
   ]
  },
  {
   "cell_type": "code",
   "execution_count": 16,
   "metadata": {},
   "outputs": [
    {
     "data": {
      "text/html": [
       "<ol class=list-inline>\n",
       "\t<li>10</li>\n",
       "\t<li>40</li>\n",
       "\t<li>90</li>\n",
       "\t<li>160</li>\n",
       "\t<li>250</li>\n",
       "</ol>\n"
      ],
      "text/latex": [
       "\\begin{enumerate*}\n",
       "\\item 10\n",
       "\\item 40\n",
       "\\item 90\n",
       "\\item 160\n",
       "\\item 250\n",
       "\\end{enumerate*}\n"
      ],
      "text/markdown": [
       "1. 10\n",
       "2. 40\n",
       "3. 90\n",
       "4. 160\n",
       "5. 250\n",
       "\n",
       "\n"
      ],
      "text/plain": [
       "[1]  10  40  90 160 250"
      ]
     },
     "metadata": {},
     "output_type": "display_data"
    }
   ],
   "source": [
    "X*Y"
   ]
  },
  {
   "cell_type": "code",
   "execution_count": 19,
   "metadata": {},
   "outputs": [
    {
     "data": {
      "text/html": [
       "<ol class=list-inline>\n",
       "\t<li>9</li>\n",
       "\t<li>18</li>\n",
       "\t<li>27</li>\n",
       "\t<li>36</li>\n",
       "\t<li>45</li>\n",
       "</ol>\n"
      ],
      "text/latex": [
       "\\begin{enumerate*}\n",
       "\\item 9\n",
       "\\item 18\n",
       "\\item 27\n",
       "\\item 36\n",
       "\\item 45\n",
       "\\end{enumerate*}\n"
      ],
      "text/markdown": [
       "1. 9\n",
       "2. 18\n",
       "3. 27\n",
       "4. 36\n",
       "5. 45\n",
       "\n",
       "\n"
      ],
      "text/plain": [
       "[1]  9 18 27 36 45"
      ]
     },
     "metadata": {},
     "output_type": "display_data"
    }
   ],
   "source": [
    "Y-X"
   ]
  },
  {
   "cell_type": "code",
   "execution_count": 47,
   "metadata": {},
   "outputs": [
    {
     "data": {
      "text/html": [
       "<table>\n",
       "<tbody>\n",
       "\t<tr><td>550</td></tr>\n",
       "</tbody>\n",
       "</table>\n"
      ],
      "text/latex": [
       "\\begin{tabular}{l}\n",
       "\t 550\\\\\n",
       "\\end{tabular}\n"
      ],
      "text/markdown": [
       "\n",
       "| 550 | \n",
       "\n",
       "\n"
      ],
      "text/plain": [
       "     [,1]\n",
       "[1,] 550 "
      ]
     },
     "metadata": {},
     "output_type": "display_data"
    }
   ],
   "source": [
    "X%*%Y"
   ]
  },
  {
   "cell_type": "markdown",
   "metadata": {},
   "source": [
    "### In statistics, X*Y is refered to as an interaction between X and Y"
   ]
  },
  {
   "cell_type": "markdown",
   "metadata": {},
   "source": [
    "## Matrixes\n",
    "\n",
    "### Matrixes are vectors of identical vectors, 2-dimensional tables of numbers"
   ]
  },
  {
   "cell_type": "code",
   "execution_count": 118,
   "metadata": {},
   "outputs": [
    {
     "data": {
      "text/html": [
       "<table>\n",
       "<tbody>\n",
       "\t<tr><td>1 </td><td> 2</td><td>10</td></tr>\n",
       "\t<tr><td>2 </td><td> 9</td><td>20</td></tr>\n",
       "\t<tr><td>3 </td><td>20</td><td>30</td></tr>\n",
       "</tbody>\n",
       "</table>\n"
      ],
      "text/latex": [
       "\\begin{tabular}{lll}\n",
       "\t 1  &  2 & 10\\\\\n",
       "\t 2  &  9 & 20\\\\\n",
       "\t 3  & 20 & 30\\\\\n",
       "\\end{tabular}\n"
      ],
      "text/markdown": [
       "\n",
       "| 1  |  2 | 10 | \n",
       "| 2  |  9 | 20 | \n",
       "| 3  | 20 | 30 | \n",
       "\n",
       "\n"
      ],
      "text/plain": [
       "     [,1] [,2] [,3]\n",
       "[1,] 1     2   10  \n",
       "[2,] 2     9   20  \n",
       "[3,] 3    20   30  "
      ]
     },
     "metadata": {},
     "output_type": "display_data"
    }
   ],
   "source": [
    "column_1 = c(1,2,3)\n",
    "column_2 = c(2,9,20)\n",
    "column_3 = c(10,20,30)\n",
    "matrix_m = matrix(c(column_1,column_2,column_3),nrow=3,ncol=3)\n",
    "matrix_m"
   ]
  },
  {
   "cell_type": "markdown",
   "metadata": {},
   "source": [
    "#### We use `matrix_m[ROW, COLUMN]` to point to individual values\n",
    "#### `matrix_m[ROW, ]` returns a whole row\n",
    "#### `matrix_m[,COLUMN ]` returns a whole column"
   ]
  },
  {
   "cell_type": "code",
   "execution_count": 141,
   "metadata": {},
   "outputs": [
    {
     "data": {
      "text/html": [
       "10"
      ],
      "text/latex": [
       "10"
      ],
      "text/markdown": [
       "10"
      ],
      "text/plain": [
       "[1] 10"
      ]
     },
     "metadata": {},
     "output_type": "display_data"
    }
   ],
   "source": [
    "matrix_m[1,3]"
   ]
  },
  {
   "cell_type": "code",
   "execution_count": 142,
   "metadata": {},
   "outputs": [
    {
     "data": {
      "text/html": [
       "<ol class=list-inline>\n",
       "\t<li>3</li>\n",
       "\t<li>20</li>\n",
       "\t<li>30</li>\n",
       "</ol>\n"
      ],
      "text/latex": [
       "\\begin{enumerate*}\n",
       "\\item 3\n",
       "\\item 20\n",
       "\\item 30\n",
       "\\end{enumerate*}\n"
      ],
      "text/markdown": [
       "1. 3\n",
       "2. 20\n",
       "3. 30\n",
       "\n",
       "\n"
      ],
      "text/plain": [
       "[1]  3 20 30"
      ]
     },
     "metadata": {},
     "output_type": "display_data"
    }
   ],
   "source": [
    "matrix_m[3,]"
   ]
  },
  {
   "cell_type": "code",
   "execution_count": 143,
   "metadata": {},
   "outputs": [
    {
     "data": {
      "text/html": [
       "<ol class=list-inline>\n",
       "\t<li>2</li>\n",
       "\t<li>9</li>\n",
       "\t<li>20</li>\n",
       "</ol>\n"
      ],
      "text/latex": [
       "\\begin{enumerate*}\n",
       "\\item 2\n",
       "\\item 9\n",
       "\\item 20\n",
       "\\end{enumerate*}\n"
      ],
      "text/markdown": [
       "1. 2\n",
       "2. 9\n",
       "3. 20\n",
       "\n",
       "\n"
      ],
      "text/plain": [
       "[1]  2  9 20"
      ]
     },
     "metadata": {},
     "output_type": "display_data"
    }
   ],
   "source": [
    "matrix_m[,2]"
   ]
  },
  {
   "cell_type": "markdown",
   "metadata": {},
   "source": [
    "You can even specify a vector of columns and rows to return!"
   ]
  },
  {
   "cell_type": "code",
   "execution_count": 288,
   "metadata": {},
   "outputs": [
    {
     "data": {
      "text/html": [
       "<table>\n",
       "<tbody>\n",
       "\t<tr><td>1 </td><td>2 </td><td>10</td></tr>\n",
       "\t<tr><td>2 </td><td>9 </td><td>20</td></tr>\n",
       "</tbody>\n",
       "</table>\n"
      ],
      "text/latex": [
       "\\begin{tabular}{lll}\n",
       "\t 1  & 2  & 10\\\\\n",
       "\t 2  & 9  & 20\\\\\n",
       "\\end{tabular}\n"
      ],
      "text/markdown": [
       "\n",
       "| 1  | 2  | 10 | \n",
       "| 2  | 9  | 20 | \n",
       "\n",
       "\n"
      ],
      "text/plain": [
       "     [,1] [,2] [,3]\n",
       "[1,] 1    2    10  \n",
       "[2,] 2    9    20  "
      ]
     },
     "metadata": {},
     "output_type": "display_data"
    }
   ],
   "source": [
    "matrix_m[c(1,2),]"
   ]
  },
  {
   "cell_type": "code",
   "execution_count": 151,
   "metadata": {},
   "outputs": [
    {
     "data": {
      "text/html": [
       "<table>\n",
       "<tbody>\n",
       "\t<tr><td>1 </td><td>10</td></tr>\n",
       "\t<tr><td>2 </td><td>20</td></tr>\n",
       "</tbody>\n",
       "</table>\n"
      ],
      "text/latex": [
       "\\begin{tabular}{ll}\n",
       "\t 1  & 10\\\\\n",
       "\t 2  & 20\\\\\n",
       "\\end{tabular}\n"
      ],
      "text/markdown": [
       "\n",
       "| 1  | 10 | \n",
       "| 2  | 20 | \n",
       "\n",
       "\n"
      ],
      "text/plain": [
       "     [,1] [,2]\n",
       "[1,] 1    10  \n",
       "[2,] 2    20  "
      ]
     },
     "metadata": {},
     "output_type": "display_data"
    }
   ],
   "source": [
    "matrix_m[c(1,2),c(1,3)]"
   ]
  },
  {
   "cell_type": "markdown",
   "metadata": {},
   "source": [
    "### Data Frames and Tibbles"
   ]
  },
  {
   "cell_type": "markdown",
   "metadata": {},
   "source": [
    "### Dataframes are matrixes where:\n",
    "\n",
    "#### 1. Columns can be heterogenous - i.e. each column can be of a different type\n",
    "#### 2. Columns have names.\n",
    "\n",
    "### Tibbles are a slightly improved version of data-frames. They can easily be converted between each other, and this generally happens without you knowing\n",
    "### We will call both data-frames and tibbles tables in this tutorial"
   ]
  },
  {
   "cell_type": "code",
   "execution_count": 295,
   "metadata": {},
   "outputs": [
    {
     "data": {
      "text/html": [
       "<table>\n",
       "<thead><tr><th scope=col>country</th><th scope=col>gdp</th><th scope=col>battles</th></tr></thead>\n",
       "<tbody>\n",
       "\t<tr><td>Afghanistan</td><td>2452       </td><td>64         </td></tr>\n",
       "\t<tr><td>Pakistan   </td><td>7932       </td><td>81         </td></tr>\n",
       "\t<tr><td>India      </td><td>6932       </td><td>12         </td></tr>\n",
       "\t<tr><td>Uzbekistan </td><td>9201       </td><td>20         </td></tr>\n",
       "</tbody>\n",
       "</table>\n"
      ],
      "text/latex": [
       "\\begin{tabular}{r|lll}\n",
       " country & gdp & battles\\\\\n",
       "\\hline\n",
       "\t Afghanistan & 2452        & 64         \\\\\n",
       "\t Pakistan    & 7932        & 81         \\\\\n",
       "\t India       & 6932        & 12         \\\\\n",
       "\t Uzbekistan  & 9201        & 20         \\\\\n",
       "\\end{tabular}\n"
      ],
      "text/markdown": [
       "\n",
       "country | gdp | battles | \n",
       "|---|---|---|---|\n",
       "| Afghanistan | 2452        | 64          | \n",
       "| Pakistan    | 7932        | 81          | \n",
       "| India       | 6932        | 12          | \n",
       "| Uzbekistan  | 9201        | 20          | \n",
       "\n",
       "\n"
      ],
      "text/plain": [
       "  country     gdp  battles\n",
       "1 Afghanistan 2452 64     \n",
       "2 Pakistan    7932 81     \n",
       "3 India       6932 12     \n",
       "4 Uzbekistan  9201 20     "
      ]
     },
     "metadata": {},
     "output_type": "display_data"
    }
   ],
   "source": [
    "country = c('Afghanistan','Pakistan','India','Uzbekistan')\n",
    "gdp = c(2452,7932,6932,9201)\n",
    "battles = c(64,81,12,20)\n",
    "asia_fighting = data.frame(country=country, gdp=gdp, battles=battles)\n",
    "asia_fighting"
   ]
  },
  {
   "cell_type": "code",
   "execution_count": 321,
   "metadata": {},
   "outputs": [
    {
     "data": {
      "text/html": [
       "<table>\n",
       "<thead><tr><th scope=col>gdp</th></tr></thead>\n",
       "<tbody>\n",
       "\t<tr><td>2452</td></tr>\n",
       "\t<tr><td>7932</td></tr>\n",
       "\t<tr><td>6932</td></tr>\n",
       "\t<tr><td>9201</td></tr>\n",
       "</tbody>\n",
       "</table>\n"
      ],
      "text/latex": [
       "\\begin{tabular}{r|l}\n",
       " gdp\\\\\n",
       "\\hline\n",
       "\t 2452\\\\\n",
       "\t 7932\\\\\n",
       "\t 6932\\\\\n",
       "\t 9201\\\\\n",
       "\\end{tabular}\n"
      ],
      "text/markdown": [
       "\n",
       "gdp | \n",
       "|---|---|---|---|\n",
       "| 2452 | \n",
       "| 7932 | \n",
       "| 6932 | \n",
       "| 9201 | \n",
       "\n",
       "\n"
      ],
      "text/plain": [
       "  gdp \n",
       "1 2452\n",
       "2 7932\n",
       "3 6932\n",
       "4 9201"
      ]
     },
     "metadata": {},
     "output_type": "display_data"
    },
    {
     "data": {
      "text/html": [
       "<table>\n",
       "<thead><tr><th scope=col>country</th><th scope=col>gdp</th><th scope=col>battles</th></tr></thead>\n",
       "<tbody>\n",
       "\t<tr><td>Afghanistan</td><td>2452       </td><td>64         </td></tr>\n",
       "</tbody>\n",
       "</table>\n"
      ],
      "text/latex": [
       "\\begin{tabular}{r|lll}\n",
       " country & gdp & battles\\\\\n",
       "\\hline\n",
       "\t Afghanistan & 2452        & 64         \\\\\n",
       "\\end{tabular}\n"
      ],
      "text/markdown": [
       "\n",
       "country | gdp | battles | \n",
       "|---|\n",
       "| Afghanistan | 2452        | 64          | \n",
       "\n",
       "\n"
      ],
      "text/plain": [
       "  country     gdp  battles\n",
       "1 Afghanistan 2452 64     "
      ]
     },
     "metadata": {},
     "output_type": "display_data"
    },
    {
     "data": {
      "text/html": [
       "<table>\n",
       "<thead><tr><th scope=col>country</th><th scope=col>gdp</th><th scope=col>battles</th></tr></thead>\n",
       "<tbody>\n",
       "\t<tr><td>Afghanistan</td><td>2452       </td><td>64         </td></tr>\n",
       "\t<tr><td>Pakistan   </td><td>7932       </td><td>81         </td></tr>\n",
       "</tbody>\n",
       "</table>\n"
      ],
      "text/latex": [
       "\\begin{tabular}{r|lll}\n",
       " country & gdp & battles\\\\\n",
       "\\hline\n",
       "\t Afghanistan & 2452        & 64         \\\\\n",
       "\t Pakistan    & 7932        & 81         \\\\\n",
       "\\end{tabular}\n"
      ],
      "text/markdown": [
       "\n",
       "country | gdp | battles | \n",
       "|---|---|\n",
       "| Afghanistan | 2452        | 64          | \n",
       "| Pakistan    | 7932        | 81          | \n",
       "\n",
       "\n"
      ],
      "text/plain": [
       "  country     gdp  battles\n",
       "1 Afghanistan 2452 64     \n",
       "2 Pakistan    7932 81     "
      ]
     },
     "metadata": {},
     "output_type": "display_data"
    },
    {
     "data": {
      "text/html": [
       "<table>\n",
       "<thead><tr><th scope=col>country</th><th scope=col>battles</th></tr></thead>\n",
       "<tbody>\n",
       "\t<tr><td>Afghanistan</td><td>64         </td></tr>\n",
       "\t<tr><td>Pakistan   </td><td>81         </td></tr>\n",
       "\t<tr><td>India      </td><td>12         </td></tr>\n",
       "\t<tr><td>Uzbekistan </td><td>20         </td></tr>\n",
       "</tbody>\n",
       "</table>\n"
      ],
      "text/latex": [
       "\\begin{tabular}{r|ll}\n",
       " country & battles\\\\\n",
       "\\hline\n",
       "\t Afghanistan & 64         \\\\\n",
       "\t Pakistan    & 81         \\\\\n",
       "\t India       & 12         \\\\\n",
       "\t Uzbekistan  & 20         \\\\\n",
       "\\end{tabular}\n"
      ],
      "text/markdown": [
       "\n",
       "country | battles | \n",
       "|---|---|---|---|\n",
       "| Afghanistan | 64          | \n",
       "| Pakistan    | 81          | \n",
       "| India       | 12          | \n",
       "| Uzbekistan  | 20          | \n",
       "\n",
       "\n"
      ],
      "text/plain": [
       "  country     battles\n",
       "1 Afghanistan 64     \n",
       "2 Pakistan    81     \n",
       "3 India       12     \n",
       "4 Uzbekistan  20     "
      ]
     },
     "metadata": {},
     "output_type": "display_data"
    },
    {
     "data": {
      "text/html": [
       "<table>\n",
       "<thead><tr><th></th><th scope=col>gdp</th><th scope=col>battles</th></tr></thead>\n",
       "<tbody>\n",
       "\t<tr><th scope=row>3</th><td>6932</td><td>12  </td></tr>\n",
       "</tbody>\n",
       "</table>\n"
      ],
      "text/latex": [
       "\\begin{tabular}{r|ll}\n",
       "  & gdp & battles\\\\\n",
       "\\hline\n",
       "\t3 & 6932 & 12  \\\\\n",
       "\\end{tabular}\n"
      ],
      "text/markdown": [
       "\n",
       "| <!--/--> | gdp | battles | \n",
       "|---|\n",
       "| 3 | 6932 | 12   | \n",
       "\n",
       "\n"
      ],
      "text/plain": [
       "  gdp  battles\n",
       "3 6932 12     "
      ]
     },
     "metadata": {},
     "output_type": "display_data"
    },
    {
     "data": {
      "text/html": [],
      "text/latex": [],
      "text/markdown": [],
      "text/plain": [
       " \n",
       "1\n",
       "2\n",
       "3\n",
       "4"
      ]
     },
     "metadata": {},
     "output_type": "display_data"
    }
   ],
   "source": [
    "## Indexing with a single [] will return a data frame IF POSSIBLE.\n",
    "## ONE INDEX RETURNS THE COLUMN\n",
    "asia_fighting['gdp']\n",
    "\n",
    "## TWO INDEXES ARE ALWAYS row, column:\n",
    "# First row:\n",
    "asia_fighting[1,]\n",
    "\n",
    "# First two rows:\n",
    "asia_fighting[c(1,2),]\n",
    "\n",
    "# First and third column\n",
    "asia_fighting[,c(1,3)]\n",
    "\n",
    "# Only GDP and Battles for third row\n",
    "asia_fighting[3,c(2,3)]\n",
    "\n",
    "# Only GDP and Battles for Uzbekistan\n",
    "asia_fighting['country'=='Uzbekistan']"
   ]
  },
  {
   "cell_type": "markdown",
   "metadata": {},
   "source": [
    "Calling with only ONE `[..]` will return a data frame if possible:\n",
    "\n",
    "Always call with TWO `[[...]]` to return a vector or a scalar (single-value) number. However, it must ONLY return 1 column OR 1 row OR 1 value!"
   ]
  },
  {
   "cell_type": "code",
   "execution_count": 343,
   "metadata": {},
   "outputs": [
    {
     "data": {
      "text/html": [
       "<table>\n",
       "<thead><tr><th scope=col>gdp</th></tr></thead>\n",
       "<tbody>\n",
       "\t<tr><td>2452</td></tr>\n",
       "\t<tr><td>7932</td></tr>\n",
       "\t<tr><td>6932</td></tr>\n",
       "\t<tr><td>9201</td></tr>\n",
       "</tbody>\n",
       "</table>\n"
      ],
      "text/latex": [
       "\\begin{tabular}{r|l}\n",
       " gdp\\\\\n",
       "\\hline\n",
       "\t 2452\\\\\n",
       "\t 7932\\\\\n",
       "\t 6932\\\\\n",
       "\t 9201\\\\\n",
       "\\end{tabular}\n"
      ],
      "text/markdown": [
       "\n",
       "gdp | \n",
       "|---|---|---|---|\n",
       "| 2452 | \n",
       "| 7932 | \n",
       "| 6932 | \n",
       "| 9201 | \n",
       "\n",
       "\n"
      ],
      "text/plain": [
       "  gdp \n",
       "1 2452\n",
       "2 7932\n",
       "3 6932\n",
       "4 9201"
      ]
     },
     "metadata": {},
     "output_type": "display_data"
    },
    {
     "data": {
      "text/html": [
       "<ol class=list-inline>\n",
       "\t<li>2452</li>\n",
       "\t<li>7932</li>\n",
       "\t<li>6932</li>\n",
       "\t<li>9201</li>\n",
       "</ol>\n"
      ],
      "text/latex": [
       "\\begin{enumerate*}\n",
       "\\item 2452\n",
       "\\item 7932\n",
       "\\item 6932\n",
       "\\item 9201\n",
       "\\end{enumerate*}\n"
      ],
      "text/markdown": [
       "1. 2452\n",
       "2. 7932\n",
       "3. 6932\n",
       "4. 9201\n",
       "\n",
       "\n"
      ],
      "text/plain": [
       "[1] 2452 7932 6932 9201"
      ]
     },
     "metadata": {},
     "output_type": "display_data"
    },
    {
     "data": {
      "text/html": [
       "<ol class=list-inline>\n",
       "\t<li>2452</li>\n",
       "\t<li>7932</li>\n",
       "\t<li>6932</li>\n",
       "\t<li>9201</li>\n",
       "</ol>\n"
      ],
      "text/latex": [
       "\\begin{enumerate*}\n",
       "\\item 2452\n",
       "\\item 7932\n",
       "\\item 6932\n",
       "\\item 9201\n",
       "\\end{enumerate*}\n"
      ],
      "text/markdown": [
       "1. 2452\n",
       "2. 7932\n",
       "3. 6932\n",
       "4. 9201\n",
       "\n",
       "\n"
      ],
      "text/plain": [
       "[1] 2452 7932 6932 9201"
      ]
     },
     "metadata": {},
     "output_type": "display_data"
    }
   ],
   "source": [
    "asia_fighting['gdp']\n",
    "asia_fighting[['gdp']]\n",
    "asia_fighting$gdp"
   ]
  },
  {
   "cell_type": "code",
   "execution_count": 344,
   "metadata": {},
   "outputs": [
    {
     "data": {
      "text/html": [
       "7932"
      ],
      "text/latex": [
       "7932"
      ],
      "text/markdown": [
       "7932"
      ],
      "text/plain": [
       "[1] 7932"
      ]
     },
     "metadata": {},
     "output_type": "display_data"
    }
   ],
   "source": [
    "asia_fighting[[2,2]]\n"
   ]
  },
  {
   "cell_type": "markdown",
   "metadata": {},
   "source": [
    "## EXTRABITS : LISTS!\n",
    "\n",
    "### Lists are vectors of heterogenous vectors"
   ]
  },
  {
   "cell_type": "code",
   "execution_count": 167,
   "metadata": {},
   "outputs": [
    {
     "data": {
      "text/html": [
       "<ol>\n",
       "\t<li><ol class=list-inline>\n",
       "\t<li>1</li>\n",
       "\t<li>2</li>\n",
       "\t<li>3</li>\n",
       "</ol>\n",
       "</li>\n",
       "\t<li>'a'</li>\n",
       "\t<li><ol class=list-inline>\n",
       "\t<li>TRUE</li>\n",
       "\t<li>FALSE</li>\n",
       "\t<li>TRUE</li>\n",
       "</ol>\n",
       "</li>\n",
       "\t<li><ol class=list-inline>\n",
       "\t<li>2.3</li>\n",
       "\t<li>5.9</li>\n",
       "</ol>\n",
       "</li>\n",
       "</ol>\n"
      ],
      "text/latex": [
       "\\begin{enumerate}\n",
       "\\item \\begin{enumerate*}\n",
       "\\item 1\n",
       "\\item 2\n",
       "\\item 3\n",
       "\\end{enumerate*}\n",
       "\n",
       "\\item 'a'\n",
       "\\item \\begin{enumerate*}\n",
       "\\item TRUE\n",
       "\\item FALSE\n",
       "\\item TRUE\n",
       "\\end{enumerate*}\n",
       "\n",
       "\\item \\begin{enumerate*}\n",
       "\\item 2.3\n",
       "\\item 5.9\n",
       "\\end{enumerate*}\n",
       "\n",
       "\\end{enumerate}\n"
      ],
      "text/markdown": [
       "1. 1. 1\n",
       "2. 2\n",
       "3. 3\n",
       "\n",
       "\n",
       "\n",
       "2. 'a'\n",
       "3. 1. TRUE\n",
       "2. FALSE\n",
       "3. TRUE\n",
       "\n",
       "\n",
       "\n",
       "4. 1. 2.3\n",
       "2. 5.9\n",
       "\n",
       "\n",
       "\n",
       "\n",
       "\n"
      ],
      "text/plain": [
       "[[1]]\n",
       "[1] 1 2 3\n",
       "\n",
       "[[2]]\n",
       "[1] \"a\"\n",
       "\n",
       "[[3]]\n",
       "[1]  TRUE FALSE  TRUE\n",
       "\n",
       "[[4]]\n",
       "[1] 2.3 5.9\n"
      ]
     },
     "metadata": {},
     "output_type": "display_data"
    }
   ],
   "source": [
    "list_1 <- list(\n",
    "  1:3, \n",
    "  \"a\", \n",
    "  c(TRUE, FALSE, TRUE), \n",
    "  c(2.3, 5.9)\n",
    ")list_1\n",
    "list_1"
   ]
  },
  {
   "cell_type": "code",
   "execution_count": 170,
   "metadata": {},
   "outputs": [
    {
     "data": {
      "text/html": [
       "<ol>\n",
       "\t<li><ol class=list-inline>\n",
       "\t<li>1</li>\n",
       "\t<li>2</li>\n",
       "\t<li>3</li>\n",
       "</ol>\n",
       "</li>\n",
       "</ol>\n"
      ],
      "text/latex": [
       "\\begin{enumerate}\n",
       "\\item \\begin{enumerate*}\n",
       "\\item 1\n",
       "\\item 2\n",
       "\\item 3\n",
       "\\end{enumerate*}\n",
       "\n",
       "\\end{enumerate}\n"
      ],
      "text/markdown": [
       "1. 1. 1\n",
       "2. 2\n",
       "3. 3\n",
       "\n",
       "\n",
       "\n",
       "\n",
       "\n"
      ],
      "text/plain": [
       "[[1]]\n",
       "[1] 1 2 3\n"
      ]
     },
     "metadata": {},
     "output_type": "display_data"
    }
   ],
   "source": [
    "list_1[1]"
   ]
  },
  {
   "cell_type": "markdown",
   "metadata": {},
   "source": [
    "## EXTRABITS : MATRIX OPERATIONS!\n",
    "\n",
    "Operations also work on matrixes, as matrixes are also vectors!"
   ]
  },
  {
   "cell_type": "code",
   "execution_count": 41,
   "metadata": {},
   "outputs": [
    {
     "data": {
      "text/html": [
       "<ol class=list-inline>\n",
       "\t<li>1</li>\n",
       "\t<li>2</li>\n",
       "\t<li>-1</li>\n",
       "</ol>\n"
      ],
      "text/latex": [
       "\\begin{enumerate*}\n",
       "\\item 1\n",
       "\\item 2\n",
       "\\item -1\n",
       "\\end{enumerate*}\n"
      ],
      "text/markdown": [
       "1. 1\n",
       "2. 2\n",
       "3. -1\n",
       "\n",
       "\n"
      ],
      "text/plain": [
       "[1]  1  2 -1"
      ]
     },
     "metadata": {},
     "output_type": "display_data"
    },
    {
     "data": {
      "text/html": [
       "<table>\n",
       "<tbody>\n",
       "\t<tr><td>10</td><td>40</td></tr>\n",
       "\t<tr><td>20</td><td>50</td></tr>\n",
       "\t<tr><td>30</td><td>60</td></tr>\n",
       "</tbody>\n",
       "</table>\n"
      ],
      "text/latex": [
       "\\begin{tabular}{ll}\n",
       "\t 10 & 40\\\\\n",
       "\t 20 & 50\\\\\n",
       "\t 30 & 60\\\\\n",
       "\\end{tabular}\n"
      ],
      "text/markdown": [
       "\n",
       "| 10 | 40 | \n",
       "| 20 | 50 | \n",
       "| 30 | 60 | \n",
       "\n",
       "\n"
      ],
      "text/plain": [
       "     [,1] [,2]\n",
       "[1,] 10   40  \n",
       "[2,] 20   50  \n",
       "[3,] 30   60  "
      ]
     },
     "metadata": {},
     "output_type": "display_data"
    }
   ],
   "source": [
    "X = c(1,2,-1)\n",
    "Y = matrix(c(10,20,30,40,50,60), nrow=3, ncol=2)\n",
    "\n",
    "X\n",
    "Y"
   ]
  },
  {
   "cell_type": "code",
   "execution_count": 42,
   "metadata": {},
   "outputs": [
    {
     "data": {
      "text/html": [
       "<table>\n",
       "<tbody>\n",
       "\t<tr><td> 10</td><td> 40</td></tr>\n",
       "\t<tr><td> 40</td><td>100</td></tr>\n",
       "\t<tr><td>-30</td><td>-60</td></tr>\n",
       "</tbody>\n",
       "</table>\n"
      ],
      "text/latex": [
       "\\begin{tabular}{ll}\n",
       "\t  10 &  40\\\\\n",
       "\t  40 & 100\\\\\n",
       "\t -30 & -60\\\\\n",
       "\\end{tabular}\n"
      ],
      "text/markdown": [
       "\n",
       "|  10 |  40 | \n",
       "|  40 | 100 | \n",
       "| -30 | -60 | \n",
       "\n",
       "\n"
      ],
      "text/plain": [
       "     [,1] [,2]\n",
       "[1,]  10   40 \n",
       "[2,]  40  100 \n",
       "[3,] -30  -60 "
      ]
     },
     "metadata": {},
     "output_type": "display_data"
    }
   ],
   "source": [
    "X*Y"
   ]
  },
  {
   "cell_type": "code",
   "execution_count": 45,
   "metadata": {},
   "outputs": [
    {
     "data": {
      "text/html": [
       "<table>\n",
       "<tbody>\n",
       "\t<tr><td>20</td><td>80</td></tr>\n",
       "</tbody>\n",
       "</table>\n"
      ],
      "text/latex": [
       "\\begin{tabular}{ll}\n",
       "\t 20 & 80\\\\\n",
       "\\end{tabular}\n"
      ],
      "text/markdown": [
       "\n",
       "| 20 | 80 | \n",
       "\n",
       "\n"
      ],
      "text/plain": [
       "     [,1] [,2]\n",
       "[1,] 20   80  "
      ]
     },
     "metadata": {},
     "output_type": "display_data"
    }
   ],
   "source": [
    "X%*%Y"
   ]
  },
  {
   "cell_type": "code",
   "execution_count": 28,
   "metadata": {},
   "outputs": [
    {
     "name": "stdout",
     "output_type": "stream",
     "text": [
      "[1] \"X:\"\n"
     ]
    },
    {
     "data": {
      "text/html": [
       "<table>\n",
       "<tbody>\n",
       "\t<tr><td>1</td><td>3</td></tr>\n",
       "\t<tr><td>2</td><td>4</td></tr>\n",
       "</tbody>\n",
       "</table>\n"
      ],
      "text/latex": [
       "\\begin{tabular}{ll}\n",
       "\t 1 & 3\\\\\n",
       "\t 2 & 4\\\\\n",
       "\\end{tabular}\n"
      ],
      "text/markdown": [
       "\n",
       "| 1 | 3 | \n",
       "| 2 | 4 | \n",
       "\n",
       "\n"
      ],
      "text/plain": [
       "     [,1] [,2]\n",
       "[1,] 1    3   \n",
       "[2,] 2    4   "
      ]
     },
     "metadata": {},
     "output_type": "display_data"
    },
    {
     "name": "stdout",
     "output_type": "stream",
     "text": [
      "[1] \"Y:\"\n"
     ]
    },
    {
     "data": {
      "text/html": [
       "<table>\n",
       "<tbody>\n",
       "\t<tr><td> 5 </td><td> 50</td></tr>\n",
       "\t<tr><td>10 </td><td>100</td></tr>\n",
       "</tbody>\n",
       "</table>\n"
      ],
      "text/latex": [
       "\\begin{tabular}{ll}\n",
       "\t  5  &  50\\\\\n",
       "\t 10  & 100\\\\\n",
       "\\end{tabular}\n"
      ],
      "text/markdown": [
       "\n",
       "|  5  |  50 | \n",
       "| 10  | 100 | \n",
       "\n",
       "\n"
      ],
      "text/plain": [
       "     [,1] [,2]\n",
       "[1,]  5    50 \n",
       "[2,] 10   100 "
      ]
     },
     "metadata": {},
     "output_type": "display_data"
    }
   ],
   "source": [
    "X = matrix(c(1,2,3,4), nrow=2, ncol=2)\n",
    "Y = matrix(c(5,10,50,100), nrow=2, ncol=2)\n",
    "\n",
    "print('X:')\n",
    "X\n",
    "\n",
    "print('Y:')\n",
    "Y"
   ]
  },
  {
   "cell_type": "code",
   "execution_count": 33,
   "metadata": {},
   "outputs": [
    {
     "name": "stdout",
     "output_type": "stream",
     "text": [
      "[1] \"X+Y:\"\n"
     ]
    },
    {
     "data": {
      "text/html": [
       "<table>\n",
       "<tbody>\n",
       "\t<tr><td> 6 </td><td> 53</td></tr>\n",
       "\t<tr><td>12 </td><td>104</td></tr>\n",
       "</tbody>\n",
       "</table>\n"
      ],
      "text/latex": [
       "\\begin{tabular}{ll}\n",
       "\t  6  &  53\\\\\n",
       "\t 12  & 104\\\\\n",
       "\\end{tabular}\n"
      ],
      "text/markdown": [
       "\n",
       "|  6  |  53 | \n",
       "| 12  | 104 | \n",
       "\n",
       "\n"
      ],
      "text/plain": [
       "     [,1] [,2]\n",
       "[1,]  6    53 \n",
       "[2,] 12   104 "
      ]
     },
     "metadata": {},
     "output_type": "display_data"
    }
   ],
   "source": [
    "print(\"X+Y:\")\n",
    "X+Y\n"
   ]
  },
  {
   "cell_type": "code",
   "execution_count": 39,
   "metadata": {},
   "outputs": [
    {
     "name": "stdout",
     "output_type": "stream",
     "text": [
      "[1] \"Do you remember your highschool algebra?\"\n",
      "[1] \"X*Y does the element :\"\n"
     ]
    },
    {
     "data": {
      "text/html": [
       "<table>\n",
       "<tbody>\n",
       "\t<tr><td> 5 </td><td>150</td></tr>\n",
       "\t<tr><td>20 </td><td>400</td></tr>\n",
       "</tbody>\n",
       "</table>\n"
      ],
      "text/latex": [
       "\\begin{tabular}{ll}\n",
       "\t  5  & 150\\\\\n",
       "\t 20  & 400\\\\\n",
       "\\end{tabular}\n"
      ],
      "text/markdown": [
       "\n",
       "|  5  | 150 | \n",
       "| 20  | 400 | \n",
       "\n",
       "\n"
      ],
      "text/plain": [
       "     [,1] [,2]\n",
       "[1,]  5   150 \n",
       "[2,] 20   400 "
      ]
     },
     "metadata": {},
     "output_type": "display_data"
    },
    {
     "data": {
      "text/html": [
       "<table>\n",
       "<tbody>\n",
       "\t<tr><td>35 </td><td>350</td></tr>\n",
       "\t<tr><td>50 </td><td>500</td></tr>\n",
       "</tbody>\n",
       "</table>\n"
      ],
      "text/latex": [
       "\\begin{tabular}{ll}\n",
       "\t 35  & 350\\\\\n",
       "\t 50  & 500\\\\\n",
       "\\end{tabular}\n"
      ],
      "text/markdown": [
       "\n",
       "| 35  | 350 | \n",
       "| 50  | 500 | \n",
       "\n",
       "\n"
      ],
      "text/plain": [
       "     [,1] [,2]\n",
       "[1,] 35   350 \n",
       "[2,] 50   500 "
      ]
     },
     "metadata": {},
     "output_type": "display_data"
    }
   ],
   "source": [
    "print (\"Do you remember your highschool algebra?\") \n",
    "print(\"X*Y does the element :\")\n",
    "X*Y\n",
    "X%*%Y"
   ]
  },
  {
   "cell_type": "markdown",
   "metadata": {},
   "source": [
    " "
   ]
  },
  {
   "cell_type": "markdown",
   "metadata": {},
   "source": [
    " "
   ]
  },
  {
   "cell_type": "markdown",
   "metadata": {},
   "source": [
    "# 3. Basic Programming technique\n",
    "\n",
    "#### Programming means making a machine think.\n",
    "#### Thinking (in this context) three things:\n",
    "\n",
    "  1. Calculate stuff (e.g. 4*2, 2+10, mean(x), sd(y)). By calculate we mean simple stuff (addition, subtraction, division, multiplication and simple logic, i.e. AND, OR, NOT)!. This is called in CS-lingo \"arithmetic\".\n",
    "  2. Store results in memory, and retrieve them for later use. This is called \"assignment\".\n",
    "  2. make decisions (given some alternatives, pick 1, or more). This is called \"logic\".\n",
    "\n",
    "#### And computers can only make TWO kinds of decisions:\n",
    "  1. Choose, based on some logic, between doing something or something else. This is called \"branching\"\n",
    "  2. Choose, based on some logic, to repeat an action a number of times (or until a condition is met). This is called \"looping\".\n",
    "  All these decisions do one thing and one thing only - change the way the program is run (i.e. the program flow)\n",
    "\n",
    "#### So all in all, a computer can only do four things <font color=\"red\"><u>Arithmetic, Assignment, Branch, Loop</u></font>\n",
    "\n",
    "EXTRA BIT: This can actually be reduced further - as computers actually do even less. How far can we go?\n",
    "\n",
    "\n",
    "## Program Flow\n",
    "\n",
    "![flow](img/pf_run.png)"
   ]
  },
  {
   "cell_type": "markdown",
   "metadata": {},
   "source": [
    "![if](img/pf_if.png)"
   ]
  },
  {
   "cell_type": "code",
   "execution_count": 49,
   "metadata": {},
   "outputs": [
    {
     "name": "stdout",
     "output_type": "stream",
     "text": [
      "[1] 8\n"
     ]
    }
   ],
   "source": [
    "a <-64\n",
    "#a <- -10\n",
    "if (a>0) \n",
    "{\n",
    "  print (sqrt(a))\n",
    "} else {\n",
    "  print (\"I can't compute a square root of a negative number!\")\n",
    "}"
   ]
  },
  {
   "cell_type": "markdown",
   "metadata": {},
   "source": [
    "![for](img/pf_for.png)"
   ]
  },
  {
   "cell_type": "code",
   "execution_count": 59,
   "metadata": {},
   "outputs": [
    {
     "name": "stdout",
     "output_type": "stream",
     "text": [
      "[1] \"******\"\n",
      "[1] 1\n",
      "[1] 2\n",
      "[1] \"******\"\n",
      "[1] 2\n",
      "[1] 6\n",
      "[1] \"******\"\n",
      "[1] 3\n",
      "[1] 14\n",
      "[1] \"******\"\n",
      "[1] 4\n",
      "[1] 30\n",
      "[1] \"******\"\n",
      "[1] 5\n",
      "[1] 62\n",
      "[1] \"DoneLoop\"\n",
      "[1] 620\n"
     ]
    }
   ],
   "source": [
    "x <- 0\n",
    "for (i in 1:5)\n",
    "    {\n",
    "    x <- x + 2^i\n",
    "    print('******')\n",
    "    print(i)\n",
    "    print(x)\n",
    "    }\n",
    "print(\"DoneLoop\")\n",
    "x = x*10\n",
    "print(x)"
   ]
  },
  {
   "cell_type": "markdown",
   "metadata": {},
   "source": [
    "![for](img/pf_for2.png)"
   ]
  },
  {
   "cell_type": "code",
   "execution_count": 60,
   "metadata": {},
   "outputs": [
    {
     "name": "stdout",
     "output_type": "stream",
     "text": [
      "[1] \"******\"\n",
      "[1] 2\n",
      "[1] 4\n",
      "[1] \"******\"\n",
      "[1] 5\n",
      "[1] 36\n",
      "[1] \"******\"\n",
      "[1] 10\n",
      "[1] 1060\n",
      "[1] \"******\"\n",
      "[1] 3\n",
      "[1] 1068\n",
      "[1] \"DoneLoop\"\n",
      "[1] 10680\n"
     ]
    }
   ],
   "source": [
    "vect = c(2,5,10,3)\n",
    "x <- 0\n",
    "for (i in vect)\n",
    "    {\n",
    "    x <- x + 2^i\n",
    "    print('******')\n",
    "    print(i)\n",
    "    print(x)\n",
    "    }\n",
    "print(\"DoneLoop\")\n",
    "x = x*10\n",
    "print(x)"
   ]
  },
  {
   "cell_type": "markdown",
   "metadata": {},
   "source": [
    "![for](img/pf_forfor.png)"
   ]
  },
  {
   "cell_type": "code",
   "execution_count": 171,
   "metadata": {},
   "outputs": [
    {
     "data": {
      "text/html": [
       "<table>\n",
       "<tbody>\n",
       "\t<tr><td>  1</td><td> 20</td><td> 45</td></tr>\n",
       "\t<tr><td>  2</td><td> 30</td><td> 10</td></tr>\n",
       "\t<tr><td>  3</td><td> 15</td><td>100</td></tr>\n",
       "\t<tr><td>-10</td><td>-30</td><td>100</td></tr>\n",
       "</tbody>\n",
       "</table>\n"
      ],
      "text/latex": [
       "\\begin{tabular}{lll}\n",
       "\t   1 &  20 &  45\\\\\n",
       "\t   2 &  30 &  10\\\\\n",
       "\t   3 &  15 & 100\\\\\n",
       "\t -10 & -30 & 100\\\\\n",
       "\\end{tabular}\n"
      ],
      "text/markdown": [
       "\n",
       "|   1 |  20 |  45 | \n",
       "|   2 |  30 |  10 | \n",
       "|   3 |  15 | 100 | \n",
       "| -10 | -30 | 100 | \n",
       "\n",
       "\n"
      ],
      "text/plain": [
       "     [,1] [,2] [,3]\n",
       "[1,]   1   20   45 \n",
       "[2,]   2   30   10 \n",
       "[3,]   3   15  100 \n",
       "[4,] -10  -30  100 "
      ]
     },
     "metadata": {},
     "output_type": "display_data"
    },
    {
     "data": {
      "text/html": [
       "4"
      ],
      "text/latex": [
       "4"
      ],
      "text/markdown": [
       "4"
      ],
      "text/plain": [
       "[1] 4"
      ]
     },
     "metadata": {},
     "output_type": "display_data"
    },
    {
     "data": {
      "text/html": [
       "3"
      ],
      "text/latex": [
       "3"
      ],
      "text/markdown": [
       "3"
      ],
      "text/plain": [
       "[1] 3"
      ]
     },
     "metadata": {},
     "output_type": "display_data"
    },
    {
     "name": "stdout",
     "output_type": "stream",
     "text": [
      "[1] 1\n",
      "[1] 20\n",
      "[1] 45\n",
      "[1] 2\n",
      "[1] 30\n",
      "[1] 10\n",
      "[1] 3\n",
      "[1] 15\n",
      "[1] 100\n",
      "[1] -10\n",
      "[1] -30\n",
      "[1] 100\n"
     ]
    }
   ],
   "source": [
    "a=matrix(c(1,2,3,-10,20,+30,15,-30,45,10,100,100),nrow=4, ncol=3)\n",
    "a\n",
    "nrow(a)\n",
    "ncol(a)\n",
    "\n",
    "for (i in 1:nrow(a)) \n",
    "{\n",
    "    for (j in 1:ncol(a))\n",
    "     {\n",
    "         print (a[i,j])\n",
    "     }\n",
    "}"
   ]
  },
  {
   "cell_type": "markdown",
   "metadata": {},
   "source": [
    "## Functions"
   ]
  },
  {
   "cell_type": "markdown",
   "metadata": {},
   "source": [
    "![func](img/pf_func.png)"
   ]
  },
  {
   "cell_type": "markdown",
   "metadata": {},
   "source": [
    "#Anything looking like `XXXX(stuff)` is a function call!\n",
    "\n",
    "`glm(y~X)` is a function call to the function `glm`. Thus, we don't need to write all the code doing regression each time we want to do a regression!"
   ]
  },
  {
   "cell_type": "code",
   "execution_count": 373,
   "metadata": {},
   "outputs": [
    {
     "data": {
      "text/html": [
       "31"
      ],
      "text/latex": [
       "31"
      ],
      "text/markdown": [
       "31"
      ],
      "text/plain": [
       "[1] 31"
      ]
     },
     "metadata": {},
     "output_type": "display_data"
    },
    {
     "data": {
      "text/html": [
       "28"
      ],
      "text/latex": [
       "28"
      ],
      "text/markdown": [
       "28"
      ],
      "text/plain": [
       "[1] 28"
      ]
     },
     "metadata": {},
     "output_type": "display_data"
    }
   ],
   "source": [
    "last_day_in_month <- function (month)\n",
    "  { \n",
    "    months = c(31,28,31,30,31,30,31,31,30,30,30,31)\n",
    "    return (months[month]) \n",
    "  }\n",
    "\n",
    "last_day_in_month(3)\n",
    "last_day_in_month(2)"
   ]
  },
  {
   "cell_type": "code",
   "execution_count": 374,
   "metadata": {},
   "outputs": [
    {
     "data": {
      "text/html": [
       "<table>\n",
       "<thead><tr><th scope=col>battles</th><th scope=col>month</th><th scope=col>battles_by_day</th></tr></thead>\n",
       "<tbody>\n",
       "\t<tr><td>31</td><td>1 </td><td>NA</td></tr>\n",
       "\t<tr><td>28</td><td>2 </td><td>NA</td></tr>\n",
       "\t<tr><td>63</td><td>2 </td><td>NA</td></tr>\n",
       "\t<tr><td>62</td><td>3 </td><td>NA</td></tr>\n",
       "\t<tr><td>11</td><td>5 </td><td>NA</td></tr>\n",
       "\t<tr><td>32</td><td>6 </td><td>NA</td></tr>\n",
       "\t<tr><td>53</td><td>2 </td><td>NA</td></tr>\n",
       "\t<tr><td> 2</td><td>3 </td><td>NA</td></tr>\n",
       "</tbody>\n",
       "</table>\n"
      ],
      "text/latex": [
       "\\begin{tabular}{r|lll}\n",
       " battles & month & battles\\_by\\_day\\\\\n",
       "\\hline\n",
       "\t 31 & 1  & NA\\\\\n",
       "\t 28 & 2  & NA\\\\\n",
       "\t 63 & 2  & NA\\\\\n",
       "\t 62 & 3  & NA\\\\\n",
       "\t 11 & 5  & NA\\\\\n",
       "\t 32 & 6  & NA\\\\\n",
       "\t 53 & 2  & NA\\\\\n",
       "\t  2 & 3  & NA\\\\\n",
       "\\end{tabular}\n"
      ],
      "text/markdown": [
       "\n",
       "battles | month | battles_by_day | \n",
       "|---|---|---|---|---|---|---|---|\n",
       "| 31 | 1  | NA | \n",
       "| 28 | 2  | NA | \n",
       "| 63 | 2  | NA | \n",
       "| 62 | 3  | NA | \n",
       "| 11 | 5  | NA | \n",
       "| 32 | 6  | NA | \n",
       "| 53 | 2  | NA | \n",
       "|  2 | 3  | NA | \n",
       "\n",
       "\n"
      ],
      "text/plain": [
       "  battles month battles_by_day\n",
       "1 31      1     NA            \n",
       "2 28      2     NA            \n",
       "3 63      2     NA            \n",
       "4 62      3     NA            \n",
       "5 11      5     NA            \n",
       "6 32      6     NA            \n",
       "7 53      2     NA            \n",
       "8  2      3     NA            "
      ]
     },
     "metadata": {},
     "output_type": "display_data"
    },
    {
     "data": {
      "text/html": [
       "<table>\n",
       "<thead><tr><th scope=col>battles</th><th scope=col>month</th><th scope=col>battles_by_day</th></tr></thead>\n",
       "<tbody>\n",
       "\t<tr><td>31        </td><td>1         </td><td>1.00000000</td></tr>\n",
       "\t<tr><td>28        </td><td>2         </td><td>1.00000000</td></tr>\n",
       "\t<tr><td>63        </td><td>2         </td><td>2.25000000</td></tr>\n",
       "\t<tr><td>62        </td><td>3         </td><td>2.00000000</td></tr>\n",
       "\t<tr><td>11        </td><td>5         </td><td>0.35483871</td></tr>\n",
       "\t<tr><td>32        </td><td>6         </td><td>1.06666667</td></tr>\n",
       "\t<tr><td>53        </td><td>2         </td><td>1.89285714</td></tr>\n",
       "\t<tr><td> 2        </td><td>3         </td><td>0.06451613</td></tr>\n",
       "</tbody>\n",
       "</table>\n"
      ],
      "text/latex": [
       "\\begin{tabular}{r|lll}\n",
       " battles & month & battles\\_by\\_day\\\\\n",
       "\\hline\n",
       "\t 31         & 1          & 1.00000000\\\\\n",
       "\t 28         & 2          & 1.00000000\\\\\n",
       "\t 63         & 2          & 2.25000000\\\\\n",
       "\t 62         & 3          & 2.00000000\\\\\n",
       "\t 11         & 5          & 0.35483871\\\\\n",
       "\t 32         & 6          & 1.06666667\\\\\n",
       "\t 53         & 2          & 1.89285714\\\\\n",
       "\t  2         & 3          & 0.06451613\\\\\n",
       "\\end{tabular}\n"
      ],
      "text/markdown": [
       "\n",
       "battles | month | battles_by_day | \n",
       "|---|---|---|---|---|---|---|---|\n",
       "| 31         | 1          | 1.00000000 | \n",
       "| 28         | 2          | 1.00000000 | \n",
       "| 63         | 2          | 2.25000000 | \n",
       "| 62         | 3          | 2.00000000 | \n",
       "| 11         | 5          | 0.35483871 | \n",
       "| 32         | 6          | 1.06666667 | \n",
       "| 53         | 2          | 1.89285714 | \n",
       "|  2         | 3          | 0.06451613 | \n",
       "\n",
       "\n"
      ],
      "text/plain": [
       "  battles month battles_by_day\n",
       "1 31      1     1.00000000    \n",
       "2 28      2     1.00000000    \n",
       "3 63      2     2.25000000    \n",
       "4 62      3     2.00000000    \n",
       "5 11      5     0.35483871    \n",
       "6 32      6     1.06666667    \n",
       "7 53      2     1.89285714    \n",
       "8  2      3     0.06451613    "
      ]
     },
     "metadata": {},
     "output_type": "display_data"
    }
   ],
   "source": [
    "battles_by_month <- data.frame(battles=c(31,28,63,62,11,32,53,2), month=c(1,2,2,3,5,6,2,3), battles_by_day=NA)\n",
    "battles_by_month\n",
    "\n",
    "for (i in 1:nrow(battles_by_month))\n",
    "{\n",
    "  battles_by_month[i,'battles_by_day'] <- battles_by_month[i,'battles']/last_day_in_month(battles_by_month[i,'month'])\n",
    "}\n",
    "battles_by_month"
   ]
  },
  {
   "cell_type": "code",
   "execution_count": 388,
   "metadata": {},
   "outputs": [
    {
     "name": "stdout",
     "output_type": "stream",
     "text": [
      "[1] \"ab.beta1\"\n"
     ]
    },
    {
     "data": {
      "text/html": [
       "0.0438829148773397"
      ],
      "text/latex": [
       "0.0438829148773397"
      ],
      "text/markdown": [
       "0.0438829148773397"
      ],
      "text/plain": [
       "[1] 0.04388291"
      ]
     },
     "metadata": {},
     "output_type": "display_data"
    },
    {
     "name": "stdout",
     "output_type": "stream",
     "text": [
      "[1] \"mse.beta1\"\n"
     ]
    },
    {
     "data": {
      "text/html": [
       "0.00308458707756832"
      ],
      "text/latex": [
       "0.00308458707756832"
      ],
      "text/markdown": [
       "0.00308458707756832"
      ],
      "text/plain": [
       "[1] 0.003084587"
      ]
     },
     "metadata": {},
     "output_type": "display_data"
    },
    {
     "name": "stdout",
     "output_type": "stream",
     "text": [
      "[1] \"sd.beta1\"\n"
     ]
    },
    {
     "data": {
      "text/html": [
       "0.0555586324535788"
      ],
      "text/latex": [
       "0.0555586324535788"
      ],
      "text/markdown": [
       "0.0555586324535788"
      ],
      "text/plain": [
       "[1] 0.05555863"
      ]
     },
     "metadata": {},
     "output_type": "display_data"
    },
    {
     "name": "stdout",
     "output_type": "stream",
     "text": [
      "[1] \"mean.se.beta1\"\n"
     ]
    },
    {
     "data": {
      "text/html": [
       "0.0552429476834532"
      ],
      "text/latex": [
       "0.0552429476834532"
      ],
      "text/markdown": [
       "0.0552429476834532"
      ],
      "text/plain": [
       "[1] 0.05524295"
      ]
     },
     "metadata": {},
     "output_type": "display_data"
    }
   ],
   "source": [
    "## Let's walk you through some of the code\n",
    "\n",
    "reps <- 1000 # Set the number of repetitions at the top of the script\n",
    "par.est <- matrix(NA, nrow = reps, ncol = 4) # Empty matrix to store the\n",
    "# estimates \n",
    "b0 <- .2 # True value for the intercept\n",
    "b1 <- .5 # True value for the slope\n",
    "n <- 1000 # Sample size\n",
    "X <- runif(n, -1, 1) # Create a sample of n observations on the \n",
    "# independent variable X\n",
    "\n",
    "for(i in 1:reps){ # Start the loop\n",
    "  Y <- b0 + b1*X + rnorm(n, 0, 1) # The true DGP, with N(0, 1) error\n",
    "  model <- lm(Y ~ X) # Estimate OLS model\n",
    "  vcv <- vcov(model) # Variance-covariance matrix\n",
    "  par.est[i, 1] <- model$coef[1] # Put the estimate for the intercept\n",
    "  # in the first column\n",
    "  par.est[i, 2] <- model$coef[2] # Put the estimate for the coefficient on\n",
    "  # X in the second column\n",
    "  par.est[i, 3] <- sqrt(diag(vcv)[1]) # SE of the intercept\n",
    "  par.est[i, 4] <- sqrt(diag(vcv)[2]) # SE of the coefficient on X\n",
    "} # End the loop\n",
    "\n",
    "# Coefficients\n",
    "# Absolute Bias\n",
    "ab.beta0 <- mean(abs(par.est[ , 1] - b0))\n",
    "ab.beta1 <- mean(abs(par.est[ , 2] - b1)) \n",
    "\n",
    "print('ab.beta1')\n",
    "ab.beta1\n",
    "\n",
    "# MSE\n",
    "mse.beta0 <- mean((par.est[ , 1] - b0)^2)\n",
    "mse.beta1 <- mean((par.est[ , 2] - b1)^2)\n",
    "\n",
    "print('mse.beta1')\n",
    "mse.beta1\n",
    "\n",
    "# Standard Errors\n",
    "# Standard Deviation\n",
    "sd.beta0 <- sd(par.est[ , 1]) # SD of the intercept estimates\n",
    "mean.se.beta0 <- mean(par.est[ , 3]) # Mean SE of the intercept\n",
    "\n",
    "sd.beta1 <- sd(par.est[ , 2]) # SD of the coefficient on X estimates\n",
    "mean.se.beta1 <- mean(par.est[ , 4]) # Mean SE of the coefficient on X\n",
    "\n",
    "print('sd.beta1')\n",
    "sd.beta1\n",
    "\n",
    "print('mean.se.beta1')\n",
    "mean.se.beta1"
   ]
  },
  {
   "cell_type": "code",
   "execution_count": 389,
   "metadata": {},
   "outputs": [
    {
     "data": {
      "text/html": [
       "0.887135009746999"
      ],
      "text/latex": [
       "0.887135009746999"
      ],
      "text/markdown": [
       "0.887135009746999"
      ],
      "text/plain": [
       "[1] 0.887135"
      ]
     },
     "metadata": {},
     "output_type": "display_data"
    }
   ],
   "source": [
    "runif(1, -1, 1)\n",
    "# THIS IS A FUNCTION DRAWING RANDOM NUMBERS\n",
    "# first argument = how many\n",
    "# second argument = from where\n",
    "# third argument = to where\n",
    "# other functions are plot(), glm()..."
   ]
  },
  {
   "cell_type": "code",
   "execution_count": 384,
   "metadata": {},
   "outputs": [
    {
     "data": {
      "text/html": [
       "<ol class=list-inline>\n",
       "\t<li>-0.806586740072817</li>\n",
       "\t<li>0.226395921315998</li>\n",
       "</ol>\n"
      ],
      "text/latex": [
       "\\begin{enumerate*}\n",
       "\\item -0.806586740072817\n",
       "\\item 0.226395921315998\n",
       "\\end{enumerate*}\n"
      ],
      "text/markdown": [
       "1. -0.806586740072817\n",
       "2. 0.226395921315998\n",
       "\n",
       "\n"
      ],
      "text/plain": [
       "[1] -0.8065867  0.2263959"
      ]
     },
     "metadata": {},
     "output_type": "display_data"
    }
   ],
   "source": [
    "runif(2, -1, 1)"
   ]
  },
  {
   "cell_type": "markdown",
   "metadata": {},
   "source": [
    "Perhaps runif looks like this: \n",
    "\n",
    "`runif <- function(how_many, from_where, to_where)\n",
    "  {\n",
    "  out_vector <- c()\n",
    "  for (i in 1:n)\n",
    "     {\n",
    "     out_number <- pull_from_magic_hat_with()\n",
    "     out_vector <- c(out_vector,out_number)\n",
    "     }\n",
    "  return(out_vector)\n",
    "  }`\n",
    "  \n",
    "And if you are curious what the `pull_from_magic_hat_with()` is and how it looks, talk to me in the break.\n",
    "\n",
    "## BREAK"
   ]
  },
  {
   "cell_type": "markdown",
   "metadata": {},
   "source": [
    "## EXTRABITS:\n",
    "\n",
    "### I want to know more about loops!!!\n",
    "\n",
    "##### Then, listen to Prof. Brailsford talk about loops, and explain another concept, which we won't go into, called recursion.\n",
    "\n",
    "https://www.youtube.com/watch?v=HXNhEYqFo0o\n",
    "\n",
    "\n",
    "### I heard loops are bad and horrible and horrendous and I shouldn't use them\n",
    "\n",
    "##### <font color = red> Nope, they are not. </font>\n",
    "\n",
    "Loops are how the computer is working internally at the processor level. There is actually a physical device on the CPU called an instruction counter to store the `i` in the `for (i in ...)`. \n",
    "\n",
    "The problem is R doesn't use that. It runs many layers of abstractions above that, which, due to some very technical bits, make expanding vectors and matrixes very, very, very slow. \n",
    "\n",
    "Take for example this code generating 10000 sets of random draws from the normal distribution:"
   ]
  },
  {
   "cell_type": "code",
   "execution_count": 236,
   "metadata": {},
   "outputs": [
    {
     "name": "stdout",
     "output_type": "stream",
     "text": [
      "slow:: 28.569 sec elapsed\n"
     ]
    },
    {
     "data": {
      "text/html": [
       "<table>\n",
       "<thead><tr><th scope=col>column</th><th scope=col>column</th></tr></thead>\n",
       "<tbody>\n",
       "\t<tr><td>0.9511705 </td><td>0.84901587</td></tr>\n",
       "\t<tr><td>0.6303969 </td><td>0.68335068</td></tr>\n",
       "\t<tr><td>0.8671169 </td><td>0.05483491</td></tr>\n",
       "\t<tr><td>0.9405014 </td><td>0.03518542</td></tr>\n",
       "\t<tr><td>0.1157129 </td><td>0.41427004</td></tr>\n",
       "\t<tr><td>0.2066271 </td><td>0.28363345</td></tr>\n",
       "\t<tr><td>0.5634485 </td><td>0.11892980</td></tr>\n",
       "\t<tr><td>0.1926335 </td><td>0.99680480</td></tr>\n",
       "\t<tr><td>0.4382140 </td><td>0.03008671</td></tr>\n",
       "\t<tr><td>0.4306146 </td><td>0.28106444</td></tr>\n",
       "\t<tr><td>0.9263096 </td><td>0.29025703</td></tr>\n",
       "</tbody>\n",
       "</table>\n"
      ],
      "text/latex": [
       "\\begin{tabular}{ll}\n",
       " column & column\\\\\n",
       "\\hline\n",
       "\t 0.9511705  & 0.84901587\\\\\n",
       "\t 0.6303969  & 0.68335068\\\\\n",
       "\t 0.8671169  & 0.05483491\\\\\n",
       "\t 0.9405014  & 0.03518542\\\\\n",
       "\t 0.1157129  & 0.41427004\\\\\n",
       "\t 0.2066271  & 0.28363345\\\\\n",
       "\t 0.5634485  & 0.11892980\\\\\n",
       "\t 0.1926335  & 0.99680480\\\\\n",
       "\t 0.4382140  & 0.03008671\\\\\n",
       "\t 0.4306146  & 0.28106444\\\\\n",
       "\t 0.9263096  & 0.29025703\\\\\n",
       "\\end{tabular}\n"
      ],
      "text/markdown": [
       "\n",
       "column | column | \n",
       "|---|---|---|---|---|---|---|---|---|---|---|\n",
       "| 0.9511705  | 0.84901587 | \n",
       "| 0.6303969  | 0.68335068 | \n",
       "| 0.8671169  | 0.05483491 | \n",
       "| 0.9405014  | 0.03518542 | \n",
       "| 0.1157129  | 0.41427004 | \n",
       "| 0.2066271  | 0.28363345 | \n",
       "| 0.5634485  | 0.11892980 | \n",
       "| 0.1926335  | 0.99680480 | \n",
       "| 0.4382140  | 0.03008671 | \n",
       "| 0.4306146  | 0.28106444 | \n",
       "| 0.9263096  | 0.29025703 | \n",
       "\n",
       "\n"
      ],
      "text/plain": [
       "      column    column    \n",
       " [1,] 0.9511705 0.84901587\n",
       " [2,] 0.6303969 0.68335068\n",
       " [3,] 0.8671169 0.05483491\n",
       " [4,] 0.9405014 0.03518542\n",
       " [5,] 0.1157129 0.41427004\n",
       " [6,] 0.2066271 0.28363345\n",
       " [7,] 0.5634485 0.11892980\n",
       " [8,] 0.1926335 0.99680480\n",
       " [9,] 0.4382140 0.03008671\n",
       "[10,] 0.4306146 0.28106444\n",
       "[11,] 0.9263096 0.29025703"
      ]
     },
     "metadata": {},
     "output_type": "display_data"
    }
   ],
   "source": [
    "library(tictoc)\n",
    "tic('slow:')\n",
    "m <- matrix(nrow=100)\n",
    "\n",
    "tic()\n",
    "out <- matrix()\n",
    "for (i in 1:10000) {\n",
    "    column <- runif(100,0,1)\n",
    "    m <- cbind(m,column)\n",
    "    }\n",
    "toc()\n",
    "m[10:20,2:3]"
   ]
  },
  {
   "cell_type": "markdown",
   "metadata": {},
   "source": [
    "You can fix this by simply pre-assigning the matrix with NA when you start your code, and filling it in place"
   ]
  },
  {
   "cell_type": "code",
   "execution_count": 239,
   "metadata": {},
   "outputs": [
    {
     "name": "stdout",
     "output_type": "stream",
     "text": [
      "fast:: 0.073 sec elapsed\n"
     ]
    },
    {
     "data": {
      "text/html": [
       "<table>\n",
       "<tbody>\n",
       "\t<tr><td>0.93069128</td><td>0.30938609</td></tr>\n",
       "\t<tr><td>0.03482239</td><td>0.23800325</td></tr>\n",
       "\t<tr><td>0.44239428</td><td>0.96276076</td></tr>\n",
       "\t<tr><td>0.91654117</td><td>0.80615751</td></tr>\n",
       "\t<tr><td>0.23564680</td><td>0.10999191</td></tr>\n",
       "\t<tr><td>0.92934034</td><td>0.97331096</td></tr>\n",
       "\t<tr><td>0.08262005</td><td>0.06597795</td></tr>\n",
       "\t<tr><td>0.65446278</td><td>0.55803567</td></tr>\n",
       "\t<tr><td>0.15664704</td><td>0.60897247</td></tr>\n",
       "\t<tr><td>0.36942165</td><td>0.24724355</td></tr>\n",
       "\t<tr><td>0.88493434</td><td>0.84415599</td></tr>\n",
       "</tbody>\n",
       "</table>\n"
      ],
      "text/latex": [
       "\\begin{tabular}{ll}\n",
       "\t 0.93069128 & 0.30938609\\\\\n",
       "\t 0.03482239 & 0.23800325\\\\\n",
       "\t 0.44239428 & 0.96276076\\\\\n",
       "\t 0.91654117 & 0.80615751\\\\\n",
       "\t 0.23564680 & 0.10999191\\\\\n",
       "\t 0.92934034 & 0.97331096\\\\\n",
       "\t 0.08262005 & 0.06597795\\\\\n",
       "\t 0.65446278 & 0.55803567\\\\\n",
       "\t 0.15664704 & 0.60897247\\\\\n",
       "\t 0.36942165 & 0.24724355\\\\\n",
       "\t 0.88493434 & 0.84415599\\\\\n",
       "\\end{tabular}\n"
      ],
      "text/markdown": [
       "\n",
       "| 0.93069128 | 0.30938609 | \n",
       "| 0.03482239 | 0.23800325 | \n",
       "| 0.44239428 | 0.96276076 | \n",
       "| 0.91654117 | 0.80615751 | \n",
       "| 0.23564680 | 0.10999191 | \n",
       "| 0.92934034 | 0.97331096 | \n",
       "| 0.08262005 | 0.06597795 | \n",
       "| 0.65446278 | 0.55803567 | \n",
       "| 0.15664704 | 0.60897247 | \n",
       "| 0.36942165 | 0.24724355 | \n",
       "| 0.88493434 | 0.84415599 | \n",
       "\n",
       "\n"
      ],
      "text/plain": [
       "      [,1]       [,2]      \n",
       " [1,] 0.93069128 0.30938609\n",
       " [2,] 0.03482239 0.23800325\n",
       " [3,] 0.44239428 0.96276076\n",
       " [4,] 0.91654117 0.80615751\n",
       " [5,] 0.23564680 0.10999191\n",
       " [6,] 0.92934034 0.97331096\n",
       " [7,] 0.08262005 0.06597795\n",
       " [8,] 0.65446278 0.55803567\n",
       " [9,] 0.15664704 0.60897247\n",
       "[10,] 0.36942165 0.24724355\n",
       "[11,] 0.88493434 0.84415599"
      ]
     },
     "metadata": {},
     "output_type": "display_data"
    }
   ],
   "source": [
    "library(tictoc)\n",
    "tic('fast:')\n",
    "m <- matrix(nrow=100, ncol=10000)\n",
    "\n",
    "tic()\n",
    "out <- matrix()\n",
    "for (i in 1:10000) {\n",
    "    column <- runif(100,0,1)\n",
    "    m[,i] <- column\n",
    "    }\n",
    "toc()\n",
    "m[10:20,2:3]"
   ]
  },
  {
   "cell_type": "markdown",
   "metadata": {},
   "source": [
    "It is not the loop that is slow, that's fast.\n",
    "It is the matrix expansion!\n",
    "\n",
    "`Apply()`, `rapply()`, `sapply()` are functions looping without writing for-loops. This is called \"functional programming\" and is rather hard to grasp your head around. So hard in fact, most programmers think it's unintuitive and problematic for more than very simple one-liners - being a very complex mathematical abstaction.\n",
    "\n",
    "If you feel comfortable with applys, use them, otherwise, for loops are \"mainstream\" in most languages -- less than 1% of code globally is written in functional form"
   ]
  },
  {
   "cell_type": "code",
   "execution_count": 346,
   "metadata": {},
   "outputs": [
    {
     "data": {
      "text/html": [
       "<table>\n",
       "<thead><tr><th scope=col>x</th><th scope=col>b</th></tr></thead>\n",
       "<tbody>\n",
       "\t<tr><td> 1</td><td> 2</td></tr>\n",
       "\t<tr><td> 2</td><td> 4</td></tr>\n",
       "\t<tr><td> 3</td><td> 6</td></tr>\n",
       "\t<tr><td> 4</td><td> 8</td></tr>\n",
       "\t<tr><td> 5</td><td>10</td></tr>\n",
       "\t<tr><td> 6</td><td>12</td></tr>\n",
       "\t<tr><td> 7</td><td>14</td></tr>\n",
       "\t<tr><td> 8</td><td>16</td></tr>\n",
       "\t<tr><td> 9</td><td>18</td></tr>\n",
       "\t<tr><td>10</td><td>20</td></tr>\n",
       "</tbody>\n",
       "</table>\n"
      ],
      "text/latex": [
       "\\begin{tabular}{r|ll}\n",
       " x & b\\\\\n",
       "\\hline\n",
       "\t  1 &  2\\\\\n",
       "\t  2 &  4\\\\\n",
       "\t  3 &  6\\\\\n",
       "\t  4 &  8\\\\\n",
       "\t  5 & 10\\\\\n",
       "\t  6 & 12\\\\\n",
       "\t  7 & 14\\\\\n",
       "\t  8 & 16\\\\\n",
       "\t  9 & 18\\\\\n",
       "\t 10 & 20\\\\\n",
       "\\end{tabular}\n"
      ],
      "text/markdown": [
       "\n",
       "x | b | \n",
       "|---|---|---|---|---|---|---|---|---|---|\n",
       "|  1 |  2 | \n",
       "|  2 |  4 | \n",
       "|  3 |  6 | \n",
       "|  4 |  8 | \n",
       "|  5 | 10 | \n",
       "|  6 | 12 | \n",
       "|  7 | 14 | \n",
       "|  8 | 16 | \n",
       "|  9 | 18 | \n",
       "| 10 | 20 | \n",
       "\n",
       "\n"
      ],
      "text/plain": [
       "   x  b \n",
       "1   1  2\n",
       "2   2  4\n",
       "3   3  6\n",
       "4   4  8\n",
       "5   5 10\n",
       "6   6 12\n",
       "7   7 14\n",
       "8   8 16\n",
       "9   9 18\n",
       "10 10 20"
      ]
     },
     "metadata": {},
     "output_type": "display_data"
    },
    {
     "data": {
      "text/html": [
       "<dl>\n",
       "\t<dt>$x</dt>\n",
       "\t\t<dd>5.5</dd>\n",
       "\t<dt>$b</dt>\n",
       "\t\t<dd>11</dd>\n",
       "</dl>\n"
      ],
      "text/latex": [
       "\\begin{description}\n",
       "\\item[\\$x] 5.5\n",
       "\\item[\\$b] 11\n",
       "\\end{description}\n"
      ],
      "text/markdown": [
       "$x\n",
       ":   5.5\n",
       "$b\n",
       ":   11\n",
       "\n",
       "\n"
      ],
      "text/plain": [
       "$x\n",
       "[1] 5.5\n",
       "\n",
       "$b\n",
       "[1] 11\n"
      ]
     },
     "metadata": {},
     "output_type": "display_data"
    },
    {
     "name": "stdout",
     "output_type": "stream",
     "text": [
      "[1] \"x\"\n",
      "[1] 5.5\n",
      "[1] \"b\"\n",
      "[1] 11\n"
     ]
    }
   ],
   "source": [
    "small_data_frame=data.frame(x=c(1:10),b=c(2,4,6,8,10,12,14,16,18,20))\n",
    "small_data_frame\n",
    "\n",
    "lapply(small_data_frame,mean)\n",
    "\n",
    "for (column in colnames(small_data_frame))\n",
    "    {\n",
    "    print(column)\n",
    "    print(mean(small_data_frame[[column]]))\n",
    "    }"
   ]
  },
  {
   "cell_type": "markdown",
   "metadata": {},
   "source": []
  },
  {
   "cell_type": "markdown",
   "metadata": {},
   "source": [
    "# 4. Data Management\n",
    "\n",
    "## What is data management?\n",
    "\n",
    "**It is gathering and manipulating data from a raw format to a format that suits your analytic tasks**.\n",
    "\n",
    "It consists of the following processes:\n",
    "\n",
    "1. **Filtering** - selecting only the information you need from the whole dataset; This entails filtering observations (e.g. only countries in Africa) and columns (e.g. only countries in Africa)\n",
    "1. **Aggregation** - changing the unit of analysis to a coarser level;\n",
    "1. **Disaggregation** - breaking down a coarse-level dataset to a finer level;\n",
    "1. **Joining** -- Bringing together multiple datasets containing different kinds of observations for the same units (e.g. make one dataset from two datasets of countries, one containing GDP information and one containing conflict information);\n",
    "1. **Union** -- \"Glueing\" together observations from two datasets having the same structures but different units\n",
    "1. **Transforms** -- Changing data to suit your needs (recode, create derived measures etc.)\n",
    "\n",
    "\n",
    "We are going to use a **language** for data management called **dplyr**. It's an extension to R, works well with base R, but makes life easy and allows good management to happen."
   ]
  },
  {
   "cell_type": "markdown",
   "metadata": {},
   "source": [
    "\n"
   ]
  },
  {
   "cell_type": "markdown",
   "metadata": {},
   "source": [
    "## **Filtering**\n",
    "![Filtering](img/dm_fil.png)\n",
    "\n",
    "### We filter using the following functions\n",
    "\n",
    "#### For columns:\n",
    "\n",
    "`select(dataframe, c(ROWS WE WANT))`\n",
    "\n",
    "Example `select(dataframe, c(country, gdp))`\n",
    "\n",
    "#### For rows: \n",
    "\n",
    "`filter(dataframe, CONDITION)`\n",
    "\n",
    "Example `filter(dataframe, gdp<10000)`\n",
    "Available operators are `< > <= >= == is.na() !in.na() %in%`\n",
    "\n",
    "\n",
    "`sample_frac(dataframe, PERC)`\n",
    "`sample_n(dataframe, N)`"
   ]
  },
  {
   "cell_type": "markdown",
   "metadata": {},
   "source": [
    "## **Aggregation**\n",
    "![Filtering](img/dm_group.png)\n",
    "\n",
    "## We do this in two steps!\n",
    "\n",
    "`grouped_table = group_by(table, VARIABLES WE WANT TO GROUP BY)`\n",
    "`summarized = summarize(grouped_table, variable = FUNCTION(column))`\n",
    "\n",
    "There are many functions you can use:\n",
    "`n(), sum(), avg(), median(), sd(), min(), max()`\n",
    "\n",
    "# If you want only to eliminate duplicates from your dataset\n",
    "\n",
    "You could very well do something like\n",
    "\n",
    "`grouped_table = group_by(table, ALL VARIABLES)`\n",
    "\n",
    "`eliminated = summarize(group table, new_var1 = max(var1) ...)`\n",
    "\n",
    "But there are some helper functions so that you don't waste time when you have a lot of columns:\n",
    "\n",
    "`distinct(table)`\n",
    "\n",
    "AND\n",
    "\n",
    "`summarize_all()`"
   ]
  },
  {
   "cell_type": "markdown",
   "metadata": {},
   "source": [
    "## **Disaggregation**\n",
    "![Filtering](img/dm_diss.png)\n"
   ]
  },
  {
   "cell_type": "markdown",
   "metadata": {},
   "source": [
    "## **Joining**\n",
    "![Filtering](img/dm_join.png)"
   ]
  },
  {
   "cell_type": "markdown",
   "metadata": {},
   "source": [
    "## **Inner Joins**\n",
    "![Filtering](img/dm_join_inner.png)\n",
    "\n",
    "### Inner joins will only keep those observations that exist in BOTH table A and table B. This is the default behavior in almost all langages (`base R, dplyr, SQL, Pandas`).\n",
    "\n",
    "#### Thus, ALWAYS be careful when joining not to lose observations by mistakes when you still need them"
   ]
  },
  {
   "cell_type": "markdown",
   "metadata": {},
   "source": [
    "## **Left Joins**\n",
    "![Filtering](img/dm_join_left.png)\n",
    "\n",
    "### Left joins will only keep the structure of the LEFT table (table A). \n",
    "\n",
    "#### This allows you to carry a table-structure from the beginning of your data management work to the end, and take care of your NAs (missing observations) at the end of the work."
   ]
  },
  {
   "cell_type": "markdown",
   "metadata": {},
   "source": [
    "## **Right Joins**\n",
    "![Filtering](img/dm_join_right.png)\n",
    "\n",
    "### Right joins will only keep the structure of the RIGHT table (table B). \n",
    "\n",
    "#### Order thus matters. A x B is NOT B x A!"
   ]
  },
  {
   "cell_type": "markdown",
   "metadata": {},
   "source": [
    "## **Outer Joins**\n",
    "![Filtering](img/dm_join_outer.png)\n",
    "\n",
    "### Outer joins will keep all observations in BOTH A AND B\n",
    "\n",
    "#### Always check how your matching variable looks! Sometimes, in places like SQL, you have to specify to keep both the matching variables present in A and B, otherwise you may end up with NAs in the resulting table."
   ]
  },
  {
   "cell_type": "markdown",
   "metadata": {},
   "source": [
    "## Transform\n",
    "\n",
    "![Filtering](img/dm_lag.png)"
   ]
  },
  {
   "cell_type": "markdown",
   "metadata": {},
   "source": [
    "# THERE'S AN ORDER TO OPERATIONS\n",
    "\n",
    "### 1. EXPLORE\n",
    "### 2. PLAN\n",
    "### 3. FILTER\n",
    "### 4. AGGREGATE\n",
    "### 5. UNION\n",
    "### 6. JOIN\n",
    "\n",
    "\n",
    "### If you need to x. TRANSFORM DATA, put this step in the dataset that has the FEWEST observations\n",
    "\n",
    "Why do we do this? For performance!"
   ]
  },
  {
   "cell_type": "markdown",
   "metadata": {},
   "source": [
    "\n",
    "\n",
    "## We need a task\n",
    "\n",
    "#### Task : I want to know whether there is a relationship between GDP growth and the number of conflicts in Sub-Saharan Africa between 2015 and 2018\n"
   ]
  },
  {
   "cell_type": "markdown",
   "metadata": {},
   "source": [
    "### Let's first load some data"
   ]
  },
  {
   "cell_type": "code",
   "execution_count": 77,
   "metadata": {},
   "outputs": [
    {
     "name": "stderr",
     "output_type": "stream",
     "text": [
      "Parsed with column specification:\n",
      "cols(\n",
      "  conflict_id = col_integer(),\n",
      "  year = col_integer(),\n",
      "  country = col_character(),\n",
      "  country_id = col_integer(),\n",
      "  side_a = col_character(),\n",
      "  side_a_id = col_integer(),\n",
      "  side_b = col_character(),\n",
      "  side_b_id = col_character(),\n",
      "  fatalities = col_integer(),\n",
      "  type_of_conflict = col_character(),\n",
      "  incompatibility = col_integer(),\n",
      "  territory_name = col_character()\n",
      ")\n",
      "Parsed with column specification:\n",
      "cols(\n",
      "  country_name = col_character(),\n",
      "  cid = col_integer(),\n",
      "  country_id = col_integer(),\n",
      "  year = col_integer(),\n",
      "  proportion_educated = col_double(),\n",
      "  gdp = col_double(),\n",
      "  population = col_integer()\n",
      ")\n"
     ]
    }
   ],
   "source": [
    "conflict = read_csv('https://raw.githubusercontent.com/mihaicroicu/AQMLecture1/master/Data/aqm1_conflict.csv')\n",
    "country = read_csv('https://raw.githubusercontent.com/mihaicroicu/AQMLecture1/master/Data/aqm1_country.csv')"
   ]
  },
  {
   "cell_type": "markdown",
   "metadata": {},
   "source": [
    "## We can look at the data in various ways"
   ]
  },
  {
   "cell_type": "markdown",
   "metadata": {},
   "source": [
    "### Look at a few rows\n",
    "\n",
    "  "
   ]
  },
  {
   "cell_type": "markdown",
   "metadata": {},
   "source": [
    "   "
   ]
  },
  {
   "cell_type": "code",
   "execution_count": 78,
   "metadata": {},
   "outputs": [
    {
     "data": {
      "text/html": [
       "<table>\n",
       "<thead><tr><th scope=col>country_name</th><th scope=col>cid</th><th scope=col>country_id</th><th scope=col>year</th><th scope=col>proportion_educated</th><th scope=col>gdp</th><th scope=col>population</th></tr></thead>\n",
       "<tbody>\n",
       "\t<tr><td>Cape Verde</td><td>40        </td><td>402       </td><td>2010      </td><td>0.284     </td><td>1502.29   </td><td>496       </td></tr>\n",
       "\t<tr><td>Cape Verde</td><td>40        </td><td>402       </td><td>2011      </td><td>0.289     </td><td>1509.93   </td><td>499       </td></tr>\n",
       "\t<tr><td>Cape Verde</td><td>40        </td><td>402       </td><td>2012      </td><td>0.293     </td><td>1407.29   </td><td>503       </td></tr>\n",
       "\t<tr><td>Cape Verde</td><td>40        </td><td>402       </td><td>2013      </td><td>0.298     </td><td>1492.12   </td><td>506       </td></tr>\n",
       "\t<tr><td>Cape Verde</td><td>40        </td><td>402       </td><td>2014      </td><td>0.303     </td><td>1509.10   </td><td>510       </td></tr>\n",
       "\t<tr><td>Cape Verde</td><td>40        </td><td>402       </td><td>2015      </td><td>0.308     </td><td>1513.00   </td><td>513       </td></tr>\n",
       "</tbody>\n",
       "</table>\n"
      ],
      "text/latex": [
       "\\begin{tabular}{r|lllllll}\n",
       " country\\_name & cid & country\\_id & year & proportion\\_educated & gdp & population\\\\\n",
       "\\hline\n",
       "\t Cape Verde & 40         & 402        & 2010       & 0.284      & 1502.29    & 496       \\\\\n",
       "\t Cape Verde & 40         & 402        & 2011       & 0.289      & 1509.93    & 499       \\\\\n",
       "\t Cape Verde & 40         & 402        & 2012       & 0.293      & 1407.29    & 503       \\\\\n",
       "\t Cape Verde & 40         & 402        & 2013       & 0.298      & 1492.12    & 506       \\\\\n",
       "\t Cape Verde & 40         & 402        & 2014       & 0.303      & 1509.10    & 510       \\\\\n",
       "\t Cape Verde & 40         & 402        & 2015       & 0.308      & 1513.00    & 513       \\\\\n",
       "\\end{tabular}\n"
      ],
      "text/markdown": [
       "\n",
       "country_name | cid | country_id | year | proportion_educated | gdp | population | \n",
       "|---|---|---|---|---|---|\n",
       "| Cape Verde | 40         | 402        | 2010       | 0.284      | 1502.29    | 496        | \n",
       "| Cape Verde | 40         | 402        | 2011       | 0.289      | 1509.93    | 499        | \n",
       "| Cape Verde | 40         | 402        | 2012       | 0.293      | 1407.29    | 503        | \n",
       "| Cape Verde | 40         | 402        | 2013       | 0.298      | 1492.12    | 506        | \n",
       "| Cape Verde | 40         | 402        | 2014       | 0.303      | 1509.10    | 510        | \n",
       "| Cape Verde | 40         | 402        | 2015       | 0.308      | 1513.00    | 513        | \n",
       "\n",
       "\n"
      ],
      "text/plain": [
       "  country_name cid country_id year proportion_educated gdp     population\n",
       "1 Cape Verde   40  402        2010 0.284               1502.29 496       \n",
       "2 Cape Verde   40  402        2011 0.289               1509.93 499       \n",
       "3 Cape Verde   40  402        2012 0.293               1407.29 503       \n",
       "4 Cape Verde   40  402        2013 0.298               1492.12 506       \n",
       "5 Cape Verde   40  402        2014 0.303               1509.10 510       \n",
       "6 Cape Verde   40  402        2015 0.308               1513.00 513       "
      ]
     },
     "metadata": {},
     "output_type": "display_data"
    }
   ],
   "source": [
    "head(country)"
   ]
  },
  {
   "cell_type": "code",
   "execution_count": 79,
   "metadata": {},
   "outputs": [
    {
     "data": {
      "text/html": [
       "<table>\n",
       "<thead><tr><th scope=col>conflict_id</th><th scope=col>year</th><th scope=col>country</th><th scope=col>country_id</th><th scope=col>side_a</th><th scope=col>side_a_id</th><th scope=col>side_b</th><th scope=col>side_b_id</th><th scope=col>fatalities</th><th scope=col>type_of_conflict</th><th scope=col>incompatibility</th><th scope=col>territory_name</th></tr></thead>\n",
       "<tbody>\n",
       "\t<tr><td>283                                                  </td><td>2016                                                 </td><td>DR Congo (Zaire)                                     </td><td>490                                                  </td><td>Government of DR Congo (Zaire)                       </td><td>89                                                   </td><td>Kamuina Nsapu                                        </td><td>6590                                                 </td><td> 164                                                 </td><td>3                                                    </td><td>2                                                    </td><td>NA                                                   </td></tr>\n",
       "\t<tr><td>283                                                  </td><td>2017                                                 </td><td>DR Congo (Zaire)                                     </td><td>490                                                  </td><td>Government of DR Congo (Zaire)                       </td><td>89                                                   </td><td>CMC, CNPSC (Yakutumba), Kamuina Nsapu, M23, MNR      </td><td>1160, 3043, 6590, 6740, 6920                         </td><td>1608                                                 </td><td>3                                                    </td><td>2                                                    </td><td>NA                                                   </td></tr>\n",
       "\t<tr><td>287                                                  </td><td>2015                                                 </td><td>Burundi                                              </td><td>516                                                  </td><td>Government of Burundi                                </td><td>93                                                   </td><td>FPB, Military faction (forces of Godefroid Niyombare)</td><td>6187, 6297                                           </td><td> 133                                                 </td><td>3                                                    </td><td>2                                                    </td><td>NA                                                   </td></tr>\n",
       "\t<tr><td>297                                                  </td><td>2016                                                 </td><td>Nigeria                                              </td><td>475                                                  </td><td>Government of Nigeria                                </td><td>84                                                   </td><td>Jama'atu Ahlis Sunna Lidda'awati wal-Jihad           </td><td>1051                                                 </td><td> 162                                                 </td><td>4                                                    </td><td>2                                                    </td><td>NA                                                   </td></tr>\n",
       "\t<tr><td>297                                                  </td><td>2017                                                 </td><td>Nigeria                                              </td><td>475                                                  </td><td>Government of Nigeria                                </td><td>84                                                   </td><td>Jama'atu Ahlis Sunna Lidda'awati wal-Jihad           </td><td>1051                                                 </td><td>1062                                                 </td><td>4                                                    </td><td>2                                                    </td><td>NA                                                   </td></tr>\n",
       "\t<tr><td>297                                                  </td><td>2015                                                 </td><td>Nigeria                                              </td><td>475                                                  </td><td>Government of Nigeria                                </td><td>84                                                   </td><td>Jama'atu Ahlis Sunna Lidda'awati wal-Jihad           </td><td>1051                                                 </td><td>2703                                                 </td><td>4                                                    </td><td>2                                                    </td><td>NA                                                   </td></tr>\n",
       "</tbody>\n",
       "</table>\n"
      ],
      "text/latex": [
       "\\begin{tabular}{r|llllllllllll}\n",
       " conflict\\_id & year & country & country\\_id & side\\_a & side\\_a\\_id & side\\_b & side\\_b\\_id & fatalities & type\\_of\\_conflict & incompatibility & territory\\_name\\\\\n",
       "\\hline\n",
       "\t 283                                                   & 2016                                                  & DR Congo (Zaire)                                      & 490                                                   & Government of DR Congo (Zaire)                        & 89                                                    & Kamuina Nsapu                                         & 6590                                                  &  164                                                  & 3                                                     & 2                                                     & NA                                                   \\\\\n",
       "\t 283                                                   & 2017                                                  & DR Congo (Zaire)                                      & 490                                                   & Government of DR Congo (Zaire)                        & 89                                                    & CMC, CNPSC (Yakutumba), Kamuina Nsapu, M23, MNR       & 1160, 3043, 6590, 6740, 6920                          & 1608                                                  & 3                                                     & 2                                                     & NA                                                   \\\\\n",
       "\t 287                                                   & 2015                                                  & Burundi                                               & 516                                                   & Government of Burundi                                 & 93                                                    & FPB, Military faction (forces of Godefroid Niyombare) & 6187, 6297                                            &  133                                                  & 3                                                     & 2                                                     & NA                                                   \\\\\n",
       "\t 297                                                   & 2016                                                  & Nigeria                                               & 475                                                   & Government of Nigeria                                 & 84                                                    & Jama'atu Ahlis Sunna Lidda'awati wal-Jihad            & 1051                                                  &  162                                                  & 4                                                     & 2                                                     & NA                                                   \\\\\n",
       "\t 297                                                   & 2017                                                  & Nigeria                                               & 475                                                   & Government of Nigeria                                 & 84                                                    & Jama'atu Ahlis Sunna Lidda'awati wal-Jihad            & 1051                                                  & 1062                                                  & 4                                                     & 2                                                     & NA                                                   \\\\\n",
       "\t 297                                                   & 2015                                                  & Nigeria                                               & 475                                                   & Government of Nigeria                                 & 84                                                    & Jama'atu Ahlis Sunna Lidda'awati wal-Jihad            & 1051                                                  & 2703                                                  & 4                                                     & 2                                                     & NA                                                   \\\\\n",
       "\\end{tabular}\n"
      ],
      "text/markdown": [
       "\n",
       "conflict_id | year | country | country_id | side_a | side_a_id | side_b | side_b_id | fatalities | type_of_conflict | incompatibility | territory_name | \n",
       "|---|---|---|---|---|---|\n",
       "| 283                                                   | 2016                                                  | DR Congo (Zaire)                                      | 490                                                   | Government of DR Congo (Zaire)                        | 89                                                    | Kamuina Nsapu                                         | 6590                                                  |  164                                                  | 3                                                     | 2                                                     | NA                                                    | \n",
       "| 283                                                   | 2017                                                  | DR Congo (Zaire)                                      | 490                                                   | Government of DR Congo (Zaire)                        | 89                                                    | CMC, CNPSC (Yakutumba), Kamuina Nsapu, M23, MNR       | 1160, 3043, 6590, 6740, 6920                          | 1608                                                  | 3                                                     | 2                                                     | NA                                                    | \n",
       "| 287                                                   | 2015                                                  | Burundi                                               | 516                                                   | Government of Burundi                                 | 93                                                    | FPB, Military faction (forces of Godefroid Niyombare) | 6187, 6297                                            |  133                                                  | 3                                                     | 2                                                     | NA                                                    | \n",
       "| 297                                                   | 2016                                                  | Nigeria                                               | 475                                                   | Government of Nigeria                                 | 84                                                    | Jama'atu Ahlis Sunna Lidda'awati wal-Jihad            | 1051                                                  |  162                                                  | 4                                                     | 2                                                     | NA                                                    | \n",
       "| 297                                                   | 2017                                                  | Nigeria                                               | 475                                                   | Government of Nigeria                                 | 84                                                    | Jama'atu Ahlis Sunna Lidda'awati wal-Jihad            | 1051                                                  | 1062                                                  | 4                                                     | 2                                                     | NA                                                    | \n",
       "| 297                                                   | 2015                                                  | Nigeria                                               | 475                                                   | Government of Nigeria                                 | 84                                                    | Jama'atu Ahlis Sunna Lidda'awati wal-Jihad            | 1051                                                  | 2703                                                  | 4                                                     | 2                                                     | NA                                                    | \n",
       "\n",
       "\n"
      ],
      "text/plain": [
       "  conflict_id year country          country_id side_a                        \n",
       "1 283         2016 DR Congo (Zaire) 490        Government of DR Congo (Zaire)\n",
       "2 283         2017 DR Congo (Zaire) 490        Government of DR Congo (Zaire)\n",
       "3 287         2015 Burundi          516        Government of Burundi         \n",
       "4 297         2016 Nigeria          475        Government of Nigeria         \n",
       "5 297         2017 Nigeria          475        Government of Nigeria         \n",
       "6 297         2015 Nigeria          475        Government of Nigeria         \n",
       "  side_a_id side_b                                               \n",
       "1 89        Kamuina Nsapu                                        \n",
       "2 89        CMC, CNPSC (Yakutumba), Kamuina Nsapu, M23, MNR      \n",
       "3 93        FPB, Military faction (forces of Godefroid Niyombare)\n",
       "4 84        Jama'atu Ahlis Sunna Lidda'awati wal-Jihad           \n",
       "5 84        Jama'atu Ahlis Sunna Lidda'awati wal-Jihad           \n",
       "6 84        Jama'atu Ahlis Sunna Lidda'awati wal-Jihad           \n",
       "  side_b_id                    fatalities type_of_conflict incompatibility\n",
       "1 6590                          164       3                2              \n",
       "2 1160, 3043, 6590, 6740, 6920 1608       3                2              \n",
       "3 6187, 6297                    133       3                2              \n",
       "4 1051                          162       4                2              \n",
       "5 1051                         1062       4                2              \n",
       "6 1051                         2703       4                2              \n",
       "  territory_name\n",
       "1 NA            \n",
       "2 NA            \n",
       "3 NA            \n",
       "4 NA            \n",
       "5 NA            \n",
       "6 NA            "
      ]
     },
     "metadata": {},
     "output_type": "display_data"
    }
   ],
   "source": [
    "head(conflict)"
   ]
  },
  {
   "cell_type": "markdown",
   "metadata": {},
   "source": [
    "### And find out a little bit about the type of data in the dataset"
   ]
  },
  {
   "cell_type": "markdown",
   "metadata": {},
   "source": [
    " "
   ]
  },
  {
   "cell_type": "code",
   "execution_count": 51,
   "metadata": {},
   "outputs": [
    {
     "name": "stdout",
     "output_type": "stream",
     "text": [
      "Classes ‘tbl_df’, ‘tbl’ and 'data.frame':\t416 obs. of  7 variables:\n",
      " $ country_name       : chr  \"Cape Verde\" \"Cape Verde\" \"Cape Verde\" \"Cape Verde\" ...\n",
      " $ cid                : int  40 40 40 40 40 40 40 40 41 41 ...\n",
      " $ country_id         : int  402 402 402 402 402 402 402 402 437 437 ...\n",
      " $ year               : int  2010 2011 2012 2013 2014 2015 2016 2017 2010 2011 ...\n",
      " $ proportion_educated: num  0.284 0.289 0.293 0.298 0.303 0.308 0.315 0.322 0.214 0.222 ...\n",
      " $ gdp                : num  1502 1510 1407 1492 1509 ...\n",
      " $ population         : int  496 499 503 506 510 513 516 519 19738 20120 ...\n",
      " - attr(*, \"spec\")=List of 2\n",
      "  ..$ cols   :List of 7\n",
      "  .. ..$ country_name       : list()\n",
      "  .. .. ..- attr(*, \"class\")= chr  \"collector_character\" \"collector\"\n",
      "  .. ..$ cid                : list()\n",
      "  .. .. ..- attr(*, \"class\")= chr  \"collector_integer\" \"collector\"\n",
      "  .. ..$ country_id         : list()\n",
      "  .. .. ..- attr(*, \"class\")= chr  \"collector_integer\" \"collector\"\n",
      "  .. ..$ year               : list()\n",
      "  .. .. ..- attr(*, \"class\")= chr  \"collector_integer\" \"collector\"\n",
      "  .. ..$ proportion_educated: list()\n",
      "  .. .. ..- attr(*, \"class\")= chr  \"collector_double\" \"collector\"\n",
      "  .. ..$ gdp                : list()\n",
      "  .. .. ..- attr(*, \"class\")= chr  \"collector_double\" \"collector\"\n",
      "  .. ..$ population         : list()\n",
      "  .. .. ..- attr(*, \"class\")= chr  \"collector_integer\" \"collector\"\n",
      "  ..$ default: list()\n",
      "  .. ..- attr(*, \"class\")= chr  \"collector_guess\" \"collector\"\n",
      "  ..- attr(*, \"class\")= chr \"col_spec\"\n",
      "Classes ‘tbl_df’, ‘tbl’ and 'data.frame':\t60 obs. of  12 variables:\n",
      " $ conflict_id     : int  283 283 287 297 297 297 309 309 309 314 ...\n",
      " $ year            : int  2016 2017 2015 2016 2017 2015 2015 2016 2017 2015 ...\n",
      " $ country         : chr  \"DR Congo (Zaire)\" \"DR Congo (Zaire)\" \"Burundi\" \"Nigeria\" ...\n",
      " $ country_id      : int  490 490 516 475 475 475 625 625 625 500 ...\n",
      " $ side_a          : chr  \"Government of DR Congo (Zaire)\" \"Government of DR Congo (Zaire)\" \"Government of Burundi\" \"Government of Nigeria\" ...\n",
      " $ side_a_id       : int  89 89 93 84 84 84 112 112 112 90 ...\n",
      " $ side_b          : chr  \"Kamuina Nsapu\" \"CMC, CNPSC (Yakutumba), Kamuina Nsapu, M23, MNR\" \"FPB, Military faction (forces of Godefroid Niyombare)\" \"Jama'atu Ahlis Sunna Lidda'awati wal-Jihad\" ...\n",
      " $ side_b_id       : chr  \"6590\" \"1160, 3043, 6590, 6740, 6920\" \"6187, 6297\" \"1051\" ...\n",
      " $ fatalities      : int  164 1608 133 162 1062 2703 1264 1314 128 197 ...\n",
      " $ type_of_conflict: chr  \"3\" \"3\" \"3\" \"4\" ...\n",
      " $ incompatibility : int  2 2 2 2 2 2 2 2 2 2 ...\n",
      " $ territory_name  : chr  NA NA NA NA ...\n",
      " - attr(*, \"spec\")=List of 2\n",
      "  ..$ cols   :List of 12\n",
      "  .. ..$ conflict_id     : list()\n",
      "  .. .. ..- attr(*, \"class\")= chr  \"collector_integer\" \"collector\"\n",
      "  .. ..$ year            : list()\n",
      "  .. .. ..- attr(*, \"class\")= chr  \"collector_integer\" \"collector\"\n",
      "  .. ..$ country         : list()\n",
      "  .. .. ..- attr(*, \"class\")= chr  \"collector_character\" \"collector\"\n",
      "  .. ..$ country_id      : list()\n",
      "  .. .. ..- attr(*, \"class\")= chr  \"collector_integer\" \"collector\"\n",
      "  .. ..$ side_a          : list()\n",
      "  .. .. ..- attr(*, \"class\")= chr  \"collector_character\" \"collector\"\n",
      "  .. ..$ side_a_id       : list()\n",
      "  .. .. ..- attr(*, \"class\")= chr  \"collector_integer\" \"collector\"\n",
      "  .. ..$ side_b          : list()\n",
      "  .. .. ..- attr(*, \"class\")= chr  \"collector_character\" \"collector\"\n",
      "  .. ..$ side_b_id       : list()\n",
      "  .. .. ..- attr(*, \"class\")= chr  \"collector_character\" \"collector\"\n",
      "  .. ..$ fatalities      : list()\n",
      "  .. .. ..- attr(*, \"class\")= chr  \"collector_integer\" \"collector\"\n",
      "  .. ..$ type_of_conflict: list()\n",
      "  .. .. ..- attr(*, \"class\")= chr  \"collector_character\" \"collector\"\n",
      "  .. ..$ incompatibility : list()\n",
      "  .. .. ..- attr(*, \"class\")= chr  \"collector_integer\" \"collector\"\n",
      "  .. ..$ territory_name  : list()\n",
      "  .. .. ..- attr(*, \"class\")= chr  \"collector_character\" \"collector\"\n",
      "  ..$ default: list()\n",
      "  .. ..- attr(*, \"class\")= chr  \"collector_guess\" \"collector\"\n",
      "  ..- attr(*, \"class\")= chr \"col_spec\"\n"
     ]
    }
   ],
   "source": [
    "str(country)"
   ]
  },
  {
   "cell_type": "markdown",
   "metadata": {},
   "source": [
    " "
   ]
  },
  {
   "cell_type": "markdown",
   "metadata": {},
   "source": [
    "### Let's check the temporal and spatial extent of the data.\n",
    "\n",
    "Let's do this it like this.\n",
    "1. We first take out the year column from the data.\n",
    "2. We then only keep distinct observations so that we get 2015, 2016, 2017 and not 2015, 2015, 2015, 2015, 2015,...\n",
    "3. We sort it, so that we don't get 2010, 2015, 2014, 2016\n",
    "\n",
    "We do this using the **dplyr** `distinct()` function which returns deduplicated items"
   ]
  },
  {
   "cell_type": "code",
   "execution_count": 14,
   "metadata": {},
   "outputs": [
    {
     "data": {
      "text/html": [
       "<table>\n",
       "<thead><tr><th scope=col>year</th></tr></thead>\n",
       "<tbody>\n",
       "\t<tr><td>2010</td></tr>\n",
       "\t<tr><td>2011</td></tr>\n",
       "\t<tr><td>2012</td></tr>\n",
       "\t<tr><td>2013</td></tr>\n",
       "\t<tr><td>2014</td></tr>\n",
       "\t<tr><td>2015</td></tr>\n",
       "\t<tr><td>2016</td></tr>\n",
       "\t<tr><td>2017</td></tr>\n",
       "</tbody>\n",
       "</table>\n"
      ],
      "text/latex": [
       "\\begin{tabular}{r|l}\n",
       " year\\\\\n",
       "\\hline\n",
       "\t 2010\\\\\n",
       "\t 2011\\\\\n",
       "\t 2012\\\\\n",
       "\t 2013\\\\\n",
       "\t 2014\\\\\n",
       "\t 2015\\\\\n",
       "\t 2016\\\\\n",
       "\t 2017\\\\\n",
       "\\end{tabular}\n"
      ],
      "text/markdown": [
       "\n",
       "year | \n",
       "|---|---|---|---|---|---|---|---|\n",
       "| 2010 | \n",
       "| 2011 | \n",
       "| 2012 | \n",
       "| 2013 | \n",
       "| 2014 | \n",
       "| 2015 | \n",
       "| 2016 | \n",
       "| 2017 | \n",
       "\n",
       "\n"
      ],
      "text/plain": [
       "  year\n",
       "1 2010\n",
       "2 2011\n",
       "3 2012\n",
       "4 2013\n",
       "5 2014\n",
       "6 2015\n",
       "7 2016\n",
       "8 2017"
      ]
     },
     "metadata": {},
     "output_type": "display_data"
    }
   ],
   "source": [
    "# First, filter\n",
    "extent <- select(country, year) \n",
    "\n",
    "# Then, aggregate We use distinct, because we only need a distinct copy!\n",
    "extent <- distinct(extent, year)\n",
    "\n",
    "# And then we sort and prepare the data\n",
    "extent <- arrange(extent, year)\n",
    "\n",
    "# And then we print the output\n",
    "#\n",
    "extent"
   ]
  },
  {
   "cell_type": "markdown",
   "metadata": {},
   "source": [
    "### Or, we can chain this with pipes."
   ]
  },
  {
   "cell_type": "code",
   "execution_count": 15,
   "metadata": {},
   "outputs": [
    {
     "data": {
      "text/html": [
       "<table>\n",
       "<thead><tr><th scope=col>year</th></tr></thead>\n",
       "<tbody>\n",
       "\t<tr><td>2010</td></tr>\n",
       "\t<tr><td>2011</td></tr>\n",
       "\t<tr><td>2012</td></tr>\n",
       "\t<tr><td>2013</td></tr>\n",
       "\t<tr><td>2014</td></tr>\n",
       "\t<tr><td>2015</td></tr>\n",
       "\t<tr><td>2016</td></tr>\n",
       "\t<tr><td>2017</td></tr>\n",
       "</tbody>\n",
       "</table>\n"
      ],
      "text/latex": [
       "\\begin{tabular}{r|l}\n",
       " year\\\\\n",
       "\\hline\n",
       "\t 2010\\\\\n",
       "\t 2011\\\\\n",
       "\t 2012\\\\\n",
       "\t 2013\\\\\n",
       "\t 2014\\\\\n",
       "\t 2015\\\\\n",
       "\t 2016\\\\\n",
       "\t 2017\\\\\n",
       "\\end{tabular}\n"
      ],
      "text/markdown": [
       "\n",
       "year | \n",
       "|---|---|---|---|---|---|---|---|\n",
       "| 2010 | \n",
       "| 2011 | \n",
       "| 2012 | \n",
       "| 2013 | \n",
       "| 2014 | \n",
       "| 2015 | \n",
       "| 2016 | \n",
       "| 2017 | \n",
       "\n",
       "\n"
      ],
      "text/plain": [
       "  year\n",
       "1 2010\n",
       "2 2011\n",
       "3 2012\n",
       "4 2013\n",
       "5 2014\n",
       "6 2015\n",
       "7 2016\n",
       "8 2017"
      ]
     },
     "metadata": {},
     "output_type": "display_data"
    }
   ],
   "source": [
    "country %>% select(year) %>% distinct(year) %>% arrange(year)"
   ]
  },
  {
   "cell_type": "code",
   "execution_count": 69,
   "metadata": {},
   "outputs": [
    {
     "data": {
      "text/html": [
       "<table>\n",
       "<thead><tr><th scope=col>country_name</th></tr></thead>\n",
       "<tbody>\n",
       "\t<tr><td>Cape Verde              </td></tr>\n",
       "\t<tr><td>Cote d'Ivoire           </td></tr>\n",
       "\t<tr><td>Ghana                   </td></tr>\n",
       "\t<tr><td>Liberia                 </td></tr>\n",
       "\t<tr><td>Burkina Faso            </td></tr>\n",
       "\t<tr><td>Guinea                  </td></tr>\n",
       "\t<tr><td>Guinea-Bissau           </td></tr>\n",
       "\t<tr><td>Mali                    </td></tr>\n",
       "\t<tr><td>Senegal                 </td></tr>\n",
       "\t<tr><td>Sierra Leone            </td></tr>\n",
       "\t<tr><td>The Gambia              </td></tr>\n",
       "\t<tr><td>Djibouti                </td></tr>\n",
       "\t<tr><td>Eritrea                 </td></tr>\n",
       "\t<tr><td>Ethiopia                </td></tr>\n",
       "\t<tr><td>Sudan                   </td></tr>\n",
       "\t<tr><td>Algeria                 </td></tr>\n",
       "\t<tr><td>Cameroon                </td></tr>\n",
       "\t<tr><td>Central African Republic</td></tr>\n",
       "\t<tr><td>Tunisia                 </td></tr>\n",
       "\t<tr><td>Benin                   </td></tr>\n",
       "\t<tr><td>Equatorial Guinea       </td></tr>\n",
       "\t<tr><td>Niger                   </td></tr>\n",
       "\t<tr><td>Nigeria                 </td></tr>\n",
       "\t<tr><td>Togo                    </td></tr>\n",
       "\t<tr><td>Somalia                 </td></tr>\n",
       "\t<tr><td>Botswana                </td></tr>\n",
       "\t<tr><td>Burundi                 </td></tr>\n",
       "\t<tr><td>Rwanda                  </td></tr>\n",
       "\t<tr><td>Zambia                  </td></tr>\n",
       "\t<tr><td>Zimbabwe                </td></tr>\n",
       "\t<tr><td>Comoros                 </td></tr>\n",
       "\t<tr><td>Lesotho                 </td></tr>\n",
       "\t<tr><td>Malawi                  </td></tr>\n",
       "\t<tr><td>Mozambique              </td></tr>\n",
       "\t<tr><td>South Africa            </td></tr>\n",
       "\t<tr><td>Swaziland               </td></tr>\n",
       "\t<tr><td>Angola                  </td></tr>\n",
       "\t<tr><td>Congo                   </td></tr>\n",
       "\t<tr><td>Congo, DRC              </td></tr>\n",
       "\t<tr><td>Gabon                   </td></tr>\n",
       "\t<tr><td>Namibia                 </td></tr>\n",
       "\t<tr><td>Madagascar              </td></tr>\n",
       "\t<tr><td>Mauritius               </td></tr>\n",
       "\t<tr><td>Seychelles              </td></tr>\n",
       "\t<tr><td>Libya                   </td></tr>\n",
       "\t<tr><td>Chad                    </td></tr>\n",
       "\t<tr><td>Uganda                  </td></tr>\n",
       "\t<tr><td>Kenya                   </td></tr>\n",
       "\t<tr><td>Tanzania                </td></tr>\n",
       "\t<tr><td>Morocco                 </td></tr>\n",
       "\t<tr><td>Mauritania              </td></tr>\n",
       "\t<tr><td>South Sudan             </td></tr>\n",
       "</tbody>\n",
       "</table>\n"
      ],
      "text/latex": [
       "\\begin{tabular}{r|l}\n",
       " country\\_name\\\\\n",
       "\\hline\n",
       "\t Cape Verde              \\\\\n",
       "\t Cote d'Ivoire           \\\\\n",
       "\t Ghana                   \\\\\n",
       "\t Liberia                 \\\\\n",
       "\t Burkina Faso            \\\\\n",
       "\t Guinea                  \\\\\n",
       "\t Guinea-Bissau           \\\\\n",
       "\t Mali                    \\\\\n",
       "\t Senegal                 \\\\\n",
       "\t Sierra Leone            \\\\\n",
       "\t The Gambia              \\\\\n",
       "\t Djibouti                \\\\\n",
       "\t Eritrea                 \\\\\n",
       "\t Ethiopia                \\\\\n",
       "\t Sudan                   \\\\\n",
       "\t Algeria                 \\\\\n",
       "\t Cameroon                \\\\\n",
       "\t Central African Republic\\\\\n",
       "\t Tunisia                 \\\\\n",
       "\t Benin                   \\\\\n",
       "\t Equatorial Guinea       \\\\\n",
       "\t Niger                   \\\\\n",
       "\t Nigeria                 \\\\\n",
       "\t Togo                    \\\\\n",
       "\t Somalia                 \\\\\n",
       "\t Botswana                \\\\\n",
       "\t Burundi                 \\\\\n",
       "\t Rwanda                  \\\\\n",
       "\t Zambia                  \\\\\n",
       "\t Zimbabwe                \\\\\n",
       "\t Comoros                 \\\\\n",
       "\t Lesotho                 \\\\\n",
       "\t Malawi                  \\\\\n",
       "\t Mozambique              \\\\\n",
       "\t South Africa            \\\\\n",
       "\t Swaziland               \\\\\n",
       "\t Angola                  \\\\\n",
       "\t Congo                   \\\\\n",
       "\t Congo, DRC              \\\\\n",
       "\t Gabon                   \\\\\n",
       "\t Namibia                 \\\\\n",
       "\t Madagascar              \\\\\n",
       "\t Mauritius               \\\\\n",
       "\t Seychelles              \\\\\n",
       "\t Libya                   \\\\\n",
       "\t Chad                    \\\\\n",
       "\t Uganda                  \\\\\n",
       "\t Kenya                   \\\\\n",
       "\t Tanzania                \\\\\n",
       "\t Morocco                 \\\\\n",
       "\t Mauritania              \\\\\n",
       "\t South Sudan             \\\\\n",
       "\\end{tabular}\n"
      ],
      "text/markdown": [
       "\n",
       "country_name | \n",
       "|---|---|---|---|---|---|---|---|---|---|---|---|---|---|---|---|---|---|---|---|---|---|---|---|---|---|---|---|---|---|---|---|---|---|---|---|---|---|---|---|---|---|---|---|---|---|---|---|---|---|---|---|\n",
       "| Cape Verde               | \n",
       "| Cote d'Ivoire            | \n",
       "| Ghana                    | \n",
       "| Liberia                  | \n",
       "| Burkina Faso             | \n",
       "| Guinea                   | \n",
       "| Guinea-Bissau            | \n",
       "| Mali                     | \n",
       "| Senegal                  | \n",
       "| Sierra Leone             | \n",
       "| The Gambia               | \n",
       "| Djibouti                 | \n",
       "| Eritrea                  | \n",
       "| Ethiopia                 | \n",
       "| Sudan                    | \n",
       "| Algeria                  | \n",
       "| Cameroon                 | \n",
       "| Central African Republic | \n",
       "| Tunisia                  | \n",
       "| Benin                    | \n",
       "| Equatorial Guinea        | \n",
       "| Niger                    | \n",
       "| Nigeria                  | \n",
       "| Togo                     | \n",
       "| Somalia                  | \n",
       "| Botswana                 | \n",
       "| Burundi                  | \n",
       "| Rwanda                   | \n",
       "| Zambia                   | \n",
       "| Zimbabwe                 | \n",
       "| Comoros                  | \n",
       "| Lesotho                  | \n",
       "| Malawi                   | \n",
       "| Mozambique               | \n",
       "| South Africa             | \n",
       "| Swaziland                | \n",
       "| Angola                   | \n",
       "| Congo                    | \n",
       "| Congo, DRC               | \n",
       "| Gabon                    | \n",
       "| Namibia                  | \n",
       "| Madagascar               | \n",
       "| Mauritius                | \n",
       "| Seychelles               | \n",
       "| Libya                    | \n",
       "| Chad                     | \n",
       "| Uganda                   | \n",
       "| Kenya                    | \n",
       "| Tanzania                 | \n",
       "| Morocco                  | \n",
       "| Mauritania               | \n",
       "| South Sudan              | \n",
       "\n",
       "\n"
      ],
      "text/plain": [
       "   country_name            \n",
       "1  Cape Verde              \n",
       "2  Cote d'Ivoire           \n",
       "3  Ghana                   \n",
       "4  Liberia                 \n",
       "5  Burkina Faso            \n",
       "6  Guinea                  \n",
       "7  Guinea-Bissau           \n",
       "8  Mali                    \n",
       "9  Senegal                 \n",
       "10 Sierra Leone            \n",
       "11 The Gambia              \n",
       "12 Djibouti                \n",
       "13 Eritrea                 \n",
       "14 Ethiopia                \n",
       "15 Sudan                   \n",
       "16 Algeria                 \n",
       "17 Cameroon                \n",
       "18 Central African Republic\n",
       "19 Tunisia                 \n",
       "20 Benin                   \n",
       "21 Equatorial Guinea       \n",
       "22 Niger                   \n",
       "23 Nigeria                 \n",
       "24 Togo                    \n",
       "25 Somalia                 \n",
       "26 Botswana                \n",
       "27 Burundi                 \n",
       "28 Rwanda                  \n",
       "29 Zambia                  \n",
       "30 Zimbabwe                \n",
       "31 Comoros                 \n",
       "32 Lesotho                 \n",
       "33 Malawi                  \n",
       "34 Mozambique              \n",
       "35 South Africa            \n",
       "36 Swaziland               \n",
       "37 Angola                  \n",
       "38 Congo                   \n",
       "39 Congo, DRC              \n",
       "40 Gabon                   \n",
       "41 Namibia                 \n",
       "42 Madagascar              \n",
       "43 Mauritius               \n",
       "44 Seychelles              \n",
       "45 Libya                   \n",
       "46 Chad                    \n",
       "47 Uganda                  \n",
       "48 Kenya                   \n",
       "49 Tanzania                \n",
       "50 Morocco                 \n",
       "51 Mauritania              \n",
       "52 South Sudan             "
      ]
     },
     "metadata": {},
     "output_type": "display_data"
    },
    {
     "data": {
      "text/html": [
       "<table>\n",
       "<thead><tr><th scope=col>country</th></tr></thead>\n",
       "<tbody>\n",
       "\t<tr><td>DR Congo (Zaire) </td></tr>\n",
       "\t<tr><td>Burundi          </td></tr>\n",
       "\t<tr><td>Nigeria          </td></tr>\n",
       "\t<tr><td>Sudan            </td></tr>\n",
       "\t<tr><td>Uganda           </td></tr>\n",
       "\t<tr><td>Ethiopia         </td></tr>\n",
       "\t<tr><td>Mozambique       </td></tr>\n",
       "\t<tr><td>Somalia          </td></tr>\n",
       "\t<tr><td>Cameroon         </td></tr>\n",
       "\t<tr><td>Mali             </td></tr>\n",
       "\t<tr><td>Rwanda           </td></tr>\n",
       "\t<tr><td>Algeria          </td></tr>\n",
       "\t<tr><td>Angola           </td></tr>\n",
       "\t<tr><td>Congo            </td></tr>\n",
       "\t<tr><td>Eritrea, Ethiopia</td></tr>\n",
       "\t<tr><td>South Sudan      </td></tr>\n",
       "\t<tr><td>Libya            </td></tr>\n",
       "\t<tr><td>Niger            </td></tr>\n",
       "\t<tr><td>Chad             </td></tr>\n",
       "\t<tr><td>Kenya            </td></tr>\n",
       "\t<tr><td>Tunisia          </td></tr>\n",
       "</tbody>\n",
       "</table>\n"
      ],
      "text/latex": [
       "\\begin{tabular}{r|l}\n",
       " country\\\\\n",
       "\\hline\n",
       "\t DR Congo (Zaire) \\\\\n",
       "\t Burundi          \\\\\n",
       "\t Nigeria          \\\\\n",
       "\t Sudan            \\\\\n",
       "\t Uganda           \\\\\n",
       "\t Ethiopia         \\\\\n",
       "\t Mozambique       \\\\\n",
       "\t Somalia          \\\\\n",
       "\t Cameroon         \\\\\n",
       "\t Mali             \\\\\n",
       "\t Rwanda           \\\\\n",
       "\t Algeria          \\\\\n",
       "\t Angola           \\\\\n",
       "\t Congo            \\\\\n",
       "\t Eritrea, Ethiopia\\\\\n",
       "\t South Sudan      \\\\\n",
       "\t Libya            \\\\\n",
       "\t Niger            \\\\\n",
       "\t Chad             \\\\\n",
       "\t Kenya            \\\\\n",
       "\t Tunisia          \\\\\n",
       "\\end{tabular}\n"
      ],
      "text/markdown": [
       "\n",
       "country | \n",
       "|---|---|---|---|---|---|---|---|---|---|---|---|---|---|---|---|---|---|---|---|---|\n",
       "| DR Congo (Zaire)  | \n",
       "| Burundi           | \n",
       "| Nigeria           | \n",
       "| Sudan             | \n",
       "| Uganda            | \n",
       "| Ethiopia          | \n",
       "| Mozambique        | \n",
       "| Somalia           | \n",
       "| Cameroon          | \n",
       "| Mali              | \n",
       "| Rwanda            | \n",
       "| Algeria           | \n",
       "| Angola            | \n",
       "| Congo             | \n",
       "| Eritrea, Ethiopia | \n",
       "| South Sudan       | \n",
       "| Libya             | \n",
       "| Niger             | \n",
       "| Chad              | \n",
       "| Kenya             | \n",
       "| Tunisia           | \n",
       "\n",
       "\n"
      ],
      "text/plain": [
       "   country          \n",
       "1  DR Congo (Zaire) \n",
       "2  Burundi          \n",
       "3  Nigeria          \n",
       "4  Sudan            \n",
       "5  Uganda           \n",
       "6  Ethiopia         \n",
       "7  Mozambique       \n",
       "8  Somalia          \n",
       "9  Cameroon         \n",
       "10 Mali             \n",
       "11 Rwanda           \n",
       "12 Algeria          \n",
       "13 Angola           \n",
       "14 Congo            \n",
       "15 Eritrea, Ethiopia\n",
       "16 South Sudan      \n",
       "17 Libya            \n",
       "18 Niger            \n",
       "19 Chad             \n",
       "20 Kenya            \n",
       "21 Tunisia          "
      ]
     },
     "metadata": {},
     "output_type": "display_data"
    }
   ],
   "source": [
    "distinct(country['country_name'])\n",
    "distinct(conflict['country'])"
   ]
  },
  {
   "cell_type": "markdown",
   "metadata": {},
   "source": [
    "## Let's plan\n",
    "\n",
    "1. **Filter** = we only need the country name, country id, year and GDP column from the country table. We also only want data from 2015 and onwards, so let's filter for that as well. It's not needed now, but when we have 1.000.000 rows and an old laptop...\n",
    "1. **Aggregate** = the conflict data to country level, taking the sum of fatalities. This will also filter it for us!\n",
    "1. **Join** = We use the filtered country table as base. What kind of join do we need?\n",
    "1. **DONE**"
   ]
  },
  {
   "cell_type": "code",
   "execution_count": 50,
   "metadata": {},
   "outputs": [
    {
     "data": {
      "text/html": [
       "<table>\n",
       "<thead><tr><th scope=col>country_name</th><th scope=col>country_id</th><th scope=col>year</th><th scope=col>gdp</th></tr></thead>\n",
       "<tbody>\n",
       "\t<tr><td>Cape Verde   </td><td>402          </td><td>2015         </td><td>1513.00      </td></tr>\n",
       "\t<tr><td>Cape Verde   </td><td>402          </td><td>2016         </td><td>1561.10      </td></tr>\n",
       "\t<tr><td>Cape Verde   </td><td>402          </td><td>2017         </td><td>1712.70      </td></tr>\n",
       "\t<tr><td>Cote d'Ivoire</td><td>437          </td><td>2015         </td><td>3267.81      </td></tr>\n",
       "\t<tr><td>Cote d'Ivoire</td><td>437          </td><td>2016         </td><td>3465.94      </td></tr>\n",
       "\t<tr><td>Cote d'Ivoire</td><td>437          </td><td>2017         </td><td>2894.78      </td></tr>\n",
       "\t<tr><td>Ghana        </td><td>452          </td><td>2015         </td><td>3950.29      </td></tr>\n",
       "\t<tr><td>Ghana        </td><td>452          </td><td>2016         </td><td>4001.10      </td></tr>\n",
       "\t<tr><td>Ghana        </td><td>452          </td><td>2017         </td><td>4157.05      </td></tr>\n",
       "\t<tr><td>Liberia      </td><td>450          </td><td>2015         </td><td> 788.56      </td></tr>\n",
       "\t<tr><td>Liberia      </td><td>450          </td><td>2016         </td><td> 756.72      </td></tr>\n",
       "\t<tr><td>Liberia      </td><td>450          </td><td>2017         </td><td>1009.50      </td></tr>\n",
       "\t<tr><td>Burkina Faso </td><td>439          </td><td>2015         </td><td>1558.06      </td></tr>\n",
       "\t<tr><td>Burkina Faso </td><td>439          </td><td>2016         </td><td>1602.02      </td></tr>\n",
       "\t<tr><td>Burkina Faso </td><td>439          </td><td>2017         </td><td>1512.73      </td></tr>\n",
       "\t<tr><td>Guinea       </td><td>438          </td><td>2015         </td><td>1189.35      </td></tr>\n",
       "\t<tr><td>Guinea       </td><td>438          </td><td>2016         </td><td>1220.49      </td></tr>\n",
       "\t<tr><td>Guinea       </td><td>438          </td><td>2017         </td><td>1271.53      </td></tr>\n",
       "\t<tr><td>Guinea-Bissau</td><td>404          </td><td>2015         </td><td>1430.84      </td></tr>\n",
       "\t<tr><td>Guinea-Bissau</td><td>404          </td><td>2016         </td><td>1473.04      </td></tr>\n",
       "\t<tr><td>Guinea-Bissau</td><td>404          </td><td>2017         </td><td>1660.13      </td></tr>\n",
       "\t<tr><td>Mali         </td><td>432          </td><td>2015         </td><td>1928.42      </td></tr>\n",
       "\t<tr><td>Mali         </td><td>432          </td><td>2016         </td><td>1972.12      </td></tr>\n",
       "\t<tr><td>Mali         </td><td>432          </td><td>2017         </td><td>2275.19      </td></tr>\n",
       "\t<tr><td>Senegal      </td><td>433          </td><td>2015         </td><td>2308.00      </td></tr>\n",
       "\t<tr><td>Senegal      </td><td>433          </td><td>2016         </td><td>2392.11      </td></tr>\n",
       "\t<tr><td>Senegal      </td><td>433          </td><td>2017         </td><td>2455.44      </td></tr>\n",
       "\t<tr><td>Sierra Leone </td><td>451          </td><td>2015         </td><td>1322.05      </td></tr>\n",
       "\t<tr><td>Sierra Leone </td><td>451          </td><td>2016         </td><td>1372.11      </td></tr>\n",
       "\t<tr><td>Sierra Leone </td><td>451          </td><td>2017         </td><td>1788.69      </td></tr>\n",
       "\t<tr><td>⋮</td><td>⋮</td><td>⋮</td><td>⋮</td></tr>\n",
       "\t<tr><td>Seychelles </td><td>591        </td><td>2015       </td><td>25689.15   </td></tr>\n",
       "\t<tr><td>Seychelles </td><td>591        </td><td>2016       </td><td>26488.96   </td></tr>\n",
       "\t<tr><td>Seychelles </td><td>591        </td><td>2017       </td><td>27489.96   </td></tr>\n",
       "\t<tr><td>Libya      </td><td>620        </td><td>2015       </td><td>17793.44   </td></tr>\n",
       "\t<tr><td>Libya      </td><td>620        </td><td>2016       </td><td>17448.03   </td></tr>\n",
       "\t<tr><td>Libya      </td><td>620        </td><td>2017       </td><td>17109.32   </td></tr>\n",
       "\t<tr><td>Chad       </td><td>483        </td><td>2015       </td><td> 2057.53   </td></tr>\n",
       "\t<tr><td>Chad       </td><td>483        </td><td>2016       </td><td> 1854.71   </td></tr>\n",
       "\t<tr><td>Chad       </td><td>483        </td><td>2017       </td><td> 2224.23   </td></tr>\n",
       "\t<tr><td>Uganda     </td><td>500        </td><td>2015       </td><td> 1700.50   </td></tr>\n",
       "\t<tr><td>Uganda     </td><td>500        </td><td>2016       </td><td> 1721.93   </td></tr>\n",
       "\t<tr><td>Uganda     </td><td>500        </td><td>2017       </td><td> 1885.35   </td></tr>\n",
       "\t<tr><td>Kenya      </td><td>501        </td><td>2015       </td><td> 2849.92   </td></tr>\n",
       "\t<tr><td>Kenya      </td><td>501        </td><td>2016       </td><td> 2940.39   </td></tr>\n",
       "\t<tr><td>Kenya      </td><td>501        </td><td>2017       </td><td> 3261.60   </td></tr>\n",
       "\t<tr><td>Tanzania   </td><td>510        </td><td>2015       </td><td> 2503.30   </td></tr>\n",
       "\t<tr><td>Tanzania   </td><td>510        </td><td>2016       </td><td> 2596.14   </td></tr>\n",
       "\t<tr><td>Tanzania   </td><td>510        </td><td>2017       </td><td> 2776.88   </td></tr>\n",
       "\t<tr><td>Morocco    </td><td>600        </td><td>2015       </td><td> 7326.71   </td></tr>\n",
       "\t<tr><td>Morocco    </td><td>600        </td><td>2016       </td><td> 7306.78   </td></tr>\n",
       "\t<tr><td>Morocco    </td><td>600        </td><td>2017       </td><td> 7712.69   </td></tr>\n",
       "\t<tr><td>Mauritania </td><td>435        </td><td>2015       </td><td> 3620.30   </td></tr>\n",
       "\t<tr><td>Mauritania </td><td>435        </td><td>2016       </td><td> 3590.79   </td></tr>\n",
       "\t<tr><td>Mauritania </td><td>435        </td><td>2017       </td><td> 4238.56   </td></tr>\n",
       "\t<tr><td>Sudan      </td><td>625        </td><td>2015       </td><td> 4313.11   </td></tr>\n",
       "\t<tr><td>Sudan      </td><td>625        </td><td>2016       </td><td> 4408.34   </td></tr>\n",
       "\t<tr><td>Sudan      </td><td>625        </td><td>2017       </td><td> 4665.70   </td></tr>\n",
       "\t<tr><td>South Sudan</td><td>626        </td><td>2015       </td><td> 1816.75   </td></tr>\n",
       "\t<tr><td>South Sudan</td><td>626        </td><td>2016       </td><td>      NA   </td></tr>\n",
       "\t<tr><td>South Sudan</td><td>626        </td><td>2017       </td><td> 1829.13   </td></tr>\n",
       "</tbody>\n",
       "</table>\n"
      ],
      "text/latex": [
       "\\begin{tabular}{r|llll}\n",
       " country\\_name & country\\_id & year & gdp\\\\\n",
       "\\hline\n",
       "\t Cape Verde    & 402           & 2015          & 1513.00      \\\\\n",
       "\t Cape Verde    & 402           & 2016          & 1561.10      \\\\\n",
       "\t Cape Verde    & 402           & 2017          & 1712.70      \\\\\n",
       "\t Cote d'Ivoire & 437           & 2015          & 3267.81      \\\\\n",
       "\t Cote d'Ivoire & 437           & 2016          & 3465.94      \\\\\n",
       "\t Cote d'Ivoire & 437           & 2017          & 2894.78      \\\\\n",
       "\t Ghana         & 452           & 2015          & 3950.29      \\\\\n",
       "\t Ghana         & 452           & 2016          & 4001.10      \\\\\n",
       "\t Ghana         & 452           & 2017          & 4157.05      \\\\\n",
       "\t Liberia       & 450           & 2015          &  788.56      \\\\\n",
       "\t Liberia       & 450           & 2016          &  756.72      \\\\\n",
       "\t Liberia       & 450           & 2017          & 1009.50      \\\\\n",
       "\t Burkina Faso  & 439           & 2015          & 1558.06      \\\\\n",
       "\t Burkina Faso  & 439           & 2016          & 1602.02      \\\\\n",
       "\t Burkina Faso  & 439           & 2017          & 1512.73      \\\\\n",
       "\t Guinea        & 438           & 2015          & 1189.35      \\\\\n",
       "\t Guinea        & 438           & 2016          & 1220.49      \\\\\n",
       "\t Guinea        & 438           & 2017          & 1271.53      \\\\\n",
       "\t Guinea-Bissau & 404           & 2015          & 1430.84      \\\\\n",
       "\t Guinea-Bissau & 404           & 2016          & 1473.04      \\\\\n",
       "\t Guinea-Bissau & 404           & 2017          & 1660.13      \\\\\n",
       "\t Mali          & 432           & 2015          & 1928.42      \\\\\n",
       "\t Mali          & 432           & 2016          & 1972.12      \\\\\n",
       "\t Mali          & 432           & 2017          & 2275.19      \\\\\n",
       "\t Senegal       & 433           & 2015          & 2308.00      \\\\\n",
       "\t Senegal       & 433           & 2016          & 2392.11      \\\\\n",
       "\t Senegal       & 433           & 2017          & 2455.44      \\\\\n",
       "\t Sierra Leone  & 451           & 2015          & 1322.05      \\\\\n",
       "\t Sierra Leone  & 451           & 2016          & 1372.11      \\\\\n",
       "\t Sierra Leone  & 451           & 2017          & 1788.69      \\\\\n",
       "\t ⋮ & ⋮ & ⋮ & ⋮\\\\\n",
       "\t Seychelles  & 591         & 2015        & 25689.15   \\\\\n",
       "\t Seychelles  & 591         & 2016        & 26488.96   \\\\\n",
       "\t Seychelles  & 591         & 2017        & 27489.96   \\\\\n",
       "\t Libya       & 620         & 2015        & 17793.44   \\\\\n",
       "\t Libya       & 620         & 2016        & 17448.03   \\\\\n",
       "\t Libya       & 620         & 2017        & 17109.32   \\\\\n",
       "\t Chad        & 483         & 2015        &  2057.53   \\\\\n",
       "\t Chad        & 483         & 2016        &  1854.71   \\\\\n",
       "\t Chad        & 483         & 2017        &  2224.23   \\\\\n",
       "\t Uganda      & 500         & 2015        &  1700.50   \\\\\n",
       "\t Uganda      & 500         & 2016        &  1721.93   \\\\\n",
       "\t Uganda      & 500         & 2017        &  1885.35   \\\\\n",
       "\t Kenya       & 501         & 2015        &  2849.92   \\\\\n",
       "\t Kenya       & 501         & 2016        &  2940.39   \\\\\n",
       "\t Kenya       & 501         & 2017        &  3261.60   \\\\\n",
       "\t Tanzania    & 510         & 2015        &  2503.30   \\\\\n",
       "\t Tanzania    & 510         & 2016        &  2596.14   \\\\\n",
       "\t Tanzania    & 510         & 2017        &  2776.88   \\\\\n",
       "\t Morocco     & 600         & 2015        &  7326.71   \\\\\n",
       "\t Morocco     & 600         & 2016        &  7306.78   \\\\\n",
       "\t Morocco     & 600         & 2017        &  7712.69   \\\\\n",
       "\t Mauritania  & 435         & 2015        &  3620.30   \\\\\n",
       "\t Mauritania  & 435         & 2016        &  3590.79   \\\\\n",
       "\t Mauritania  & 435         & 2017        &  4238.56   \\\\\n",
       "\t Sudan       & 625         & 2015        &  4313.11   \\\\\n",
       "\t Sudan       & 625         & 2016        &  4408.34   \\\\\n",
       "\t Sudan       & 625         & 2017        &  4665.70   \\\\\n",
       "\t South Sudan & 626         & 2015        &  1816.75   \\\\\n",
       "\t South Sudan & 626         & 2016        &       NA   \\\\\n",
       "\t South Sudan & 626         & 2017        &  1829.13   \\\\\n",
       "\\end{tabular}\n"
      ],
      "text/markdown": [
       "\n",
       "country_name | country_id | year | gdp | \n",
       "|---|---|---|---|---|---|---|---|---|---|---|---|---|---|---|---|---|---|---|---|---|---|---|---|---|---|---|---|---|---|---|---|---|---|---|---|---|---|---|---|---|---|---|---|---|---|---|---|---|---|---|---|---|---|---|---|---|---|---|---|---|\n",
       "| Cape Verde    | 402           | 2015          | 1513.00       | \n",
       "| Cape Verde    | 402           | 2016          | 1561.10       | \n",
       "| Cape Verde    | 402           | 2017          | 1712.70       | \n",
       "| Cote d'Ivoire | 437           | 2015          | 3267.81       | \n",
       "| Cote d'Ivoire | 437           | 2016          | 3465.94       | \n",
       "| Cote d'Ivoire | 437           | 2017          | 2894.78       | \n",
       "| Ghana         | 452           | 2015          | 3950.29       | \n",
       "| Ghana         | 452           | 2016          | 4001.10       | \n",
       "| Ghana         | 452           | 2017          | 4157.05       | \n",
       "| Liberia       | 450           | 2015          |  788.56       | \n",
       "| Liberia       | 450           | 2016          |  756.72       | \n",
       "| Liberia       | 450           | 2017          | 1009.50       | \n",
       "| Burkina Faso  | 439           | 2015          | 1558.06       | \n",
       "| Burkina Faso  | 439           | 2016          | 1602.02       | \n",
       "| Burkina Faso  | 439           | 2017          | 1512.73       | \n",
       "| Guinea        | 438           | 2015          | 1189.35       | \n",
       "| Guinea        | 438           | 2016          | 1220.49       | \n",
       "| Guinea        | 438           | 2017          | 1271.53       | \n",
       "| Guinea-Bissau | 404           | 2015          | 1430.84       | \n",
       "| Guinea-Bissau | 404           | 2016          | 1473.04       | \n",
       "| Guinea-Bissau | 404           | 2017          | 1660.13       | \n",
       "| Mali          | 432           | 2015          | 1928.42       | \n",
       "| Mali          | 432           | 2016          | 1972.12       | \n",
       "| Mali          | 432           | 2017          | 2275.19       | \n",
       "| Senegal       | 433           | 2015          | 2308.00       | \n",
       "| Senegal       | 433           | 2016          | 2392.11       | \n",
       "| Senegal       | 433           | 2017          | 2455.44       | \n",
       "| Sierra Leone  | 451           | 2015          | 1322.05       | \n",
       "| Sierra Leone  | 451           | 2016          | 1372.11       | \n",
       "| Sierra Leone  | 451           | 2017          | 1788.69       | \n",
       "| ⋮ | ⋮ | ⋮ | ⋮ | \n",
       "| Seychelles  | 591         | 2015        | 25689.15    | \n",
       "| Seychelles  | 591         | 2016        | 26488.96    | \n",
       "| Seychelles  | 591         | 2017        | 27489.96    | \n",
       "| Libya       | 620         | 2015        | 17793.44    | \n",
       "| Libya       | 620         | 2016        | 17448.03    | \n",
       "| Libya       | 620         | 2017        | 17109.32    | \n",
       "| Chad        | 483         | 2015        |  2057.53    | \n",
       "| Chad        | 483         | 2016        |  1854.71    | \n",
       "| Chad        | 483         | 2017        |  2224.23    | \n",
       "| Uganda      | 500         | 2015        |  1700.50    | \n",
       "| Uganda      | 500         | 2016        |  1721.93    | \n",
       "| Uganda      | 500         | 2017        |  1885.35    | \n",
       "| Kenya       | 501         | 2015        |  2849.92    | \n",
       "| Kenya       | 501         | 2016        |  2940.39    | \n",
       "| Kenya       | 501         | 2017        |  3261.60    | \n",
       "| Tanzania    | 510         | 2015        |  2503.30    | \n",
       "| Tanzania    | 510         | 2016        |  2596.14    | \n",
       "| Tanzania    | 510         | 2017        |  2776.88    | \n",
       "| Morocco     | 600         | 2015        |  7326.71    | \n",
       "| Morocco     | 600         | 2016        |  7306.78    | \n",
       "| Morocco     | 600         | 2017        |  7712.69    | \n",
       "| Mauritania  | 435         | 2015        |  3620.30    | \n",
       "| Mauritania  | 435         | 2016        |  3590.79    | \n",
       "| Mauritania  | 435         | 2017        |  4238.56    | \n",
       "| Sudan       | 625         | 2015        |  4313.11    | \n",
       "| Sudan       | 625         | 2016        |  4408.34    | \n",
       "| Sudan       | 625         | 2017        |  4665.70    | \n",
       "| South Sudan | 626         | 2015        |  1816.75    | \n",
       "| South Sudan | 626         | 2016        |       NA    | \n",
       "| South Sudan | 626         | 2017        |  1829.13    | \n",
       "\n",
       "\n"
      ],
      "text/plain": [
       "    country_name  country_id year gdp     \n",
       "1   Cape Verde    402        2015 1513.00 \n",
       "2   Cape Verde    402        2016 1561.10 \n",
       "3   Cape Verde    402        2017 1712.70 \n",
       "4   Cote d'Ivoire 437        2015 3267.81 \n",
       "5   Cote d'Ivoire 437        2016 3465.94 \n",
       "6   Cote d'Ivoire 437        2017 2894.78 \n",
       "7   Ghana         452        2015 3950.29 \n",
       "8   Ghana         452        2016 4001.10 \n",
       "9   Ghana         452        2017 4157.05 \n",
       "10  Liberia       450        2015  788.56 \n",
       "11  Liberia       450        2016  756.72 \n",
       "12  Liberia       450        2017 1009.50 \n",
       "13  Burkina Faso  439        2015 1558.06 \n",
       "14  Burkina Faso  439        2016 1602.02 \n",
       "15  Burkina Faso  439        2017 1512.73 \n",
       "16  Guinea        438        2015 1189.35 \n",
       "17  Guinea        438        2016 1220.49 \n",
       "18  Guinea        438        2017 1271.53 \n",
       "19  Guinea-Bissau 404        2015 1430.84 \n",
       "20  Guinea-Bissau 404        2016 1473.04 \n",
       "21  Guinea-Bissau 404        2017 1660.13 \n",
       "22  Mali          432        2015 1928.42 \n",
       "23  Mali          432        2016 1972.12 \n",
       "24  Mali          432        2017 2275.19 \n",
       "25  Senegal       433        2015 2308.00 \n",
       "26  Senegal       433        2016 2392.11 \n",
       "27  Senegal       433        2017 2455.44 \n",
       "28  Sierra Leone  451        2015 1322.05 \n",
       "29  Sierra Leone  451        2016 1372.11 \n",
       "30  Sierra Leone  451        2017 1788.69 \n",
       "⋮   ⋮             ⋮          ⋮    ⋮       \n",
       "127 Seychelles    591        2015 25689.15\n",
       "128 Seychelles    591        2016 26488.96\n",
       "129 Seychelles    591        2017 27489.96\n",
       "130 Libya         620        2015 17793.44\n",
       "131 Libya         620        2016 17448.03\n",
       "132 Libya         620        2017 17109.32\n",
       "133 Chad          483        2015  2057.53\n",
       "134 Chad          483        2016  1854.71\n",
       "135 Chad          483        2017  2224.23\n",
       "136 Uganda        500        2015  1700.50\n",
       "137 Uganda        500        2016  1721.93\n",
       "138 Uganda        500        2017  1885.35\n",
       "139 Kenya         501        2015  2849.92\n",
       "140 Kenya         501        2016  2940.39\n",
       "141 Kenya         501        2017  3261.60\n",
       "142 Tanzania      510        2015  2503.30\n",
       "143 Tanzania      510        2016  2596.14\n",
       "144 Tanzania      510        2017  2776.88\n",
       "145 Morocco       600        2015  7326.71\n",
       "146 Morocco       600        2016  7306.78\n",
       "147 Morocco       600        2017  7712.69\n",
       "148 Mauritania    435        2015  3620.30\n",
       "149 Mauritania    435        2016  3590.79\n",
       "150 Mauritania    435        2017  4238.56\n",
       "151 Sudan         625        2015  4313.11\n",
       "152 Sudan         625        2016  4408.34\n",
       "153 Sudan         625        2017  4665.70\n",
       "154 South Sudan   626        2015  1816.75\n",
       "155 South Sudan   626        2016       NA\n",
       "156 South Sudan   626        2017  1829.13"
      ]
     },
     "metadata": {},
     "output_type": "display_data"
    }
   ],
   "source": [
    "#FILTERING\n",
    "filtered_country <- select(country, country_name, country_id, year, gdp)\n",
    "filtered_country <- filter(filtered_country, year>=2015 & year<2019)\n",
    "filtered_country"
   ]
  },
  {
   "cell_type": "code",
   "execution_count": 18,
   "metadata": {},
   "outputs": [
    {
     "data": {
      "text/html": [
       "<table>\n",
       "<thead><tr><th scope=col>country_id</th><th scope=col>year</th><th scope=col>number_of_conflicts</th><th scope=col>fatalities</th></tr></thead>\n",
       "<tbody>\n",
       "\t<tr><td>432 </td><td>2015</td><td>3   </td><td> 165</td></tr>\n",
       "\t<tr><td>432 </td><td>2016</td><td>1   </td><td>  96</td></tr>\n",
       "\t<tr><td>432 </td><td>2017</td><td>2   </td><td> 345</td></tr>\n",
       "\t<tr><td>436 </td><td>2015</td><td>1   </td><td> 171</td></tr>\n",
       "\t<tr><td>436 </td><td>2016</td><td>1   </td><td> 274</td></tr>\n",
       "\t<tr><td>436 </td><td>2017</td><td>1   </td><td> 203</td></tr>\n",
       "\t<tr><td>471 </td><td>2015</td><td>2   </td><td> 995</td></tr>\n",
       "\t<tr><td>471 </td><td>2016</td><td>2   </td><td> 221</td></tr>\n",
       "\t<tr><td>471 </td><td>2017</td><td>1   </td><td>  63</td></tr>\n",
       "\t<tr><td>475 </td><td>2015</td><td>2   </td><td>4622</td></tr>\n",
       "\t<tr><td>475 </td><td>2016</td><td>2   </td><td>2430</td></tr>\n",
       "\t<tr><td>475 </td><td>2017</td><td>2   </td><td>1879</td></tr>\n",
       "\t<tr><td>483 </td><td>2015</td><td>1   </td><td> 272</td></tr>\n",
       "\t<tr><td>483 </td><td>2017</td><td>1   </td><td>  57</td></tr>\n",
       "\t<tr><td>484 </td><td>2016</td><td>1   </td><td>  51</td></tr>\n",
       "\t<tr><td>490 </td><td>2016</td><td>1   </td><td> 164</td></tr>\n",
       "\t<tr><td>490 </td><td>2017</td><td>2   </td><td>1698</td></tr>\n",
       "\t<tr><td>500 </td><td>2015</td><td>1   </td><td> 197</td></tr>\n",
       "\t<tr><td>500 </td><td>2016</td><td>1   </td><td> 132</td></tr>\n",
       "\t<tr><td>500 </td><td>2017</td><td>1   </td><td> 235</td></tr>\n",
       "\t<tr><td>501 </td><td>2015</td><td>1   </td><td>  42</td></tr>\n",
       "\t<tr><td>501 </td><td>2016</td><td>1   </td><td>  49</td></tr>\n",
       "\t<tr><td>501 </td><td>2017</td><td>1   </td><td>  85</td></tr>\n",
       "\t<tr><td>516 </td><td>2015</td><td>1   </td><td> 133</td></tr>\n",
       "\t<tr><td>517 </td><td>2016</td><td>1   </td><td> 129</td></tr>\n",
       "\t<tr><td>520 </td><td>2015</td><td>1   </td><td>1178</td></tr>\n",
       "\t<tr><td>520 </td><td>2016</td><td>1   </td><td>1925</td></tr>\n",
       "\t<tr><td>520 </td><td>2017</td><td>1   </td><td>1837</td></tr>\n",
       "\t<tr><td>530 </td><td>2015</td><td>2   </td><td>  50</td></tr>\n",
       "\t<tr><td>530 </td><td>2016</td><td>2   </td><td>  50</td></tr>\n",
       "\t<tr><td>531 </td><td>2016</td><td>1   </td><td>  25</td></tr>\n",
       "\t<tr><td>540 </td><td>2017</td><td>1   </td><td>  25</td></tr>\n",
       "\t<tr><td>541 </td><td>2016</td><td>1   </td><td>  26</td></tr>\n",
       "\t<tr><td>615 </td><td>2015</td><td>2   </td><td> 110</td></tr>\n",
       "\t<tr><td>615 </td><td>2016</td><td>1   </td><td>  86</td></tr>\n",
       "\t<tr><td>615 </td><td>2017</td><td>1   </td><td>  60</td></tr>\n",
       "\t<tr><td>616 </td><td>2016</td><td>1   </td><td>  72</td></tr>\n",
       "\t<tr><td>620 </td><td>2015</td><td>2   </td><td> 274</td></tr>\n",
       "\t<tr><td>620 </td><td>2016</td><td>1   </td><td>1678</td></tr>\n",
       "\t<tr><td>620 </td><td>2017</td><td>2   </td><td> 404</td></tr>\n",
       "\t<tr><td>625 </td><td>2015</td><td>1   </td><td>1264</td></tr>\n",
       "\t<tr><td>625 </td><td>2016</td><td>1   </td><td>1314</td></tr>\n",
       "\t<tr><td>625 </td><td>2017</td><td>1   </td><td> 128</td></tr>\n",
       "\t<tr><td>626 </td><td>2015</td><td>1   </td><td> 493</td></tr>\n",
       "\t<tr><td>626 </td><td>2016</td><td>1   </td><td> 735</td></tr>\n",
       "\t<tr><td>626 </td><td>2017</td><td>1   </td><td> 465</td></tr>\n",
       "</tbody>\n",
       "</table>\n"
      ],
      "text/latex": [
       "\\begin{tabular}{r|llll}\n",
       " country\\_id & year & number\\_of\\_conflicts & fatalities\\\\\n",
       "\\hline\n",
       "\t 432  & 2015 & 3    &  165\\\\\n",
       "\t 432  & 2016 & 1    &   96\\\\\n",
       "\t 432  & 2017 & 2    &  345\\\\\n",
       "\t 436  & 2015 & 1    &  171\\\\\n",
       "\t 436  & 2016 & 1    &  274\\\\\n",
       "\t 436  & 2017 & 1    &  203\\\\\n",
       "\t 471  & 2015 & 2    &  995\\\\\n",
       "\t 471  & 2016 & 2    &  221\\\\\n",
       "\t 471  & 2017 & 1    &   63\\\\\n",
       "\t 475  & 2015 & 2    & 4622\\\\\n",
       "\t 475  & 2016 & 2    & 2430\\\\\n",
       "\t 475  & 2017 & 2    & 1879\\\\\n",
       "\t 483  & 2015 & 1    &  272\\\\\n",
       "\t 483  & 2017 & 1    &   57\\\\\n",
       "\t 484  & 2016 & 1    &   51\\\\\n",
       "\t 490  & 2016 & 1    &  164\\\\\n",
       "\t 490  & 2017 & 2    & 1698\\\\\n",
       "\t 500  & 2015 & 1    &  197\\\\\n",
       "\t 500  & 2016 & 1    &  132\\\\\n",
       "\t 500  & 2017 & 1    &  235\\\\\n",
       "\t 501  & 2015 & 1    &   42\\\\\n",
       "\t 501  & 2016 & 1    &   49\\\\\n",
       "\t 501  & 2017 & 1    &   85\\\\\n",
       "\t 516  & 2015 & 1    &  133\\\\\n",
       "\t 517  & 2016 & 1    &  129\\\\\n",
       "\t 520  & 2015 & 1    & 1178\\\\\n",
       "\t 520  & 2016 & 1    & 1925\\\\\n",
       "\t 520  & 2017 & 1    & 1837\\\\\n",
       "\t 530  & 2015 & 2    &   50\\\\\n",
       "\t 530  & 2016 & 2    &   50\\\\\n",
       "\t 531  & 2016 & 1    &   25\\\\\n",
       "\t 540  & 2017 & 1    &   25\\\\\n",
       "\t 541  & 2016 & 1    &   26\\\\\n",
       "\t 615  & 2015 & 2    &  110\\\\\n",
       "\t 615  & 2016 & 1    &   86\\\\\n",
       "\t 615  & 2017 & 1    &   60\\\\\n",
       "\t 616  & 2016 & 1    &   72\\\\\n",
       "\t 620  & 2015 & 2    &  274\\\\\n",
       "\t 620  & 2016 & 1    & 1678\\\\\n",
       "\t 620  & 2017 & 2    &  404\\\\\n",
       "\t 625  & 2015 & 1    & 1264\\\\\n",
       "\t 625  & 2016 & 1    & 1314\\\\\n",
       "\t 625  & 2017 & 1    &  128\\\\\n",
       "\t 626  & 2015 & 1    &  493\\\\\n",
       "\t 626  & 2016 & 1    &  735\\\\\n",
       "\t 626  & 2017 & 1    &  465\\\\\n",
       "\\end{tabular}\n"
      ],
      "text/markdown": [
       "\n",
       "country_id | year | number_of_conflicts | fatalities | \n",
       "|---|---|---|---|---|---|---|---|---|---|---|---|---|---|---|---|---|---|---|---|---|---|---|---|---|---|---|---|---|---|---|---|---|---|---|---|---|---|---|---|---|---|---|---|---|---|\n",
       "| 432  | 2015 | 3    |  165 | \n",
       "| 432  | 2016 | 1    |   96 | \n",
       "| 432  | 2017 | 2    |  345 | \n",
       "| 436  | 2015 | 1    |  171 | \n",
       "| 436  | 2016 | 1    |  274 | \n",
       "| 436  | 2017 | 1    |  203 | \n",
       "| 471  | 2015 | 2    |  995 | \n",
       "| 471  | 2016 | 2    |  221 | \n",
       "| 471  | 2017 | 1    |   63 | \n",
       "| 475  | 2015 | 2    | 4622 | \n",
       "| 475  | 2016 | 2    | 2430 | \n",
       "| 475  | 2017 | 2    | 1879 | \n",
       "| 483  | 2015 | 1    |  272 | \n",
       "| 483  | 2017 | 1    |   57 | \n",
       "| 484  | 2016 | 1    |   51 | \n",
       "| 490  | 2016 | 1    |  164 | \n",
       "| 490  | 2017 | 2    | 1698 | \n",
       "| 500  | 2015 | 1    |  197 | \n",
       "| 500  | 2016 | 1    |  132 | \n",
       "| 500  | 2017 | 1    |  235 | \n",
       "| 501  | 2015 | 1    |   42 | \n",
       "| 501  | 2016 | 1    |   49 | \n",
       "| 501  | 2017 | 1    |   85 | \n",
       "| 516  | 2015 | 1    |  133 | \n",
       "| 517  | 2016 | 1    |  129 | \n",
       "| 520  | 2015 | 1    | 1178 | \n",
       "| 520  | 2016 | 1    | 1925 | \n",
       "| 520  | 2017 | 1    | 1837 | \n",
       "| 530  | 2015 | 2    |   50 | \n",
       "| 530  | 2016 | 2    |   50 | \n",
       "| 531  | 2016 | 1    |   25 | \n",
       "| 540  | 2017 | 1    |   25 | \n",
       "| 541  | 2016 | 1    |   26 | \n",
       "| 615  | 2015 | 2    |  110 | \n",
       "| 615  | 2016 | 1    |   86 | \n",
       "| 615  | 2017 | 1    |   60 | \n",
       "| 616  | 2016 | 1    |   72 | \n",
       "| 620  | 2015 | 2    |  274 | \n",
       "| 620  | 2016 | 1    | 1678 | \n",
       "| 620  | 2017 | 2    |  404 | \n",
       "| 625  | 2015 | 1    | 1264 | \n",
       "| 625  | 2016 | 1    | 1314 | \n",
       "| 625  | 2017 | 1    |  128 | \n",
       "| 626  | 2015 | 1    |  493 | \n",
       "| 626  | 2016 | 1    |  735 | \n",
       "| 626  | 2017 | 1    |  465 | \n",
       "\n",
       "\n"
      ],
      "text/plain": [
       "   country_id year number_of_conflicts fatalities\n",
       "1  432        2015 3                    165      \n",
       "2  432        2016 1                     96      \n",
       "3  432        2017 2                    345      \n",
       "4  436        2015 1                    171      \n",
       "5  436        2016 1                    274      \n",
       "6  436        2017 1                    203      \n",
       "7  471        2015 2                    995      \n",
       "8  471        2016 2                    221      \n",
       "9  471        2017 1                     63      \n",
       "10 475        2015 2                   4622      \n",
       "11 475        2016 2                   2430      \n",
       "12 475        2017 2                   1879      \n",
       "13 483        2015 1                    272      \n",
       "14 483        2017 1                     57      \n",
       "15 484        2016 1                     51      \n",
       "16 490        2016 1                    164      \n",
       "17 490        2017 2                   1698      \n",
       "18 500        2015 1                    197      \n",
       "19 500        2016 1                    132      \n",
       "20 500        2017 1                    235      \n",
       "21 501        2015 1                     42      \n",
       "22 501        2016 1                     49      \n",
       "23 501        2017 1                     85      \n",
       "24 516        2015 1                    133      \n",
       "25 517        2016 1                    129      \n",
       "26 520        2015 1                   1178      \n",
       "27 520        2016 1                   1925      \n",
       "28 520        2017 1                   1837      \n",
       "29 530        2015 2                     50      \n",
       "30 530        2016 2                     50      \n",
       "31 531        2016 1                     25      \n",
       "32 540        2017 1                     25      \n",
       "33 541        2016 1                     26      \n",
       "34 615        2015 2                    110      \n",
       "35 615        2016 1                     86      \n",
       "36 615        2017 1                     60      \n",
       "37 616        2016 1                     72      \n",
       "38 620        2015 2                    274      \n",
       "39 620        2016 1                   1678      \n",
       "40 620        2017 2                    404      \n",
       "41 625        2015 1                   1264      \n",
       "42 625        2016 1                   1314      \n",
       "43 625        2017 1                    128      \n",
       "44 626        2015 1                    493      \n",
       "45 626        2016 1                    735      \n",
       "46 626        2017 1                    465      "
      ]
     },
     "metadata": {},
     "output_type": "display_data"
    }
   ],
   "source": [
    "# AGGREGATION\n",
    "grouped_conflict <- group_by(conflict,country_id,year)\n",
    "conflicts_in_country <- summarize(grouped_conflict, number_of_conflicts=n(), fatalities=sum(fatalities))\n",
    "conflicts_in_country"
   ]
  },
  {
   "cell_type": "code",
   "execution_count": 19,
   "metadata": {},
   "outputs": [
    {
     "data": {
      "text/html": [
       "<table>\n",
       "<thead><tr><th scope=col>country_name</th><th scope=col>country_id</th><th scope=col>year</th><th scope=col>gdp</th><th scope=col>number_of_conflicts</th><th scope=col>fatalities</th></tr></thead>\n",
       "<tbody>\n",
       "\t<tr><td>Cape Verde   </td><td>402          </td><td>2015         </td><td>1513.00      </td><td>NA           </td><td> NA          </td></tr>\n",
       "\t<tr><td>Cape Verde   </td><td>402          </td><td>2016         </td><td>1561.10      </td><td>NA           </td><td> NA          </td></tr>\n",
       "\t<tr><td>Cape Verde   </td><td>402          </td><td>2017         </td><td>1712.70      </td><td>NA           </td><td> NA          </td></tr>\n",
       "\t<tr><td>Cote d'Ivoire</td><td>437          </td><td>2015         </td><td>3267.81      </td><td>NA           </td><td> NA          </td></tr>\n",
       "\t<tr><td>Cote d'Ivoire</td><td>437          </td><td>2016         </td><td>3465.94      </td><td>NA           </td><td> NA          </td></tr>\n",
       "\t<tr><td>Cote d'Ivoire</td><td>437          </td><td>2017         </td><td>2894.78      </td><td>NA           </td><td> NA          </td></tr>\n",
       "\t<tr><td>Ghana        </td><td>452          </td><td>2015         </td><td>3950.29      </td><td>NA           </td><td> NA          </td></tr>\n",
       "\t<tr><td>Ghana        </td><td>452          </td><td>2016         </td><td>4001.10      </td><td>NA           </td><td> NA          </td></tr>\n",
       "\t<tr><td>Ghana        </td><td>452          </td><td>2017         </td><td>4157.05      </td><td>NA           </td><td> NA          </td></tr>\n",
       "\t<tr><td>Liberia      </td><td>450          </td><td>2015         </td><td> 788.56      </td><td>NA           </td><td> NA          </td></tr>\n",
       "\t<tr><td>Liberia      </td><td>450          </td><td>2016         </td><td> 756.72      </td><td>NA           </td><td> NA          </td></tr>\n",
       "\t<tr><td>Liberia      </td><td>450          </td><td>2017         </td><td>1009.50      </td><td>NA           </td><td> NA          </td></tr>\n",
       "\t<tr><td>Burkina Faso </td><td>439          </td><td>2015         </td><td>1558.06      </td><td>NA           </td><td> NA          </td></tr>\n",
       "\t<tr><td>Burkina Faso </td><td>439          </td><td>2016         </td><td>1602.02      </td><td>NA           </td><td> NA          </td></tr>\n",
       "\t<tr><td>Burkina Faso </td><td>439          </td><td>2017         </td><td>1512.73      </td><td>NA           </td><td> NA          </td></tr>\n",
       "\t<tr><td>Guinea       </td><td>438          </td><td>2015         </td><td>1189.35      </td><td>NA           </td><td> NA          </td></tr>\n",
       "\t<tr><td>Guinea       </td><td>438          </td><td>2016         </td><td>1220.49      </td><td>NA           </td><td> NA          </td></tr>\n",
       "\t<tr><td>Guinea       </td><td>438          </td><td>2017         </td><td>1271.53      </td><td>NA           </td><td> NA          </td></tr>\n",
       "\t<tr><td>Guinea-Bissau</td><td>404          </td><td>2015         </td><td>1430.84      </td><td>NA           </td><td> NA          </td></tr>\n",
       "\t<tr><td>Guinea-Bissau</td><td>404          </td><td>2016         </td><td>1473.04      </td><td>NA           </td><td> NA          </td></tr>\n",
       "\t<tr><td>Guinea-Bissau</td><td>404          </td><td>2017         </td><td>1660.13      </td><td>NA           </td><td> NA          </td></tr>\n",
       "\t<tr><td>Mali         </td><td>432          </td><td>2015         </td><td>1928.42      </td><td> 3           </td><td>165          </td></tr>\n",
       "\t<tr><td>Mali         </td><td>432          </td><td>2016         </td><td>1972.12      </td><td> 1           </td><td> 96          </td></tr>\n",
       "\t<tr><td>Mali         </td><td>432          </td><td>2017         </td><td>2275.19      </td><td> 2           </td><td>345          </td></tr>\n",
       "\t<tr><td>Senegal      </td><td>433          </td><td>2015         </td><td>2308.00      </td><td>NA           </td><td> NA          </td></tr>\n",
       "\t<tr><td>Senegal      </td><td>433          </td><td>2016         </td><td>2392.11      </td><td>NA           </td><td> NA          </td></tr>\n",
       "\t<tr><td>Senegal      </td><td>433          </td><td>2017         </td><td>2455.44      </td><td>NA           </td><td> NA          </td></tr>\n",
       "\t<tr><td>Sierra Leone </td><td>451          </td><td>2015         </td><td>1322.05      </td><td>NA           </td><td> NA          </td></tr>\n",
       "\t<tr><td>Sierra Leone </td><td>451          </td><td>2016         </td><td>1372.11      </td><td>NA           </td><td> NA          </td></tr>\n",
       "\t<tr><td>Sierra Leone </td><td>451          </td><td>2017         </td><td>1788.69      </td><td>NA           </td><td> NA          </td></tr>\n",
       "\t<tr><td>⋮</td><td>⋮</td><td>⋮</td><td>⋮</td><td>⋮</td><td>⋮</td></tr>\n",
       "\t<tr><td>Seychelles </td><td>591        </td><td>2015       </td><td>25689.15   </td><td>NA         </td><td>  NA       </td></tr>\n",
       "\t<tr><td>Seychelles </td><td>591        </td><td>2016       </td><td>26488.96   </td><td>NA         </td><td>  NA       </td></tr>\n",
       "\t<tr><td>Seychelles </td><td>591        </td><td>2017       </td><td>27489.96   </td><td>NA         </td><td>  NA       </td></tr>\n",
       "\t<tr><td>Libya      </td><td>620        </td><td>2015       </td><td>17793.44   </td><td> 2         </td><td> 274       </td></tr>\n",
       "\t<tr><td>Libya      </td><td>620        </td><td>2016       </td><td>17448.03   </td><td> 1         </td><td>1678       </td></tr>\n",
       "\t<tr><td>Libya      </td><td>620        </td><td>2017       </td><td>17109.32   </td><td> 2         </td><td> 404       </td></tr>\n",
       "\t<tr><td>Chad       </td><td>483        </td><td>2015       </td><td> 2057.53   </td><td> 1         </td><td> 272       </td></tr>\n",
       "\t<tr><td>Chad       </td><td>483        </td><td>2016       </td><td> 1854.71   </td><td>NA         </td><td>  NA       </td></tr>\n",
       "\t<tr><td>Chad       </td><td>483        </td><td>2017       </td><td> 2224.23   </td><td> 1         </td><td>  57       </td></tr>\n",
       "\t<tr><td>Uganda     </td><td>500        </td><td>2015       </td><td> 1700.50   </td><td> 1         </td><td> 197       </td></tr>\n",
       "\t<tr><td>Uganda     </td><td>500        </td><td>2016       </td><td> 1721.93   </td><td> 1         </td><td> 132       </td></tr>\n",
       "\t<tr><td>Uganda     </td><td>500        </td><td>2017       </td><td> 1885.35   </td><td> 1         </td><td> 235       </td></tr>\n",
       "\t<tr><td>Kenya      </td><td>501        </td><td>2015       </td><td> 2849.92   </td><td> 1         </td><td>  42       </td></tr>\n",
       "\t<tr><td>Kenya      </td><td>501        </td><td>2016       </td><td> 2940.39   </td><td> 1         </td><td>  49       </td></tr>\n",
       "\t<tr><td>Kenya      </td><td>501        </td><td>2017       </td><td> 3261.60   </td><td> 1         </td><td>  85       </td></tr>\n",
       "\t<tr><td>Tanzania   </td><td>510        </td><td>2015       </td><td> 2503.30   </td><td>NA         </td><td>  NA       </td></tr>\n",
       "\t<tr><td>Tanzania   </td><td>510        </td><td>2016       </td><td> 2596.14   </td><td>NA         </td><td>  NA       </td></tr>\n",
       "\t<tr><td>Tanzania   </td><td>510        </td><td>2017       </td><td> 2776.88   </td><td>NA         </td><td>  NA       </td></tr>\n",
       "\t<tr><td>Morocco    </td><td>600        </td><td>2015       </td><td> 7326.71   </td><td>NA         </td><td>  NA       </td></tr>\n",
       "\t<tr><td>Morocco    </td><td>600        </td><td>2016       </td><td> 7306.78   </td><td>NA         </td><td>  NA       </td></tr>\n",
       "\t<tr><td>Morocco    </td><td>600        </td><td>2017       </td><td> 7712.69   </td><td>NA         </td><td>  NA       </td></tr>\n",
       "\t<tr><td>Mauritania </td><td>435        </td><td>2015       </td><td> 3620.30   </td><td>NA         </td><td>  NA       </td></tr>\n",
       "\t<tr><td>Mauritania </td><td>435        </td><td>2016       </td><td> 3590.79   </td><td>NA         </td><td>  NA       </td></tr>\n",
       "\t<tr><td>Mauritania </td><td>435        </td><td>2017       </td><td> 4238.56   </td><td>NA         </td><td>  NA       </td></tr>\n",
       "\t<tr><td>Sudan      </td><td>625        </td><td>2015       </td><td> 4313.11   </td><td> 1         </td><td>1264       </td></tr>\n",
       "\t<tr><td>Sudan      </td><td>625        </td><td>2016       </td><td> 4408.34   </td><td> 1         </td><td>1314       </td></tr>\n",
       "\t<tr><td>Sudan      </td><td>625        </td><td>2017       </td><td> 4665.70   </td><td> 1         </td><td> 128       </td></tr>\n",
       "\t<tr><td>South Sudan</td><td>626        </td><td>2015       </td><td> 1816.75   </td><td> 1         </td><td> 493       </td></tr>\n",
       "\t<tr><td>South Sudan</td><td>626        </td><td>2016       </td><td>      NA   </td><td> 1         </td><td> 735       </td></tr>\n",
       "\t<tr><td>South Sudan</td><td>626        </td><td>2017       </td><td> 1829.13   </td><td> 1         </td><td> 465       </td></tr>\n",
       "</tbody>\n",
       "</table>\n"
      ],
      "text/latex": [
       "\\begin{tabular}{r|llllll}\n",
       " country\\_name & country\\_id & year & gdp & number\\_of\\_conflicts & fatalities\\\\\n",
       "\\hline\n",
       "\t Cape Verde    & 402           & 2015          & 1513.00       & NA            &  NA          \\\\\n",
       "\t Cape Verde    & 402           & 2016          & 1561.10       & NA            &  NA          \\\\\n",
       "\t Cape Verde    & 402           & 2017          & 1712.70       & NA            &  NA          \\\\\n",
       "\t Cote d'Ivoire & 437           & 2015          & 3267.81       & NA            &  NA          \\\\\n",
       "\t Cote d'Ivoire & 437           & 2016          & 3465.94       & NA            &  NA          \\\\\n",
       "\t Cote d'Ivoire & 437           & 2017          & 2894.78       & NA            &  NA          \\\\\n",
       "\t Ghana         & 452           & 2015          & 3950.29       & NA            &  NA          \\\\\n",
       "\t Ghana         & 452           & 2016          & 4001.10       & NA            &  NA          \\\\\n",
       "\t Ghana         & 452           & 2017          & 4157.05       & NA            &  NA          \\\\\n",
       "\t Liberia       & 450           & 2015          &  788.56       & NA            &  NA          \\\\\n",
       "\t Liberia       & 450           & 2016          &  756.72       & NA            &  NA          \\\\\n",
       "\t Liberia       & 450           & 2017          & 1009.50       & NA            &  NA          \\\\\n",
       "\t Burkina Faso  & 439           & 2015          & 1558.06       & NA            &  NA          \\\\\n",
       "\t Burkina Faso  & 439           & 2016          & 1602.02       & NA            &  NA          \\\\\n",
       "\t Burkina Faso  & 439           & 2017          & 1512.73       & NA            &  NA          \\\\\n",
       "\t Guinea        & 438           & 2015          & 1189.35       & NA            &  NA          \\\\\n",
       "\t Guinea        & 438           & 2016          & 1220.49       & NA            &  NA          \\\\\n",
       "\t Guinea        & 438           & 2017          & 1271.53       & NA            &  NA          \\\\\n",
       "\t Guinea-Bissau & 404           & 2015          & 1430.84       & NA            &  NA          \\\\\n",
       "\t Guinea-Bissau & 404           & 2016          & 1473.04       & NA            &  NA          \\\\\n",
       "\t Guinea-Bissau & 404           & 2017          & 1660.13       & NA            &  NA          \\\\\n",
       "\t Mali          & 432           & 2015          & 1928.42       &  3            & 165          \\\\\n",
       "\t Mali          & 432           & 2016          & 1972.12       &  1            &  96          \\\\\n",
       "\t Mali          & 432           & 2017          & 2275.19       &  2            & 345          \\\\\n",
       "\t Senegal       & 433           & 2015          & 2308.00       & NA            &  NA          \\\\\n",
       "\t Senegal       & 433           & 2016          & 2392.11       & NA            &  NA          \\\\\n",
       "\t Senegal       & 433           & 2017          & 2455.44       & NA            &  NA          \\\\\n",
       "\t Sierra Leone  & 451           & 2015          & 1322.05       & NA            &  NA          \\\\\n",
       "\t Sierra Leone  & 451           & 2016          & 1372.11       & NA            &  NA          \\\\\n",
       "\t Sierra Leone  & 451           & 2017          & 1788.69       & NA            &  NA          \\\\\n",
       "\t ⋮ & ⋮ & ⋮ & ⋮ & ⋮ & ⋮\\\\\n",
       "\t Seychelles  & 591         & 2015        & 25689.15    & NA          &   NA       \\\\\n",
       "\t Seychelles  & 591         & 2016        & 26488.96    & NA          &   NA       \\\\\n",
       "\t Seychelles  & 591         & 2017        & 27489.96    & NA          &   NA       \\\\\n",
       "\t Libya       & 620         & 2015        & 17793.44    &  2          &  274       \\\\\n",
       "\t Libya       & 620         & 2016        & 17448.03    &  1          & 1678       \\\\\n",
       "\t Libya       & 620         & 2017        & 17109.32    &  2          &  404       \\\\\n",
       "\t Chad        & 483         & 2015        &  2057.53    &  1          &  272       \\\\\n",
       "\t Chad        & 483         & 2016        &  1854.71    & NA          &   NA       \\\\\n",
       "\t Chad        & 483         & 2017        &  2224.23    &  1          &   57       \\\\\n",
       "\t Uganda      & 500         & 2015        &  1700.50    &  1          &  197       \\\\\n",
       "\t Uganda      & 500         & 2016        &  1721.93    &  1          &  132       \\\\\n",
       "\t Uganda      & 500         & 2017        &  1885.35    &  1          &  235       \\\\\n",
       "\t Kenya       & 501         & 2015        &  2849.92    &  1          &   42       \\\\\n",
       "\t Kenya       & 501         & 2016        &  2940.39    &  1          &   49       \\\\\n",
       "\t Kenya       & 501         & 2017        &  3261.60    &  1          &   85       \\\\\n",
       "\t Tanzania    & 510         & 2015        &  2503.30    & NA          &   NA       \\\\\n",
       "\t Tanzania    & 510         & 2016        &  2596.14    & NA          &   NA       \\\\\n",
       "\t Tanzania    & 510         & 2017        &  2776.88    & NA          &   NA       \\\\\n",
       "\t Morocco     & 600         & 2015        &  7326.71    & NA          &   NA       \\\\\n",
       "\t Morocco     & 600         & 2016        &  7306.78    & NA          &   NA       \\\\\n",
       "\t Morocco     & 600         & 2017        &  7712.69    & NA          &   NA       \\\\\n",
       "\t Mauritania  & 435         & 2015        &  3620.30    & NA          &   NA       \\\\\n",
       "\t Mauritania  & 435         & 2016        &  3590.79    & NA          &   NA       \\\\\n",
       "\t Mauritania  & 435         & 2017        &  4238.56    & NA          &   NA       \\\\\n",
       "\t Sudan       & 625         & 2015        &  4313.11    &  1          & 1264       \\\\\n",
       "\t Sudan       & 625         & 2016        &  4408.34    &  1          & 1314       \\\\\n",
       "\t Sudan       & 625         & 2017        &  4665.70    &  1          &  128       \\\\\n",
       "\t South Sudan & 626         & 2015        &  1816.75    &  1          &  493       \\\\\n",
       "\t South Sudan & 626         & 2016        &       NA    &  1          &  735       \\\\\n",
       "\t South Sudan & 626         & 2017        &  1829.13    &  1          &  465       \\\\\n",
       "\\end{tabular}\n"
      ],
      "text/markdown": [
       "\n",
       "country_name | country_id | year | gdp | number_of_conflicts | fatalities | \n",
       "|---|---|---|---|---|---|---|---|---|---|---|---|---|---|---|---|---|---|---|---|---|---|---|---|---|---|---|---|---|---|---|---|---|---|---|---|---|---|---|---|---|---|---|---|---|---|---|---|---|---|---|---|---|---|---|---|---|---|---|---|---|\n",
       "| Cape Verde    | 402           | 2015          | 1513.00       | NA            |  NA           | \n",
       "| Cape Verde    | 402           | 2016          | 1561.10       | NA            |  NA           | \n",
       "| Cape Verde    | 402           | 2017          | 1712.70       | NA            |  NA           | \n",
       "| Cote d'Ivoire | 437           | 2015          | 3267.81       | NA            |  NA           | \n",
       "| Cote d'Ivoire | 437           | 2016          | 3465.94       | NA            |  NA           | \n",
       "| Cote d'Ivoire | 437           | 2017          | 2894.78       | NA            |  NA           | \n",
       "| Ghana         | 452           | 2015          | 3950.29       | NA            |  NA           | \n",
       "| Ghana         | 452           | 2016          | 4001.10       | NA            |  NA           | \n",
       "| Ghana         | 452           | 2017          | 4157.05       | NA            |  NA           | \n",
       "| Liberia       | 450           | 2015          |  788.56       | NA            |  NA           | \n",
       "| Liberia       | 450           | 2016          |  756.72       | NA            |  NA           | \n",
       "| Liberia       | 450           | 2017          | 1009.50       | NA            |  NA           | \n",
       "| Burkina Faso  | 439           | 2015          | 1558.06       | NA            |  NA           | \n",
       "| Burkina Faso  | 439           | 2016          | 1602.02       | NA            |  NA           | \n",
       "| Burkina Faso  | 439           | 2017          | 1512.73       | NA            |  NA           | \n",
       "| Guinea        | 438           | 2015          | 1189.35       | NA            |  NA           | \n",
       "| Guinea        | 438           | 2016          | 1220.49       | NA            |  NA           | \n",
       "| Guinea        | 438           | 2017          | 1271.53       | NA            |  NA           | \n",
       "| Guinea-Bissau | 404           | 2015          | 1430.84       | NA            |  NA           | \n",
       "| Guinea-Bissau | 404           | 2016          | 1473.04       | NA            |  NA           | \n",
       "| Guinea-Bissau | 404           | 2017          | 1660.13       | NA            |  NA           | \n",
       "| Mali          | 432           | 2015          | 1928.42       |  3            | 165           | \n",
       "| Mali          | 432           | 2016          | 1972.12       |  1            |  96           | \n",
       "| Mali          | 432           | 2017          | 2275.19       |  2            | 345           | \n",
       "| Senegal       | 433           | 2015          | 2308.00       | NA            |  NA           | \n",
       "| Senegal       | 433           | 2016          | 2392.11       | NA            |  NA           | \n",
       "| Senegal       | 433           | 2017          | 2455.44       | NA            |  NA           | \n",
       "| Sierra Leone  | 451           | 2015          | 1322.05       | NA            |  NA           | \n",
       "| Sierra Leone  | 451           | 2016          | 1372.11       | NA            |  NA           | \n",
       "| Sierra Leone  | 451           | 2017          | 1788.69       | NA            |  NA           | \n",
       "| ⋮ | ⋮ | ⋮ | ⋮ | ⋮ | ⋮ | \n",
       "| Seychelles  | 591         | 2015        | 25689.15    | NA          |   NA        | \n",
       "| Seychelles  | 591         | 2016        | 26488.96    | NA          |   NA        | \n",
       "| Seychelles  | 591         | 2017        | 27489.96    | NA          |   NA        | \n",
       "| Libya       | 620         | 2015        | 17793.44    |  2          |  274        | \n",
       "| Libya       | 620         | 2016        | 17448.03    |  1          | 1678        | \n",
       "| Libya       | 620         | 2017        | 17109.32    |  2          |  404        | \n",
       "| Chad        | 483         | 2015        |  2057.53    |  1          |  272        | \n",
       "| Chad        | 483         | 2016        |  1854.71    | NA          |   NA        | \n",
       "| Chad        | 483         | 2017        |  2224.23    |  1          |   57        | \n",
       "| Uganda      | 500         | 2015        |  1700.50    |  1          |  197        | \n",
       "| Uganda      | 500         | 2016        |  1721.93    |  1          |  132        | \n",
       "| Uganda      | 500         | 2017        |  1885.35    |  1          |  235        | \n",
       "| Kenya       | 501         | 2015        |  2849.92    |  1          |   42        | \n",
       "| Kenya       | 501         | 2016        |  2940.39    |  1          |   49        | \n",
       "| Kenya       | 501         | 2017        |  3261.60    |  1          |   85        | \n",
       "| Tanzania    | 510         | 2015        |  2503.30    | NA          |   NA        | \n",
       "| Tanzania    | 510         | 2016        |  2596.14    | NA          |   NA        | \n",
       "| Tanzania    | 510         | 2017        |  2776.88    | NA          |   NA        | \n",
       "| Morocco     | 600         | 2015        |  7326.71    | NA          |   NA        | \n",
       "| Morocco     | 600         | 2016        |  7306.78    | NA          |   NA        | \n",
       "| Morocco     | 600         | 2017        |  7712.69    | NA          |   NA        | \n",
       "| Mauritania  | 435         | 2015        |  3620.30    | NA          |   NA        | \n",
       "| Mauritania  | 435         | 2016        |  3590.79    | NA          |   NA        | \n",
       "| Mauritania  | 435         | 2017        |  4238.56    | NA          |   NA        | \n",
       "| Sudan       | 625         | 2015        |  4313.11    |  1          | 1264        | \n",
       "| Sudan       | 625         | 2016        |  4408.34    |  1          | 1314        | \n",
       "| Sudan       | 625         | 2017        |  4665.70    |  1          |  128        | \n",
       "| South Sudan | 626         | 2015        |  1816.75    |  1          |  493        | \n",
       "| South Sudan | 626         | 2016        |       NA    |  1          |  735        | \n",
       "| South Sudan | 626         | 2017        |  1829.13    |  1          |  465        | \n",
       "\n",
       "\n"
      ],
      "text/plain": [
       "    country_name  country_id year gdp      number_of_conflicts fatalities\n",
       "1   Cape Verde    402        2015 1513.00  NA                   NA       \n",
       "2   Cape Verde    402        2016 1561.10  NA                   NA       \n",
       "3   Cape Verde    402        2017 1712.70  NA                   NA       \n",
       "4   Cote d'Ivoire 437        2015 3267.81  NA                   NA       \n",
       "5   Cote d'Ivoire 437        2016 3465.94  NA                   NA       \n",
       "6   Cote d'Ivoire 437        2017 2894.78  NA                   NA       \n",
       "7   Ghana         452        2015 3950.29  NA                   NA       \n",
       "8   Ghana         452        2016 4001.10  NA                   NA       \n",
       "9   Ghana         452        2017 4157.05  NA                   NA       \n",
       "10  Liberia       450        2015  788.56  NA                   NA       \n",
       "11  Liberia       450        2016  756.72  NA                   NA       \n",
       "12  Liberia       450        2017 1009.50  NA                   NA       \n",
       "13  Burkina Faso  439        2015 1558.06  NA                   NA       \n",
       "14  Burkina Faso  439        2016 1602.02  NA                   NA       \n",
       "15  Burkina Faso  439        2017 1512.73  NA                   NA       \n",
       "16  Guinea        438        2015 1189.35  NA                   NA       \n",
       "17  Guinea        438        2016 1220.49  NA                   NA       \n",
       "18  Guinea        438        2017 1271.53  NA                   NA       \n",
       "19  Guinea-Bissau 404        2015 1430.84  NA                   NA       \n",
       "20  Guinea-Bissau 404        2016 1473.04  NA                   NA       \n",
       "21  Guinea-Bissau 404        2017 1660.13  NA                   NA       \n",
       "22  Mali          432        2015 1928.42   3                  165       \n",
       "23  Mali          432        2016 1972.12   1                   96       \n",
       "24  Mali          432        2017 2275.19   2                  345       \n",
       "25  Senegal       433        2015 2308.00  NA                   NA       \n",
       "26  Senegal       433        2016 2392.11  NA                   NA       \n",
       "27  Senegal       433        2017 2455.44  NA                   NA       \n",
       "28  Sierra Leone  451        2015 1322.05  NA                   NA       \n",
       "29  Sierra Leone  451        2016 1372.11  NA                   NA       \n",
       "30  Sierra Leone  451        2017 1788.69  NA                   NA       \n",
       "⋮   ⋮             ⋮          ⋮    ⋮        ⋮                   ⋮         \n",
       "127 Seychelles    591        2015 25689.15 NA                    NA      \n",
       "128 Seychelles    591        2016 26488.96 NA                    NA      \n",
       "129 Seychelles    591        2017 27489.96 NA                    NA      \n",
       "130 Libya         620        2015 17793.44  2                   274      \n",
       "131 Libya         620        2016 17448.03  1                  1678      \n",
       "132 Libya         620        2017 17109.32  2                   404      \n",
       "133 Chad          483        2015  2057.53  1                   272      \n",
       "134 Chad          483        2016  1854.71 NA                    NA      \n",
       "135 Chad          483        2017  2224.23  1                    57      \n",
       "136 Uganda        500        2015  1700.50  1                   197      \n",
       "137 Uganda        500        2016  1721.93  1                   132      \n",
       "138 Uganda        500        2017  1885.35  1                   235      \n",
       "139 Kenya         501        2015  2849.92  1                    42      \n",
       "140 Kenya         501        2016  2940.39  1                    49      \n",
       "141 Kenya         501        2017  3261.60  1                    85      \n",
       "142 Tanzania      510        2015  2503.30 NA                    NA      \n",
       "143 Tanzania      510        2016  2596.14 NA                    NA      \n",
       "144 Tanzania      510        2017  2776.88 NA                    NA      \n",
       "145 Morocco       600        2015  7326.71 NA                    NA      \n",
       "146 Morocco       600        2016  7306.78 NA                    NA      \n",
       "147 Morocco       600        2017  7712.69 NA                    NA      \n",
       "148 Mauritania    435        2015  3620.30 NA                    NA      \n",
       "149 Mauritania    435        2016  3590.79 NA                    NA      \n",
       "150 Mauritania    435        2017  4238.56 NA                    NA      \n",
       "151 Sudan         625        2015  4313.11  1                  1264      \n",
       "152 Sudan         625        2016  4408.34  1                  1314      \n",
       "153 Sudan         625        2017  4665.70  1                   128      \n",
       "154 South Sudan   626        2015  1816.75  1                   493      \n",
       "155 South Sudan   626        2016       NA  1                   735      \n",
       "156 South Sudan   626        2017  1829.13  1                   465      "
      ]
     },
     "metadata": {},
     "output_type": "display_data"
    }
   ],
   "source": [
    "final_dataset <- left_join(filtered_country, conflicts_in_country, by=c('country_id','year'))\n",
    "final_dataset\n"
   ]
  },
  {
   "cell_type": "markdown",
   "metadata": {},
   "source": [
    "But what if the columns in A and B don't match by name before joining\n",
    "We actually need to rename these!\n",
    "\n",
    "We use dplyr's `rename()`. Let's try it here instead \n",
    "\n",
    "I don't like `number_of_conflicts` as a column name, I would prefer `count_conflicts` instead. Shorter!"
   ]
  },
  {
   "cell_type": "code",
   "execution_count": 20,
   "metadata": {},
   "outputs": [
    {
     "data": {
      "text/html": [
       "<table>\n",
       "<thead><tr><th scope=col>country_name</th><th scope=col>country_id</th><th scope=col>year</th><th scope=col>gdp</th><th scope=col>count_conflicts</th><th scope=col>fatalities</th></tr></thead>\n",
       "<tbody>\n",
       "\t<tr><td>Cape Verde   </td><td>402          </td><td>2015         </td><td>1513.00      </td><td>NA           </td><td> NA          </td></tr>\n",
       "\t<tr><td>Cape Verde   </td><td>402          </td><td>2016         </td><td>1561.10      </td><td>NA           </td><td> NA          </td></tr>\n",
       "\t<tr><td>Cape Verde   </td><td>402          </td><td>2017         </td><td>1712.70      </td><td>NA           </td><td> NA          </td></tr>\n",
       "\t<tr><td>Cote d'Ivoire</td><td>437          </td><td>2015         </td><td>3267.81      </td><td>NA           </td><td> NA          </td></tr>\n",
       "\t<tr><td>Cote d'Ivoire</td><td>437          </td><td>2016         </td><td>3465.94      </td><td>NA           </td><td> NA          </td></tr>\n",
       "\t<tr><td>Cote d'Ivoire</td><td>437          </td><td>2017         </td><td>2894.78      </td><td>NA           </td><td> NA          </td></tr>\n",
       "\t<tr><td>Ghana        </td><td>452          </td><td>2015         </td><td>3950.29      </td><td>NA           </td><td> NA          </td></tr>\n",
       "\t<tr><td>Ghana        </td><td>452          </td><td>2016         </td><td>4001.10      </td><td>NA           </td><td> NA          </td></tr>\n",
       "\t<tr><td>Ghana        </td><td>452          </td><td>2017         </td><td>4157.05      </td><td>NA           </td><td> NA          </td></tr>\n",
       "\t<tr><td>Liberia      </td><td>450          </td><td>2015         </td><td> 788.56      </td><td>NA           </td><td> NA          </td></tr>\n",
       "\t<tr><td>Liberia      </td><td>450          </td><td>2016         </td><td> 756.72      </td><td>NA           </td><td> NA          </td></tr>\n",
       "\t<tr><td>Liberia      </td><td>450          </td><td>2017         </td><td>1009.50      </td><td>NA           </td><td> NA          </td></tr>\n",
       "\t<tr><td>Burkina Faso </td><td>439          </td><td>2015         </td><td>1558.06      </td><td>NA           </td><td> NA          </td></tr>\n",
       "\t<tr><td>Burkina Faso </td><td>439          </td><td>2016         </td><td>1602.02      </td><td>NA           </td><td> NA          </td></tr>\n",
       "\t<tr><td>Burkina Faso </td><td>439          </td><td>2017         </td><td>1512.73      </td><td>NA           </td><td> NA          </td></tr>\n",
       "\t<tr><td>Guinea       </td><td>438          </td><td>2015         </td><td>1189.35      </td><td>NA           </td><td> NA          </td></tr>\n",
       "\t<tr><td>Guinea       </td><td>438          </td><td>2016         </td><td>1220.49      </td><td>NA           </td><td> NA          </td></tr>\n",
       "\t<tr><td>Guinea       </td><td>438          </td><td>2017         </td><td>1271.53      </td><td>NA           </td><td> NA          </td></tr>\n",
       "\t<tr><td>Guinea-Bissau</td><td>404          </td><td>2015         </td><td>1430.84      </td><td>NA           </td><td> NA          </td></tr>\n",
       "\t<tr><td>Guinea-Bissau</td><td>404          </td><td>2016         </td><td>1473.04      </td><td>NA           </td><td> NA          </td></tr>\n",
       "\t<tr><td>Guinea-Bissau</td><td>404          </td><td>2017         </td><td>1660.13      </td><td>NA           </td><td> NA          </td></tr>\n",
       "\t<tr><td>Mali         </td><td>432          </td><td>2015         </td><td>1928.42      </td><td> 3           </td><td>165          </td></tr>\n",
       "\t<tr><td>Mali         </td><td>432          </td><td>2016         </td><td>1972.12      </td><td> 1           </td><td> 96          </td></tr>\n",
       "\t<tr><td>Mali         </td><td>432          </td><td>2017         </td><td>2275.19      </td><td> 2           </td><td>345          </td></tr>\n",
       "\t<tr><td>Senegal      </td><td>433          </td><td>2015         </td><td>2308.00      </td><td>NA           </td><td> NA          </td></tr>\n",
       "\t<tr><td>Senegal      </td><td>433          </td><td>2016         </td><td>2392.11      </td><td>NA           </td><td> NA          </td></tr>\n",
       "\t<tr><td>Senegal      </td><td>433          </td><td>2017         </td><td>2455.44      </td><td>NA           </td><td> NA          </td></tr>\n",
       "\t<tr><td>Sierra Leone </td><td>451          </td><td>2015         </td><td>1322.05      </td><td>NA           </td><td> NA          </td></tr>\n",
       "\t<tr><td>Sierra Leone </td><td>451          </td><td>2016         </td><td>1372.11      </td><td>NA           </td><td> NA          </td></tr>\n",
       "\t<tr><td>Sierra Leone </td><td>451          </td><td>2017         </td><td>1788.69      </td><td>NA           </td><td> NA          </td></tr>\n",
       "\t<tr><td>⋮</td><td>⋮</td><td>⋮</td><td>⋮</td><td>⋮</td><td>⋮</td></tr>\n",
       "\t<tr><td>Seychelles </td><td>591        </td><td>2015       </td><td>25689.15   </td><td>NA         </td><td>  NA       </td></tr>\n",
       "\t<tr><td>Seychelles </td><td>591        </td><td>2016       </td><td>26488.96   </td><td>NA         </td><td>  NA       </td></tr>\n",
       "\t<tr><td>Seychelles </td><td>591        </td><td>2017       </td><td>27489.96   </td><td>NA         </td><td>  NA       </td></tr>\n",
       "\t<tr><td>Libya      </td><td>620        </td><td>2015       </td><td>17793.44   </td><td> 2         </td><td> 274       </td></tr>\n",
       "\t<tr><td>Libya      </td><td>620        </td><td>2016       </td><td>17448.03   </td><td> 1         </td><td>1678       </td></tr>\n",
       "\t<tr><td>Libya      </td><td>620        </td><td>2017       </td><td>17109.32   </td><td> 2         </td><td> 404       </td></tr>\n",
       "\t<tr><td>Chad       </td><td>483        </td><td>2015       </td><td> 2057.53   </td><td> 1         </td><td> 272       </td></tr>\n",
       "\t<tr><td>Chad       </td><td>483        </td><td>2016       </td><td> 1854.71   </td><td>NA         </td><td>  NA       </td></tr>\n",
       "\t<tr><td>Chad       </td><td>483        </td><td>2017       </td><td> 2224.23   </td><td> 1         </td><td>  57       </td></tr>\n",
       "\t<tr><td>Uganda     </td><td>500        </td><td>2015       </td><td> 1700.50   </td><td> 1         </td><td> 197       </td></tr>\n",
       "\t<tr><td>Uganda     </td><td>500        </td><td>2016       </td><td> 1721.93   </td><td> 1         </td><td> 132       </td></tr>\n",
       "\t<tr><td>Uganda     </td><td>500        </td><td>2017       </td><td> 1885.35   </td><td> 1         </td><td> 235       </td></tr>\n",
       "\t<tr><td>Kenya      </td><td>501        </td><td>2015       </td><td> 2849.92   </td><td> 1         </td><td>  42       </td></tr>\n",
       "\t<tr><td>Kenya      </td><td>501        </td><td>2016       </td><td> 2940.39   </td><td> 1         </td><td>  49       </td></tr>\n",
       "\t<tr><td>Kenya      </td><td>501        </td><td>2017       </td><td> 3261.60   </td><td> 1         </td><td>  85       </td></tr>\n",
       "\t<tr><td>Tanzania   </td><td>510        </td><td>2015       </td><td> 2503.30   </td><td>NA         </td><td>  NA       </td></tr>\n",
       "\t<tr><td>Tanzania   </td><td>510        </td><td>2016       </td><td> 2596.14   </td><td>NA         </td><td>  NA       </td></tr>\n",
       "\t<tr><td>Tanzania   </td><td>510        </td><td>2017       </td><td> 2776.88   </td><td>NA         </td><td>  NA       </td></tr>\n",
       "\t<tr><td>Morocco    </td><td>600        </td><td>2015       </td><td> 7326.71   </td><td>NA         </td><td>  NA       </td></tr>\n",
       "\t<tr><td>Morocco    </td><td>600        </td><td>2016       </td><td> 7306.78   </td><td>NA         </td><td>  NA       </td></tr>\n",
       "\t<tr><td>Morocco    </td><td>600        </td><td>2017       </td><td> 7712.69   </td><td>NA         </td><td>  NA       </td></tr>\n",
       "\t<tr><td>Mauritania </td><td>435        </td><td>2015       </td><td> 3620.30   </td><td>NA         </td><td>  NA       </td></tr>\n",
       "\t<tr><td>Mauritania </td><td>435        </td><td>2016       </td><td> 3590.79   </td><td>NA         </td><td>  NA       </td></tr>\n",
       "\t<tr><td>Mauritania </td><td>435        </td><td>2017       </td><td> 4238.56   </td><td>NA         </td><td>  NA       </td></tr>\n",
       "\t<tr><td>Sudan      </td><td>625        </td><td>2015       </td><td> 4313.11   </td><td> 1         </td><td>1264       </td></tr>\n",
       "\t<tr><td>Sudan      </td><td>625        </td><td>2016       </td><td> 4408.34   </td><td> 1         </td><td>1314       </td></tr>\n",
       "\t<tr><td>Sudan      </td><td>625        </td><td>2017       </td><td> 4665.70   </td><td> 1         </td><td> 128       </td></tr>\n",
       "\t<tr><td>South Sudan</td><td>626        </td><td>2015       </td><td> 1816.75   </td><td> 1         </td><td> 493       </td></tr>\n",
       "\t<tr><td>South Sudan</td><td>626        </td><td>2016       </td><td>      NA   </td><td> 1         </td><td> 735       </td></tr>\n",
       "\t<tr><td>South Sudan</td><td>626        </td><td>2017       </td><td> 1829.13   </td><td> 1         </td><td> 465       </td></tr>\n",
       "</tbody>\n",
       "</table>\n"
      ],
      "text/latex": [
       "\\begin{tabular}{r|llllll}\n",
       " country\\_name & country\\_id & year & gdp & count\\_conflicts & fatalities\\\\\n",
       "\\hline\n",
       "\t Cape Verde    & 402           & 2015          & 1513.00       & NA            &  NA          \\\\\n",
       "\t Cape Verde    & 402           & 2016          & 1561.10       & NA            &  NA          \\\\\n",
       "\t Cape Verde    & 402           & 2017          & 1712.70       & NA            &  NA          \\\\\n",
       "\t Cote d'Ivoire & 437           & 2015          & 3267.81       & NA            &  NA          \\\\\n",
       "\t Cote d'Ivoire & 437           & 2016          & 3465.94       & NA            &  NA          \\\\\n",
       "\t Cote d'Ivoire & 437           & 2017          & 2894.78       & NA            &  NA          \\\\\n",
       "\t Ghana         & 452           & 2015          & 3950.29       & NA            &  NA          \\\\\n",
       "\t Ghana         & 452           & 2016          & 4001.10       & NA            &  NA          \\\\\n",
       "\t Ghana         & 452           & 2017          & 4157.05       & NA            &  NA          \\\\\n",
       "\t Liberia       & 450           & 2015          &  788.56       & NA            &  NA          \\\\\n",
       "\t Liberia       & 450           & 2016          &  756.72       & NA            &  NA          \\\\\n",
       "\t Liberia       & 450           & 2017          & 1009.50       & NA            &  NA          \\\\\n",
       "\t Burkina Faso  & 439           & 2015          & 1558.06       & NA            &  NA          \\\\\n",
       "\t Burkina Faso  & 439           & 2016          & 1602.02       & NA            &  NA          \\\\\n",
       "\t Burkina Faso  & 439           & 2017          & 1512.73       & NA            &  NA          \\\\\n",
       "\t Guinea        & 438           & 2015          & 1189.35       & NA            &  NA          \\\\\n",
       "\t Guinea        & 438           & 2016          & 1220.49       & NA            &  NA          \\\\\n",
       "\t Guinea        & 438           & 2017          & 1271.53       & NA            &  NA          \\\\\n",
       "\t Guinea-Bissau & 404           & 2015          & 1430.84       & NA            &  NA          \\\\\n",
       "\t Guinea-Bissau & 404           & 2016          & 1473.04       & NA            &  NA          \\\\\n",
       "\t Guinea-Bissau & 404           & 2017          & 1660.13       & NA            &  NA          \\\\\n",
       "\t Mali          & 432           & 2015          & 1928.42       &  3            & 165          \\\\\n",
       "\t Mali          & 432           & 2016          & 1972.12       &  1            &  96          \\\\\n",
       "\t Mali          & 432           & 2017          & 2275.19       &  2            & 345          \\\\\n",
       "\t Senegal       & 433           & 2015          & 2308.00       & NA            &  NA          \\\\\n",
       "\t Senegal       & 433           & 2016          & 2392.11       & NA            &  NA          \\\\\n",
       "\t Senegal       & 433           & 2017          & 2455.44       & NA            &  NA          \\\\\n",
       "\t Sierra Leone  & 451           & 2015          & 1322.05       & NA            &  NA          \\\\\n",
       "\t Sierra Leone  & 451           & 2016          & 1372.11       & NA            &  NA          \\\\\n",
       "\t Sierra Leone  & 451           & 2017          & 1788.69       & NA            &  NA          \\\\\n",
       "\t ⋮ & ⋮ & ⋮ & ⋮ & ⋮ & ⋮\\\\\n",
       "\t Seychelles  & 591         & 2015        & 25689.15    & NA          &   NA       \\\\\n",
       "\t Seychelles  & 591         & 2016        & 26488.96    & NA          &   NA       \\\\\n",
       "\t Seychelles  & 591         & 2017        & 27489.96    & NA          &   NA       \\\\\n",
       "\t Libya       & 620         & 2015        & 17793.44    &  2          &  274       \\\\\n",
       "\t Libya       & 620         & 2016        & 17448.03    &  1          & 1678       \\\\\n",
       "\t Libya       & 620         & 2017        & 17109.32    &  2          &  404       \\\\\n",
       "\t Chad        & 483         & 2015        &  2057.53    &  1          &  272       \\\\\n",
       "\t Chad        & 483         & 2016        &  1854.71    & NA          &   NA       \\\\\n",
       "\t Chad        & 483         & 2017        &  2224.23    &  1          &   57       \\\\\n",
       "\t Uganda      & 500         & 2015        &  1700.50    &  1          &  197       \\\\\n",
       "\t Uganda      & 500         & 2016        &  1721.93    &  1          &  132       \\\\\n",
       "\t Uganda      & 500         & 2017        &  1885.35    &  1          &  235       \\\\\n",
       "\t Kenya       & 501         & 2015        &  2849.92    &  1          &   42       \\\\\n",
       "\t Kenya       & 501         & 2016        &  2940.39    &  1          &   49       \\\\\n",
       "\t Kenya       & 501         & 2017        &  3261.60    &  1          &   85       \\\\\n",
       "\t Tanzania    & 510         & 2015        &  2503.30    & NA          &   NA       \\\\\n",
       "\t Tanzania    & 510         & 2016        &  2596.14    & NA          &   NA       \\\\\n",
       "\t Tanzania    & 510         & 2017        &  2776.88    & NA          &   NA       \\\\\n",
       "\t Morocco     & 600         & 2015        &  7326.71    & NA          &   NA       \\\\\n",
       "\t Morocco     & 600         & 2016        &  7306.78    & NA          &   NA       \\\\\n",
       "\t Morocco     & 600         & 2017        &  7712.69    & NA          &   NA       \\\\\n",
       "\t Mauritania  & 435         & 2015        &  3620.30    & NA          &   NA       \\\\\n",
       "\t Mauritania  & 435         & 2016        &  3590.79    & NA          &   NA       \\\\\n",
       "\t Mauritania  & 435         & 2017        &  4238.56    & NA          &   NA       \\\\\n",
       "\t Sudan       & 625         & 2015        &  4313.11    &  1          & 1264       \\\\\n",
       "\t Sudan       & 625         & 2016        &  4408.34    &  1          & 1314       \\\\\n",
       "\t Sudan       & 625         & 2017        &  4665.70    &  1          &  128       \\\\\n",
       "\t South Sudan & 626         & 2015        &  1816.75    &  1          &  493       \\\\\n",
       "\t South Sudan & 626         & 2016        &       NA    &  1          &  735       \\\\\n",
       "\t South Sudan & 626         & 2017        &  1829.13    &  1          &  465       \\\\\n",
       "\\end{tabular}\n"
      ],
      "text/markdown": [
       "\n",
       "country_name | country_id | year | gdp | count_conflicts | fatalities | \n",
       "|---|---|---|---|---|---|---|---|---|---|---|---|---|---|---|---|---|---|---|---|---|---|---|---|---|---|---|---|---|---|---|---|---|---|---|---|---|---|---|---|---|---|---|---|---|---|---|---|---|---|---|---|---|---|---|---|---|---|---|---|---|\n",
       "| Cape Verde    | 402           | 2015          | 1513.00       | NA            |  NA           | \n",
       "| Cape Verde    | 402           | 2016          | 1561.10       | NA            |  NA           | \n",
       "| Cape Verde    | 402           | 2017          | 1712.70       | NA            |  NA           | \n",
       "| Cote d'Ivoire | 437           | 2015          | 3267.81       | NA            |  NA           | \n",
       "| Cote d'Ivoire | 437           | 2016          | 3465.94       | NA            |  NA           | \n",
       "| Cote d'Ivoire | 437           | 2017          | 2894.78       | NA            |  NA           | \n",
       "| Ghana         | 452           | 2015          | 3950.29       | NA            |  NA           | \n",
       "| Ghana         | 452           | 2016          | 4001.10       | NA            |  NA           | \n",
       "| Ghana         | 452           | 2017          | 4157.05       | NA            |  NA           | \n",
       "| Liberia       | 450           | 2015          |  788.56       | NA            |  NA           | \n",
       "| Liberia       | 450           | 2016          |  756.72       | NA            |  NA           | \n",
       "| Liberia       | 450           | 2017          | 1009.50       | NA            |  NA           | \n",
       "| Burkina Faso  | 439           | 2015          | 1558.06       | NA            |  NA           | \n",
       "| Burkina Faso  | 439           | 2016          | 1602.02       | NA            |  NA           | \n",
       "| Burkina Faso  | 439           | 2017          | 1512.73       | NA            |  NA           | \n",
       "| Guinea        | 438           | 2015          | 1189.35       | NA            |  NA           | \n",
       "| Guinea        | 438           | 2016          | 1220.49       | NA            |  NA           | \n",
       "| Guinea        | 438           | 2017          | 1271.53       | NA            |  NA           | \n",
       "| Guinea-Bissau | 404           | 2015          | 1430.84       | NA            |  NA           | \n",
       "| Guinea-Bissau | 404           | 2016          | 1473.04       | NA            |  NA           | \n",
       "| Guinea-Bissau | 404           | 2017          | 1660.13       | NA            |  NA           | \n",
       "| Mali          | 432           | 2015          | 1928.42       |  3            | 165           | \n",
       "| Mali          | 432           | 2016          | 1972.12       |  1            |  96           | \n",
       "| Mali          | 432           | 2017          | 2275.19       |  2            | 345           | \n",
       "| Senegal       | 433           | 2015          | 2308.00       | NA            |  NA           | \n",
       "| Senegal       | 433           | 2016          | 2392.11       | NA            |  NA           | \n",
       "| Senegal       | 433           | 2017          | 2455.44       | NA            |  NA           | \n",
       "| Sierra Leone  | 451           | 2015          | 1322.05       | NA            |  NA           | \n",
       "| Sierra Leone  | 451           | 2016          | 1372.11       | NA            |  NA           | \n",
       "| Sierra Leone  | 451           | 2017          | 1788.69       | NA            |  NA           | \n",
       "| ⋮ | ⋮ | ⋮ | ⋮ | ⋮ | ⋮ | \n",
       "| Seychelles  | 591         | 2015        | 25689.15    | NA          |   NA        | \n",
       "| Seychelles  | 591         | 2016        | 26488.96    | NA          |   NA        | \n",
       "| Seychelles  | 591         | 2017        | 27489.96    | NA          |   NA        | \n",
       "| Libya       | 620         | 2015        | 17793.44    |  2          |  274        | \n",
       "| Libya       | 620         | 2016        | 17448.03    |  1          | 1678        | \n",
       "| Libya       | 620         | 2017        | 17109.32    |  2          |  404        | \n",
       "| Chad        | 483         | 2015        |  2057.53    |  1          |  272        | \n",
       "| Chad        | 483         | 2016        |  1854.71    | NA          |   NA        | \n",
       "| Chad        | 483         | 2017        |  2224.23    |  1          |   57        | \n",
       "| Uganda      | 500         | 2015        |  1700.50    |  1          |  197        | \n",
       "| Uganda      | 500         | 2016        |  1721.93    |  1          |  132        | \n",
       "| Uganda      | 500         | 2017        |  1885.35    |  1          |  235        | \n",
       "| Kenya       | 501         | 2015        |  2849.92    |  1          |   42        | \n",
       "| Kenya       | 501         | 2016        |  2940.39    |  1          |   49        | \n",
       "| Kenya       | 501         | 2017        |  3261.60    |  1          |   85        | \n",
       "| Tanzania    | 510         | 2015        |  2503.30    | NA          |   NA        | \n",
       "| Tanzania    | 510         | 2016        |  2596.14    | NA          |   NA        | \n",
       "| Tanzania    | 510         | 2017        |  2776.88    | NA          |   NA        | \n",
       "| Morocco     | 600         | 2015        |  7326.71    | NA          |   NA        | \n",
       "| Morocco     | 600         | 2016        |  7306.78    | NA          |   NA        | \n",
       "| Morocco     | 600         | 2017        |  7712.69    | NA          |   NA        | \n",
       "| Mauritania  | 435         | 2015        |  3620.30    | NA          |   NA        | \n",
       "| Mauritania  | 435         | 2016        |  3590.79    | NA          |   NA        | \n",
       "| Mauritania  | 435         | 2017        |  4238.56    | NA          |   NA        | \n",
       "| Sudan       | 625         | 2015        |  4313.11    |  1          | 1264        | \n",
       "| Sudan       | 625         | 2016        |  4408.34    |  1          | 1314        | \n",
       "| Sudan       | 625         | 2017        |  4665.70    |  1          |  128        | \n",
       "| South Sudan | 626         | 2015        |  1816.75    |  1          |  493        | \n",
       "| South Sudan | 626         | 2016        |       NA    |  1          |  735        | \n",
       "| South Sudan | 626         | 2017        |  1829.13    |  1          |  465        | \n",
       "\n",
       "\n"
      ],
      "text/plain": [
       "    country_name  country_id year gdp      count_conflicts fatalities\n",
       "1   Cape Verde    402        2015 1513.00  NA               NA       \n",
       "2   Cape Verde    402        2016 1561.10  NA               NA       \n",
       "3   Cape Verde    402        2017 1712.70  NA               NA       \n",
       "4   Cote d'Ivoire 437        2015 3267.81  NA               NA       \n",
       "5   Cote d'Ivoire 437        2016 3465.94  NA               NA       \n",
       "6   Cote d'Ivoire 437        2017 2894.78  NA               NA       \n",
       "7   Ghana         452        2015 3950.29  NA               NA       \n",
       "8   Ghana         452        2016 4001.10  NA               NA       \n",
       "9   Ghana         452        2017 4157.05  NA               NA       \n",
       "10  Liberia       450        2015  788.56  NA               NA       \n",
       "11  Liberia       450        2016  756.72  NA               NA       \n",
       "12  Liberia       450        2017 1009.50  NA               NA       \n",
       "13  Burkina Faso  439        2015 1558.06  NA               NA       \n",
       "14  Burkina Faso  439        2016 1602.02  NA               NA       \n",
       "15  Burkina Faso  439        2017 1512.73  NA               NA       \n",
       "16  Guinea        438        2015 1189.35  NA               NA       \n",
       "17  Guinea        438        2016 1220.49  NA               NA       \n",
       "18  Guinea        438        2017 1271.53  NA               NA       \n",
       "19  Guinea-Bissau 404        2015 1430.84  NA               NA       \n",
       "20  Guinea-Bissau 404        2016 1473.04  NA               NA       \n",
       "21  Guinea-Bissau 404        2017 1660.13  NA               NA       \n",
       "22  Mali          432        2015 1928.42   3              165       \n",
       "23  Mali          432        2016 1972.12   1               96       \n",
       "24  Mali          432        2017 2275.19   2              345       \n",
       "25  Senegal       433        2015 2308.00  NA               NA       \n",
       "26  Senegal       433        2016 2392.11  NA               NA       \n",
       "27  Senegal       433        2017 2455.44  NA               NA       \n",
       "28  Sierra Leone  451        2015 1322.05  NA               NA       \n",
       "29  Sierra Leone  451        2016 1372.11  NA               NA       \n",
       "30  Sierra Leone  451        2017 1788.69  NA               NA       \n",
       "⋮   ⋮             ⋮          ⋮    ⋮        ⋮               ⋮         \n",
       "127 Seychelles    591        2015 25689.15 NA                NA      \n",
       "128 Seychelles    591        2016 26488.96 NA                NA      \n",
       "129 Seychelles    591        2017 27489.96 NA                NA      \n",
       "130 Libya         620        2015 17793.44  2               274      \n",
       "131 Libya         620        2016 17448.03  1              1678      \n",
       "132 Libya         620        2017 17109.32  2               404      \n",
       "133 Chad          483        2015  2057.53  1               272      \n",
       "134 Chad          483        2016  1854.71 NA                NA      \n",
       "135 Chad          483        2017  2224.23  1                57      \n",
       "136 Uganda        500        2015  1700.50  1               197      \n",
       "137 Uganda        500        2016  1721.93  1               132      \n",
       "138 Uganda        500        2017  1885.35  1               235      \n",
       "139 Kenya         501        2015  2849.92  1                42      \n",
       "140 Kenya         501        2016  2940.39  1                49      \n",
       "141 Kenya         501        2017  3261.60  1                85      \n",
       "142 Tanzania      510        2015  2503.30 NA                NA      \n",
       "143 Tanzania      510        2016  2596.14 NA                NA      \n",
       "144 Tanzania      510        2017  2776.88 NA                NA      \n",
       "145 Morocco       600        2015  7326.71 NA                NA      \n",
       "146 Morocco       600        2016  7306.78 NA                NA      \n",
       "147 Morocco       600        2017  7712.69 NA                NA      \n",
       "148 Mauritania    435        2015  3620.30 NA                NA      \n",
       "149 Mauritania    435        2016  3590.79 NA                NA      \n",
       "150 Mauritania    435        2017  4238.56 NA                NA      \n",
       "151 Sudan         625        2015  4313.11  1              1264      \n",
       "152 Sudan         625        2016  4408.34  1              1314      \n",
       "153 Sudan         625        2017  4665.70  1               128      \n",
       "154 South Sudan   626        2015  1816.75  1               493      \n",
       "155 South Sudan   626        2016       NA  1               735      \n",
       "156 South Sudan   626        2017  1829.13  1               465      "
      ]
     },
     "metadata": {},
     "output_type": "display_data"
    }
   ],
   "source": [
    "final_data_renamed <- rename(final_dataset, count_conflicts = number_of_conflicts)\n",
    "final_data_renamed"
   ]
  },
  {
   "cell_type": "markdown",
   "metadata": {},
   "source": [
    "### We're done, right?\n",
    "\n",
    "### Nope. Look at the conflict columns!\n",
    "\n",
    "### Let's fix this!"
   ]
  },
  {
   "cell_type": "markdown",
   "metadata": {},
   "source": [
    "## Let's plan\n",
    "\n",
    "1. **Fiter** = we only need the country name, country id, year and GDP column from the country table. We also only want data from 2015 and onwards, so let's filter for that as well. It's not needed now, but when we have 1.000.000 rows and an old laptop...\n",
    "1. **Aggregate** = the conflict data to country level, taking the sum of fatalities. This will also filter it for us!\n",
    "1. **Join** = We use the filtered country table as base. What kind of join do we need?\n",
    "1. <font color='red'> **Transform** = Since the conflict table only contained conflicts, countries that did not match have 0 (NO CONFLICTS) and not NA (unknown/unregistered conflicts). We need to fix this. </font>\n",
    "1. **DONE**"
   ]
  },
  {
   "cell_type": "code",
   "execution_count": 21,
   "metadata": {},
   "outputs": [
    {
     "data": {
      "text/html": [
       "<table>\n",
       "<thead><tr><th scope=col>country_name</th><th scope=col>country_id</th><th scope=col>year</th><th scope=col>gdp</th><th scope=col>count_conflicts</th><th scope=col>fatalities</th></tr></thead>\n",
       "<tbody>\n",
       "\t<tr><td>Cape Verde       </td><td>402              </td><td>2015             </td><td> 1513.00         </td><td>0                </td><td>  0              </td></tr>\n",
       "\t<tr><td>Cape Verde       </td><td>402              </td><td>2016             </td><td> 1561.10         </td><td>0                </td><td>  0              </td></tr>\n",
       "\t<tr><td>Cape Verde       </td><td>402              </td><td>2017             </td><td> 1712.70         </td><td>0                </td><td>  0              </td></tr>\n",
       "\t<tr><td>Guinea-Bissau    </td><td>404              </td><td>2015             </td><td> 1430.84         </td><td>0                </td><td>  0              </td></tr>\n",
       "\t<tr><td>Guinea-Bissau    </td><td>404              </td><td>2016             </td><td> 1473.04         </td><td>0                </td><td>  0              </td></tr>\n",
       "\t<tr><td>Guinea-Bissau    </td><td>404              </td><td>2017             </td><td> 1660.13         </td><td>0                </td><td>  0              </td></tr>\n",
       "\t<tr><td>Equatorial Guinea</td><td>411              </td><td>2015             </td><td>27414.16         </td><td>0                </td><td>  0              </td></tr>\n",
       "\t<tr><td>Equatorial Guinea</td><td>411              </td><td>2016             </td><td>23822.54         </td><td>0                </td><td>  0              </td></tr>\n",
       "\t<tr><td>Equatorial Guinea</td><td>411              </td><td>2017             </td><td>33837.77         </td><td>0                </td><td>  0              </td></tr>\n",
       "\t<tr><td>The Gambia       </td><td>420              </td><td>2015             </td><td> 1595.62         </td><td>0                </td><td>  0              </td></tr>\n",
       "\t<tr><td>The Gambia       </td><td>420              </td><td>2016             </td><td> 1573.09         </td><td>0                </td><td>  0              </td></tr>\n",
       "\t<tr><td>The Gambia       </td><td>420              </td><td>2017             </td><td> 1935.93         </td><td>0                </td><td>  0              </td></tr>\n",
       "\t<tr><td>Mali             </td><td>432              </td><td>2015             </td><td> 1928.42         </td><td>3                </td><td>165              </td></tr>\n",
       "\t<tr><td>Mali             </td><td>432              </td><td>2016             </td><td> 1972.12         </td><td>1                </td><td> 96              </td></tr>\n",
       "\t<tr><td>Mali             </td><td>432              </td><td>2017             </td><td> 2275.19         </td><td>2                </td><td>345              </td></tr>\n",
       "\t<tr><td>Senegal          </td><td>433              </td><td>2015             </td><td> 2308.00         </td><td>0                </td><td>  0              </td></tr>\n",
       "\t<tr><td>Senegal          </td><td>433              </td><td>2016             </td><td> 2392.11         </td><td>0                </td><td>  0              </td></tr>\n",
       "\t<tr><td>Senegal          </td><td>433              </td><td>2017             </td><td> 2455.44         </td><td>0                </td><td>  0              </td></tr>\n",
       "\t<tr><td>Benin            </td><td>434              </td><td>2015             </td><td> 1996.73         </td><td>0                </td><td>  0              </td></tr>\n",
       "\t<tr><td>Benin            </td><td>434              </td><td>2016             </td><td> 2019.64         </td><td>0                </td><td>  0              </td></tr>\n",
       "\t<tr><td>Benin            </td><td>434              </td><td>2017             </td><td> 2005.93         </td><td>0                </td><td>  0              </td></tr>\n",
       "\t<tr><td>Mauritania       </td><td>435              </td><td>2015             </td><td> 3620.30         </td><td>0                </td><td>  0              </td></tr>\n",
       "\t<tr><td>Mauritania       </td><td>435              </td><td>2016             </td><td> 3590.79         </td><td>0                </td><td>  0              </td></tr>\n",
       "\t<tr><td>Mauritania       </td><td>435              </td><td>2017             </td><td> 4238.56         </td><td>0                </td><td>  0              </td></tr>\n",
       "\t<tr><td>Niger            </td><td>436              </td><td>2015             </td><td>  901.36         </td><td>1                </td><td>171              </td></tr>\n",
       "\t<tr><td>Niger            </td><td>436              </td><td>2016             </td><td>  910.90         </td><td>1                </td><td>274              </td></tr>\n",
       "\t<tr><td>Niger            </td><td>436              </td><td>2017             </td><td>  953.72         </td><td>1                </td><td>203              </td></tr>\n",
       "\t<tr><td>Cote d'Ivoire    </td><td>437              </td><td>2015             </td><td> 3267.81         </td><td>0                </td><td>  0              </td></tr>\n",
       "\t<tr><td>Cote d'Ivoire    </td><td>437              </td><td>2016             </td><td> 3465.94         </td><td>0                </td><td>  0              </td></tr>\n",
       "\t<tr><td>Cote d'Ivoire    </td><td>437              </td><td>2017             </td><td> 2894.78         </td><td>0                </td><td>  0              </td></tr>\n",
       "\t<tr><td>⋮</td><td>⋮</td><td>⋮</td><td>⋮</td><td>⋮</td><td>⋮</td></tr>\n",
       "\t<tr><td>Madagascar </td><td>580        </td><td>2015       </td><td> 1382.63   </td><td>0          </td><td>   0       </td></tr>\n",
       "\t<tr><td>Madagascar </td><td>580        </td><td>2016       </td><td> 1402.49   </td><td>0          </td><td>   0       </td></tr>\n",
       "\t<tr><td>Madagascar </td><td>580        </td><td>2017       </td><td> 1536.87   </td><td>0          </td><td>   0       </td></tr>\n",
       "\t<tr><td>Comoros    </td><td>581        </td><td>2015       </td><td> 1419.55   </td><td>0          </td><td>   0       </td></tr>\n",
       "\t<tr><td>Comoros    </td><td>581        </td><td>2016       </td><td> 1417.63   </td><td>0          </td><td>   0       </td></tr>\n",
       "\t<tr><td>Comoros    </td><td>581        </td><td>2017       </td><td> 1491.96   </td><td>0          </td><td>   0       </td></tr>\n",
       "\t<tr><td>Mauritius  </td><td>590        </td><td>2015       </td><td>18981.82   </td><td>0          </td><td>   0       </td></tr>\n",
       "\t<tr><td>Mauritius  </td><td>590        </td><td>2016       </td><td>19671.07   </td><td>0          </td><td>   0       </td></tr>\n",
       "\t<tr><td>Mauritius  </td><td>590        </td><td>2017       </td><td>18561.58   </td><td>0          </td><td>   0       </td></tr>\n",
       "\t<tr><td>Seychelles </td><td>591        </td><td>2015       </td><td>25689.15   </td><td>0          </td><td>   0       </td></tr>\n",
       "\t<tr><td>Seychelles </td><td>591        </td><td>2016       </td><td>26488.96   </td><td>0          </td><td>   0       </td></tr>\n",
       "\t<tr><td>Seychelles </td><td>591        </td><td>2017       </td><td>27489.96   </td><td>0          </td><td>   0       </td></tr>\n",
       "\t<tr><td>Morocco    </td><td>600        </td><td>2015       </td><td> 7326.71   </td><td>0          </td><td>   0       </td></tr>\n",
       "\t<tr><td>Morocco    </td><td>600        </td><td>2016       </td><td> 7306.78   </td><td>0          </td><td>   0       </td></tr>\n",
       "\t<tr><td>Morocco    </td><td>600        </td><td>2017       </td><td> 7712.69   </td><td>0          </td><td>   0       </td></tr>\n",
       "\t<tr><td>Algeria    </td><td>615        </td><td>2015       </td><td>13807.18   </td><td>2          </td><td> 110       </td></tr>\n",
       "\t<tr><td>Algeria    </td><td>615        </td><td>2016       </td><td>14059.21   </td><td>1          </td><td>  86       </td></tr>\n",
       "\t<tr><td>Algeria    </td><td>615        </td><td>2017       </td><td>14353.67   </td><td>1          </td><td>  60       </td></tr>\n",
       "\t<tr><td>Tunisia    </td><td>616        </td><td>2015       </td><td>10813.10   </td><td>0          </td><td>   0       </td></tr>\n",
       "\t<tr><td>Tunisia    </td><td>616        </td><td>2016       </td><td>10815.27   </td><td>1          </td><td>  72       </td></tr>\n",
       "\t<tr><td>Tunisia    </td><td>616        </td><td>2017       </td><td>12003.94   </td><td>0          </td><td>   0       </td></tr>\n",
       "\t<tr><td>Libya      </td><td>620        </td><td>2015       </td><td>17793.44   </td><td>2          </td><td> 274       </td></tr>\n",
       "\t<tr><td>Libya      </td><td>620        </td><td>2016       </td><td>17448.03   </td><td>1          </td><td>1678       </td></tr>\n",
       "\t<tr><td>Libya      </td><td>620        </td><td>2017       </td><td>17109.32   </td><td>2          </td><td> 404       </td></tr>\n",
       "\t<tr><td>Sudan      </td><td>625        </td><td>2015       </td><td> 4313.11   </td><td>1          </td><td>1264       </td></tr>\n",
       "\t<tr><td>Sudan      </td><td>625        </td><td>2016       </td><td> 4408.34   </td><td>1          </td><td>1314       </td></tr>\n",
       "\t<tr><td>Sudan      </td><td>625        </td><td>2017       </td><td> 4665.70   </td><td>1          </td><td> 128       </td></tr>\n",
       "\t<tr><td>South Sudan</td><td>626        </td><td>2015       </td><td> 1816.75   </td><td>1          </td><td> 493       </td></tr>\n",
       "\t<tr><td>South Sudan</td><td>626        </td><td>2016       </td><td>      NA   </td><td>1          </td><td> 735       </td></tr>\n",
       "\t<tr><td>South Sudan</td><td>626        </td><td>2017       </td><td> 1829.13   </td><td>1          </td><td> 465       </td></tr>\n",
       "</tbody>\n",
       "</table>\n"
      ],
      "text/latex": [
       "\\begin{tabular}{r|llllll}\n",
       " country\\_name & country\\_id & year & gdp & count\\_conflicts & fatalities\\\\\n",
       "\\hline\n",
       "\t Cape Verde        & 402               & 2015              &  1513.00          & 0                 &   0              \\\\\n",
       "\t Cape Verde        & 402               & 2016              &  1561.10          & 0                 &   0              \\\\\n",
       "\t Cape Verde        & 402               & 2017              &  1712.70          & 0                 &   0              \\\\\n",
       "\t Guinea-Bissau     & 404               & 2015              &  1430.84          & 0                 &   0              \\\\\n",
       "\t Guinea-Bissau     & 404               & 2016              &  1473.04          & 0                 &   0              \\\\\n",
       "\t Guinea-Bissau     & 404               & 2017              &  1660.13          & 0                 &   0              \\\\\n",
       "\t Equatorial Guinea & 411               & 2015              & 27414.16          & 0                 &   0              \\\\\n",
       "\t Equatorial Guinea & 411               & 2016              & 23822.54          & 0                 &   0              \\\\\n",
       "\t Equatorial Guinea & 411               & 2017              & 33837.77          & 0                 &   0              \\\\\n",
       "\t The Gambia        & 420               & 2015              &  1595.62          & 0                 &   0              \\\\\n",
       "\t The Gambia        & 420               & 2016              &  1573.09          & 0                 &   0              \\\\\n",
       "\t The Gambia        & 420               & 2017              &  1935.93          & 0                 &   0              \\\\\n",
       "\t Mali              & 432               & 2015              &  1928.42          & 3                 & 165              \\\\\n",
       "\t Mali              & 432               & 2016              &  1972.12          & 1                 &  96              \\\\\n",
       "\t Mali              & 432               & 2017              &  2275.19          & 2                 & 345              \\\\\n",
       "\t Senegal           & 433               & 2015              &  2308.00          & 0                 &   0              \\\\\n",
       "\t Senegal           & 433               & 2016              &  2392.11          & 0                 &   0              \\\\\n",
       "\t Senegal           & 433               & 2017              &  2455.44          & 0                 &   0              \\\\\n",
       "\t Benin             & 434               & 2015              &  1996.73          & 0                 &   0              \\\\\n",
       "\t Benin             & 434               & 2016              &  2019.64          & 0                 &   0              \\\\\n",
       "\t Benin             & 434               & 2017              &  2005.93          & 0                 &   0              \\\\\n",
       "\t Mauritania        & 435               & 2015              &  3620.30          & 0                 &   0              \\\\\n",
       "\t Mauritania        & 435               & 2016              &  3590.79          & 0                 &   0              \\\\\n",
       "\t Mauritania        & 435               & 2017              &  4238.56          & 0                 &   0              \\\\\n",
       "\t Niger             & 436               & 2015              &   901.36          & 1                 & 171              \\\\\n",
       "\t Niger             & 436               & 2016              &   910.90          & 1                 & 274              \\\\\n",
       "\t Niger             & 436               & 2017              &   953.72          & 1                 & 203              \\\\\n",
       "\t Cote d'Ivoire     & 437               & 2015              &  3267.81          & 0                 &   0              \\\\\n",
       "\t Cote d'Ivoire     & 437               & 2016              &  3465.94          & 0                 &   0              \\\\\n",
       "\t Cote d'Ivoire     & 437               & 2017              &  2894.78          & 0                 &   0              \\\\\n",
       "\t ⋮ & ⋮ & ⋮ & ⋮ & ⋮ & ⋮\\\\\n",
       "\t Madagascar  & 580         & 2015        &  1382.63    & 0           &    0       \\\\\n",
       "\t Madagascar  & 580         & 2016        &  1402.49    & 0           &    0       \\\\\n",
       "\t Madagascar  & 580         & 2017        &  1536.87    & 0           &    0       \\\\\n",
       "\t Comoros     & 581         & 2015        &  1419.55    & 0           &    0       \\\\\n",
       "\t Comoros     & 581         & 2016        &  1417.63    & 0           &    0       \\\\\n",
       "\t Comoros     & 581         & 2017        &  1491.96    & 0           &    0       \\\\\n",
       "\t Mauritius   & 590         & 2015        & 18981.82    & 0           &    0       \\\\\n",
       "\t Mauritius   & 590         & 2016        & 19671.07    & 0           &    0       \\\\\n",
       "\t Mauritius   & 590         & 2017        & 18561.58    & 0           &    0       \\\\\n",
       "\t Seychelles  & 591         & 2015        & 25689.15    & 0           &    0       \\\\\n",
       "\t Seychelles  & 591         & 2016        & 26488.96    & 0           &    0       \\\\\n",
       "\t Seychelles  & 591         & 2017        & 27489.96    & 0           &    0       \\\\\n",
       "\t Morocco     & 600         & 2015        &  7326.71    & 0           &    0       \\\\\n",
       "\t Morocco     & 600         & 2016        &  7306.78    & 0           &    0       \\\\\n",
       "\t Morocco     & 600         & 2017        &  7712.69    & 0           &    0       \\\\\n",
       "\t Algeria     & 615         & 2015        & 13807.18    & 2           &  110       \\\\\n",
       "\t Algeria     & 615         & 2016        & 14059.21    & 1           &   86       \\\\\n",
       "\t Algeria     & 615         & 2017        & 14353.67    & 1           &   60       \\\\\n",
       "\t Tunisia     & 616         & 2015        & 10813.10    & 0           &    0       \\\\\n",
       "\t Tunisia     & 616         & 2016        & 10815.27    & 1           &   72       \\\\\n",
       "\t Tunisia     & 616         & 2017        & 12003.94    & 0           &    0       \\\\\n",
       "\t Libya       & 620         & 2015        & 17793.44    & 2           &  274       \\\\\n",
       "\t Libya       & 620         & 2016        & 17448.03    & 1           & 1678       \\\\\n",
       "\t Libya       & 620         & 2017        & 17109.32    & 2           &  404       \\\\\n",
       "\t Sudan       & 625         & 2015        &  4313.11    & 1           & 1264       \\\\\n",
       "\t Sudan       & 625         & 2016        &  4408.34    & 1           & 1314       \\\\\n",
       "\t Sudan       & 625         & 2017        &  4665.70    & 1           &  128       \\\\\n",
       "\t South Sudan & 626         & 2015        &  1816.75    & 1           &  493       \\\\\n",
       "\t South Sudan & 626         & 2016        &       NA    & 1           &  735       \\\\\n",
       "\t South Sudan & 626         & 2017        &  1829.13    & 1           &  465       \\\\\n",
       "\\end{tabular}\n"
      ],
      "text/markdown": [
       "\n",
       "country_name | country_id | year | gdp | count_conflicts | fatalities | \n",
       "|---|---|---|---|---|---|---|---|---|---|---|---|---|---|---|---|---|---|---|---|---|---|---|---|---|---|---|---|---|---|---|---|---|---|---|---|---|---|---|---|---|---|---|---|---|---|---|---|---|---|---|---|---|---|---|---|---|---|---|---|---|\n",
       "| Cape Verde        | 402               | 2015              |  1513.00          | 0                 |   0               | \n",
       "| Cape Verde        | 402               | 2016              |  1561.10          | 0                 |   0               | \n",
       "| Cape Verde        | 402               | 2017              |  1712.70          | 0                 |   0               | \n",
       "| Guinea-Bissau     | 404               | 2015              |  1430.84          | 0                 |   0               | \n",
       "| Guinea-Bissau     | 404               | 2016              |  1473.04          | 0                 |   0               | \n",
       "| Guinea-Bissau     | 404               | 2017              |  1660.13          | 0                 |   0               | \n",
       "| Equatorial Guinea | 411               | 2015              | 27414.16          | 0                 |   0               | \n",
       "| Equatorial Guinea | 411               | 2016              | 23822.54          | 0                 |   0               | \n",
       "| Equatorial Guinea | 411               | 2017              | 33837.77          | 0                 |   0               | \n",
       "| The Gambia        | 420               | 2015              |  1595.62          | 0                 |   0               | \n",
       "| The Gambia        | 420               | 2016              |  1573.09          | 0                 |   0               | \n",
       "| The Gambia        | 420               | 2017              |  1935.93          | 0                 |   0               | \n",
       "| Mali              | 432               | 2015              |  1928.42          | 3                 | 165               | \n",
       "| Mali              | 432               | 2016              |  1972.12          | 1                 |  96               | \n",
       "| Mali              | 432               | 2017              |  2275.19          | 2                 | 345               | \n",
       "| Senegal           | 433               | 2015              |  2308.00          | 0                 |   0               | \n",
       "| Senegal           | 433               | 2016              |  2392.11          | 0                 |   0               | \n",
       "| Senegal           | 433               | 2017              |  2455.44          | 0                 |   0               | \n",
       "| Benin             | 434               | 2015              |  1996.73          | 0                 |   0               | \n",
       "| Benin             | 434               | 2016              |  2019.64          | 0                 |   0               | \n",
       "| Benin             | 434               | 2017              |  2005.93          | 0                 |   0               | \n",
       "| Mauritania        | 435               | 2015              |  3620.30          | 0                 |   0               | \n",
       "| Mauritania        | 435               | 2016              |  3590.79          | 0                 |   0               | \n",
       "| Mauritania        | 435               | 2017              |  4238.56          | 0                 |   0               | \n",
       "| Niger             | 436               | 2015              |   901.36          | 1                 | 171               | \n",
       "| Niger             | 436               | 2016              |   910.90          | 1                 | 274               | \n",
       "| Niger             | 436               | 2017              |   953.72          | 1                 | 203               | \n",
       "| Cote d'Ivoire     | 437               | 2015              |  3267.81          | 0                 |   0               | \n",
       "| Cote d'Ivoire     | 437               | 2016              |  3465.94          | 0                 |   0               | \n",
       "| Cote d'Ivoire     | 437               | 2017              |  2894.78          | 0                 |   0               | \n",
       "| ⋮ | ⋮ | ⋮ | ⋮ | ⋮ | ⋮ | \n",
       "| Madagascar  | 580         | 2015        |  1382.63    | 0           |    0        | \n",
       "| Madagascar  | 580         | 2016        |  1402.49    | 0           |    0        | \n",
       "| Madagascar  | 580         | 2017        |  1536.87    | 0           |    0        | \n",
       "| Comoros     | 581         | 2015        |  1419.55    | 0           |    0        | \n",
       "| Comoros     | 581         | 2016        |  1417.63    | 0           |    0        | \n",
       "| Comoros     | 581         | 2017        |  1491.96    | 0           |    0        | \n",
       "| Mauritius   | 590         | 2015        | 18981.82    | 0           |    0        | \n",
       "| Mauritius   | 590         | 2016        | 19671.07    | 0           |    0        | \n",
       "| Mauritius   | 590         | 2017        | 18561.58    | 0           |    0        | \n",
       "| Seychelles  | 591         | 2015        | 25689.15    | 0           |    0        | \n",
       "| Seychelles  | 591         | 2016        | 26488.96    | 0           |    0        | \n",
       "| Seychelles  | 591         | 2017        | 27489.96    | 0           |    0        | \n",
       "| Morocco     | 600         | 2015        |  7326.71    | 0           |    0        | \n",
       "| Morocco     | 600         | 2016        |  7306.78    | 0           |    0        | \n",
       "| Morocco     | 600         | 2017        |  7712.69    | 0           |    0        | \n",
       "| Algeria     | 615         | 2015        | 13807.18    | 2           |  110        | \n",
       "| Algeria     | 615         | 2016        | 14059.21    | 1           |   86        | \n",
       "| Algeria     | 615         | 2017        | 14353.67    | 1           |   60        | \n",
       "| Tunisia     | 616         | 2015        | 10813.10    | 0           |    0        | \n",
       "| Tunisia     | 616         | 2016        | 10815.27    | 1           |   72        | \n",
       "| Tunisia     | 616         | 2017        | 12003.94    | 0           |    0        | \n",
       "| Libya       | 620         | 2015        | 17793.44    | 2           |  274        | \n",
       "| Libya       | 620         | 2016        | 17448.03    | 1           | 1678        | \n",
       "| Libya       | 620         | 2017        | 17109.32    | 2           |  404        | \n",
       "| Sudan       | 625         | 2015        |  4313.11    | 1           | 1264        | \n",
       "| Sudan       | 625         | 2016        |  4408.34    | 1           | 1314        | \n",
       "| Sudan       | 625         | 2017        |  4665.70    | 1           |  128        | \n",
       "| South Sudan | 626         | 2015        |  1816.75    | 1           |  493        | \n",
       "| South Sudan | 626         | 2016        |       NA    | 1           |  735        | \n",
       "| South Sudan | 626         | 2017        |  1829.13    | 1           |  465        | \n",
       "\n",
       "\n"
      ],
      "text/plain": [
       "    country_name      country_id year gdp      count_conflicts fatalities\n",
       "1   Cape Verde        402        2015  1513.00 0                 0       \n",
       "2   Cape Verde        402        2016  1561.10 0                 0       \n",
       "3   Cape Verde        402        2017  1712.70 0                 0       \n",
       "4   Guinea-Bissau     404        2015  1430.84 0                 0       \n",
       "5   Guinea-Bissau     404        2016  1473.04 0                 0       \n",
       "6   Guinea-Bissau     404        2017  1660.13 0                 0       \n",
       "7   Equatorial Guinea 411        2015 27414.16 0                 0       \n",
       "8   Equatorial Guinea 411        2016 23822.54 0                 0       \n",
       "9   Equatorial Guinea 411        2017 33837.77 0                 0       \n",
       "10  The Gambia        420        2015  1595.62 0                 0       \n",
       "11  The Gambia        420        2016  1573.09 0                 0       \n",
       "12  The Gambia        420        2017  1935.93 0                 0       \n",
       "13  Mali              432        2015  1928.42 3               165       \n",
       "14  Mali              432        2016  1972.12 1                96       \n",
       "15  Mali              432        2017  2275.19 2               345       \n",
       "16  Senegal           433        2015  2308.00 0                 0       \n",
       "17  Senegal           433        2016  2392.11 0                 0       \n",
       "18  Senegal           433        2017  2455.44 0                 0       \n",
       "19  Benin             434        2015  1996.73 0                 0       \n",
       "20  Benin             434        2016  2019.64 0                 0       \n",
       "21  Benin             434        2017  2005.93 0                 0       \n",
       "22  Mauritania        435        2015  3620.30 0                 0       \n",
       "23  Mauritania        435        2016  3590.79 0                 0       \n",
       "24  Mauritania        435        2017  4238.56 0                 0       \n",
       "25  Niger             436        2015   901.36 1               171       \n",
       "26  Niger             436        2016   910.90 1               274       \n",
       "27  Niger             436        2017   953.72 1               203       \n",
       "28  Cote d'Ivoire     437        2015  3267.81 0                 0       \n",
       "29  Cote d'Ivoire     437        2016  3465.94 0                 0       \n",
       "30  Cote d'Ivoire     437        2017  2894.78 0                 0       \n",
       "⋮   ⋮                 ⋮          ⋮    ⋮        ⋮               ⋮         \n",
       "127 Madagascar        580        2015  1382.63 0                  0      \n",
       "128 Madagascar        580        2016  1402.49 0                  0      \n",
       "129 Madagascar        580        2017  1536.87 0                  0      \n",
       "130 Comoros           581        2015  1419.55 0                  0      \n",
       "131 Comoros           581        2016  1417.63 0                  0      \n",
       "132 Comoros           581        2017  1491.96 0                  0      \n",
       "133 Mauritius         590        2015 18981.82 0                  0      \n",
       "134 Mauritius         590        2016 19671.07 0                  0      \n",
       "135 Mauritius         590        2017 18561.58 0                  0      \n",
       "136 Seychelles        591        2015 25689.15 0                  0      \n",
       "137 Seychelles        591        2016 26488.96 0                  0      \n",
       "138 Seychelles        591        2017 27489.96 0                  0      \n",
       "139 Morocco           600        2015  7326.71 0                  0      \n",
       "140 Morocco           600        2016  7306.78 0                  0      \n",
       "141 Morocco           600        2017  7712.69 0                  0      \n",
       "142 Algeria           615        2015 13807.18 2                110      \n",
       "143 Algeria           615        2016 14059.21 1                 86      \n",
       "144 Algeria           615        2017 14353.67 1                 60      \n",
       "145 Tunisia           616        2015 10813.10 0                  0      \n",
       "146 Tunisia           616        2016 10815.27 1                 72      \n",
       "147 Tunisia           616        2017 12003.94 0                  0      \n",
       "148 Libya             620        2015 17793.44 2                274      \n",
       "149 Libya             620        2016 17448.03 1               1678      \n",
       "150 Libya             620        2017 17109.32 2                404      \n",
       "151 Sudan             625        2015  4313.11 1               1264      \n",
       "152 Sudan             625        2016  4408.34 1               1314      \n",
       "153 Sudan             625        2017  4665.70 1                128      \n",
       "154 South Sudan       626        2015  1816.75 1                493      \n",
       "155 South Sudan       626        2016       NA 1                735      \n",
       "156 South Sudan       626        2017  1829.13 1                465      "
      ]
     },
     "metadata": {},
     "output_type": "display_data"
    }
   ],
   "source": [
    "# We need to do this because, 0 is, by default, stored as a real number, i.e. 0.0000000000\n",
    "# And the column we want to replace is integer, so expects 0.\n",
    "# This is an R thing. \n",
    "zero <- as.integer(0)\n",
    "\n",
    "really_final <- mutate(final_data_renamed, \n",
    "                       count_conflicts=coalesce(count_conflicts,zero),\n",
    "                       fatalities=coalesce(fatalities,zero))\n",
    "\n",
    "arrange(really_final,country_id,year)"
   ]
  },
  {
   "cell_type": "markdown",
   "metadata": {},
   "source": [
    "### But I asked the prof. and the prof. said that I shouldn't use GDP, I should instead use the logarithm of GDP!"
   ]
  },
  {
   "cell_type": "code",
   "execution_count": 29,
   "metadata": {},
   "outputs": [
    {
     "data": {
      "text/html": [
       "<table>\n",
       "<thead><tr><th scope=col>country_name</th><th scope=col>country_id</th><th scope=col>year</th><th scope=col>gdp</th><th scope=col>count_conflicts</th><th scope=col>fatalities</th><th scope=col>log_gdp</th></tr></thead>\n",
       "<tbody>\n",
       "\t<tr><td>Cape Verde   </td><td>402          </td><td>2015         </td><td>1513.00      </td><td>0            </td><td>  0          </td><td>7.322510     </td></tr>\n",
       "\t<tr><td>Cape Verde   </td><td>402          </td><td>2016         </td><td>1561.10      </td><td>0            </td><td>  0          </td><td>7.353786     </td></tr>\n",
       "\t<tr><td>Cape Verde   </td><td>402          </td><td>2017         </td><td>1712.70      </td><td>0            </td><td>  0          </td><td>7.446410     </td></tr>\n",
       "\t<tr><td>Cote d'Ivoire</td><td>437          </td><td>2015         </td><td>3267.81      </td><td>0            </td><td>  0          </td><td>8.092181     </td></tr>\n",
       "\t<tr><td>Cote d'Ivoire</td><td>437          </td><td>2016         </td><td>3465.94      </td><td>0            </td><td>  0          </td><td>8.151028     </td></tr>\n",
       "\t<tr><td>Cote d'Ivoire</td><td>437          </td><td>2017         </td><td>2894.78      </td><td>0            </td><td>  0          </td><td>7.971010     </td></tr>\n",
       "\t<tr><td>Ghana        </td><td>452          </td><td>2015         </td><td>3950.29      </td><td>0            </td><td>  0          </td><td>8.281797     </td></tr>\n",
       "\t<tr><td>Ghana        </td><td>452          </td><td>2016         </td><td>4001.10      </td><td>0            </td><td>  0          </td><td>8.294575     </td></tr>\n",
       "\t<tr><td>Ghana        </td><td>452          </td><td>2017         </td><td>4157.05      </td><td>0            </td><td>  0          </td><td>8.332801     </td></tr>\n",
       "\t<tr><td>Liberia      </td><td>450          </td><td>2015         </td><td> 788.56      </td><td>0            </td><td>  0          </td><td>6.671476     </td></tr>\n",
       "\t<tr><td>Liberia      </td><td>450          </td><td>2016         </td><td> 756.72      </td><td>0            </td><td>  0          </td><td>6.630314     </td></tr>\n",
       "\t<tr><td>Liberia      </td><td>450          </td><td>2017         </td><td>1009.50      </td><td>0            </td><td>  0          </td><td>6.918201     </td></tr>\n",
       "\t<tr><td>Burkina Faso </td><td>439          </td><td>2015         </td><td>1558.06      </td><td>0            </td><td>  0          </td><td>7.351838     </td></tr>\n",
       "\t<tr><td>Burkina Faso </td><td>439          </td><td>2016         </td><td>1602.02      </td><td>0            </td><td>  0          </td><td>7.379645     </td></tr>\n",
       "\t<tr><td>Burkina Faso </td><td>439          </td><td>2017         </td><td>1512.73      </td><td>0            </td><td>  0          </td><td>7.322332     </td></tr>\n",
       "\t<tr><td>Guinea       </td><td>438          </td><td>2015         </td><td>1189.35      </td><td>0            </td><td>  0          </td><td>7.082003     </td></tr>\n",
       "\t<tr><td>Guinea       </td><td>438          </td><td>2016         </td><td>1220.49      </td><td>0            </td><td>  0          </td><td>7.107827     </td></tr>\n",
       "\t<tr><td>Guinea       </td><td>438          </td><td>2017         </td><td>1271.53      </td><td>0            </td><td>  0          </td><td>7.148762     </td></tr>\n",
       "\t<tr><td>Guinea-Bissau</td><td>404          </td><td>2015         </td><td>1430.84      </td><td>0            </td><td>  0          </td><td>7.266716     </td></tr>\n",
       "\t<tr><td>Guinea-Bissau</td><td>404          </td><td>2016         </td><td>1473.04      </td><td>0            </td><td>  0          </td><td>7.295762     </td></tr>\n",
       "\t<tr><td>Guinea-Bissau</td><td>404          </td><td>2017         </td><td>1660.13      </td><td>0            </td><td>  0          </td><td>7.415253     </td></tr>\n",
       "\t<tr><td>Mali         </td><td>432          </td><td>2015         </td><td>1928.42      </td><td>3            </td><td>165          </td><td>7.564975     </td></tr>\n",
       "\t<tr><td>Mali         </td><td>432          </td><td>2016         </td><td>1972.12      </td><td>1            </td><td> 96          </td><td>7.587371     </td></tr>\n",
       "\t<tr><td>Mali         </td><td>432          </td><td>2017         </td><td>2275.19      </td><td>2            </td><td>345          </td><td>7.730258     </td></tr>\n",
       "\t<tr><td>Senegal      </td><td>433          </td><td>2015         </td><td>2308.00      </td><td>0            </td><td>  0          </td><td>7.744570     </td></tr>\n",
       "\t<tr><td>Senegal      </td><td>433          </td><td>2016         </td><td>2392.11      </td><td>0            </td><td>  0          </td><td>7.780349     </td></tr>\n",
       "\t<tr><td>Senegal      </td><td>433          </td><td>2017         </td><td>2455.44      </td><td>0            </td><td>  0          </td><td>7.806468     </td></tr>\n",
       "\t<tr><td>Sierra Leone </td><td>451          </td><td>2015         </td><td>1322.05      </td><td>0            </td><td>  0          </td><td>7.187695     </td></tr>\n",
       "\t<tr><td>Sierra Leone </td><td>451          </td><td>2016         </td><td>1372.11      </td><td>0            </td><td>  0          </td><td>7.224834     </td></tr>\n",
       "\t<tr><td>Sierra Leone </td><td>451          </td><td>2017         </td><td>1788.69      </td><td>0            </td><td>  0          </td><td>7.489798     </td></tr>\n",
       "\t<tr><td>⋮</td><td>⋮</td><td>⋮</td><td>⋮</td><td>⋮</td><td>⋮</td><td>⋮</td></tr>\n",
       "\t<tr><td>Seychelles </td><td>591        </td><td>2015       </td><td>25689.15   </td><td>0          </td><td>   0       </td><td>10.153863  </td></tr>\n",
       "\t<tr><td>Seychelles </td><td>591        </td><td>2016       </td><td>26488.96   </td><td>0          </td><td>   0       </td><td>10.184521  </td></tr>\n",
       "\t<tr><td>Seychelles </td><td>591        </td><td>2017       </td><td>27489.96   </td><td>0          </td><td>   0       </td><td>10.221613  </td></tr>\n",
       "\t<tr><td>Libya      </td><td>620        </td><td>2015       </td><td>17793.44   </td><td>2          </td><td> 274       </td><td> 9.786641  </td></tr>\n",
       "\t<tr><td>Libya      </td><td>620        </td><td>2016       </td><td>17448.03   </td><td>1          </td><td>1678       </td><td> 9.767039  </td></tr>\n",
       "\t<tr><td>Libya      </td><td>620        </td><td>2017       </td><td>17109.32   </td><td>2          </td><td> 404       </td><td> 9.747437  </td></tr>\n",
       "\t<tr><td>Chad       </td><td>483        </td><td>2015       </td><td> 2057.53   </td><td>1          </td><td> 272       </td><td> 7.629747  </td></tr>\n",
       "\t<tr><td>Chad       </td><td>483        </td><td>2016       </td><td> 1854.71   </td><td>0          </td><td>   0       </td><td> 7.526023  </td></tr>\n",
       "\t<tr><td>Chad       </td><td>483        </td><td>2017       </td><td> 2224.23   </td><td>1          </td><td>  57       </td><td> 7.707616  </td></tr>\n",
       "\t<tr><td>Uganda     </td><td>500        </td><td>2015       </td><td> 1700.50   </td><td>1          </td><td> 197       </td><td> 7.439265  </td></tr>\n",
       "\t<tr><td>Uganda     </td><td>500        </td><td>2016       </td><td> 1721.93   </td><td>1          </td><td> 132       </td><td> 7.451782  </td></tr>\n",
       "\t<tr><td>Uganda     </td><td>500        </td><td>2017       </td><td> 1885.35   </td><td>1          </td><td> 235       </td><td> 7.542399  </td></tr>\n",
       "\t<tr><td>Kenya      </td><td>501        </td><td>2015       </td><td> 2849.92   </td><td>1          </td><td>  42       </td><td> 7.955397  </td></tr>\n",
       "\t<tr><td>Kenya      </td><td>501        </td><td>2016       </td><td> 2940.39   </td><td>1          </td><td>  49       </td><td> 7.986638  </td></tr>\n",
       "\t<tr><td>Kenya      </td><td>501        </td><td>2017       </td><td> 3261.60   </td><td>1          </td><td>  85       </td><td> 8.090280  </td></tr>\n",
       "\t<tr><td>Tanzania   </td><td>510        </td><td>2015       </td><td> 2503.30   </td><td>0          </td><td>   0       </td><td> 7.825765  </td></tr>\n",
       "\t<tr><td>Tanzania   </td><td>510        </td><td>2016       </td><td> 2596.14   </td><td>0          </td><td>   0       </td><td> 7.862166  </td></tr>\n",
       "\t<tr><td>Tanzania   </td><td>510        </td><td>2017       </td><td> 2776.88   </td><td>0          </td><td>   0       </td><td> 7.929443  </td></tr>\n",
       "\t<tr><td>Morocco    </td><td>600        </td><td>2015       </td><td> 7326.71   </td><td>0          </td><td>   0       </td><td> 8.899418  </td></tr>\n",
       "\t<tr><td>Morocco    </td><td>600        </td><td>2016       </td><td> 7306.78   </td><td>0          </td><td>   0       </td><td> 8.896695  </td></tr>\n",
       "\t<tr><td>Morocco    </td><td>600        </td><td>2017       </td><td> 7712.69   </td><td>0          </td><td>   0       </td><td> 8.950752  </td></tr>\n",
       "\t<tr><td>Mauritania </td><td>435        </td><td>2015       </td><td> 3620.30   </td><td>0          </td><td>   0       </td><td> 8.194588  </td></tr>\n",
       "\t<tr><td>Mauritania </td><td>435        </td><td>2016       </td><td> 3590.79   </td><td>0          </td><td>   0       </td><td> 8.186406  </td></tr>\n",
       "\t<tr><td>Mauritania </td><td>435        </td><td>2017       </td><td> 4238.56   </td><td>0          </td><td>   0       </td><td> 8.352215  </td></tr>\n",
       "\t<tr><td>Sudan      </td><td>625        </td><td>2015       </td><td> 4313.11   </td><td>1          </td><td>1264       </td><td> 8.369646  </td></tr>\n",
       "\t<tr><td>Sudan      </td><td>625        </td><td>2016       </td><td> 4408.34   </td><td>1          </td><td>1314       </td><td> 8.391480  </td></tr>\n",
       "\t<tr><td>Sudan      </td><td>625        </td><td>2017       </td><td> 4665.70   </td><td>1          </td><td> 128       </td><td> 8.448207  </td></tr>\n",
       "\t<tr><td>South Sudan</td><td>626        </td><td>2015       </td><td> 1816.75   </td><td>1          </td><td> 493       </td><td> 7.505355  </td></tr>\n",
       "\t<tr><td>South Sudan</td><td>626        </td><td>2016       </td><td>      NA   </td><td>1          </td><td> 735       </td><td>       NA  </td></tr>\n",
       "\t<tr><td>South Sudan</td><td>626        </td><td>2017       </td><td> 1829.13   </td><td>1          </td><td> 465       </td><td> 7.512142  </td></tr>\n",
       "</tbody>\n",
       "</table>\n"
      ],
      "text/latex": [
       "\\begin{tabular}{r|lllllll}\n",
       " country\\_name & country\\_id & year & gdp & count\\_conflicts & fatalities & log\\_gdp\\\\\n",
       "\\hline\n",
       "\t Cape Verde    & 402           & 2015          & 1513.00       & 0             &   0           & 7.322510     \\\\\n",
       "\t Cape Verde    & 402           & 2016          & 1561.10       & 0             &   0           & 7.353786     \\\\\n",
       "\t Cape Verde    & 402           & 2017          & 1712.70       & 0             &   0           & 7.446410     \\\\\n",
       "\t Cote d'Ivoire & 437           & 2015          & 3267.81       & 0             &   0           & 8.092181     \\\\\n",
       "\t Cote d'Ivoire & 437           & 2016          & 3465.94       & 0             &   0           & 8.151028     \\\\\n",
       "\t Cote d'Ivoire & 437           & 2017          & 2894.78       & 0             &   0           & 7.971010     \\\\\n",
       "\t Ghana         & 452           & 2015          & 3950.29       & 0             &   0           & 8.281797     \\\\\n",
       "\t Ghana         & 452           & 2016          & 4001.10       & 0             &   0           & 8.294575     \\\\\n",
       "\t Ghana         & 452           & 2017          & 4157.05       & 0             &   0           & 8.332801     \\\\\n",
       "\t Liberia       & 450           & 2015          &  788.56       & 0             &   0           & 6.671476     \\\\\n",
       "\t Liberia       & 450           & 2016          &  756.72       & 0             &   0           & 6.630314     \\\\\n",
       "\t Liberia       & 450           & 2017          & 1009.50       & 0             &   0           & 6.918201     \\\\\n",
       "\t Burkina Faso  & 439           & 2015          & 1558.06       & 0             &   0           & 7.351838     \\\\\n",
       "\t Burkina Faso  & 439           & 2016          & 1602.02       & 0             &   0           & 7.379645     \\\\\n",
       "\t Burkina Faso  & 439           & 2017          & 1512.73       & 0             &   0           & 7.322332     \\\\\n",
       "\t Guinea        & 438           & 2015          & 1189.35       & 0             &   0           & 7.082003     \\\\\n",
       "\t Guinea        & 438           & 2016          & 1220.49       & 0             &   0           & 7.107827     \\\\\n",
       "\t Guinea        & 438           & 2017          & 1271.53       & 0             &   0           & 7.148762     \\\\\n",
       "\t Guinea-Bissau & 404           & 2015          & 1430.84       & 0             &   0           & 7.266716     \\\\\n",
       "\t Guinea-Bissau & 404           & 2016          & 1473.04       & 0             &   0           & 7.295762     \\\\\n",
       "\t Guinea-Bissau & 404           & 2017          & 1660.13       & 0             &   0           & 7.415253     \\\\\n",
       "\t Mali          & 432           & 2015          & 1928.42       & 3             & 165           & 7.564975     \\\\\n",
       "\t Mali          & 432           & 2016          & 1972.12       & 1             &  96           & 7.587371     \\\\\n",
       "\t Mali          & 432           & 2017          & 2275.19       & 2             & 345           & 7.730258     \\\\\n",
       "\t Senegal       & 433           & 2015          & 2308.00       & 0             &   0           & 7.744570     \\\\\n",
       "\t Senegal       & 433           & 2016          & 2392.11       & 0             &   0           & 7.780349     \\\\\n",
       "\t Senegal       & 433           & 2017          & 2455.44       & 0             &   0           & 7.806468     \\\\\n",
       "\t Sierra Leone  & 451           & 2015          & 1322.05       & 0             &   0           & 7.187695     \\\\\n",
       "\t Sierra Leone  & 451           & 2016          & 1372.11       & 0             &   0           & 7.224834     \\\\\n",
       "\t Sierra Leone  & 451           & 2017          & 1788.69       & 0             &   0           & 7.489798     \\\\\n",
       "\t ⋮ & ⋮ & ⋮ & ⋮ & ⋮ & ⋮ & ⋮\\\\\n",
       "\t Seychelles  & 591         & 2015        & 25689.15    & 0           &    0        & 10.153863  \\\\\n",
       "\t Seychelles  & 591         & 2016        & 26488.96    & 0           &    0        & 10.184521  \\\\\n",
       "\t Seychelles  & 591         & 2017        & 27489.96    & 0           &    0        & 10.221613  \\\\\n",
       "\t Libya       & 620         & 2015        & 17793.44    & 2           &  274        &  9.786641  \\\\\n",
       "\t Libya       & 620         & 2016        & 17448.03    & 1           & 1678        &  9.767039  \\\\\n",
       "\t Libya       & 620         & 2017        & 17109.32    & 2           &  404        &  9.747437  \\\\\n",
       "\t Chad        & 483         & 2015        &  2057.53    & 1           &  272        &  7.629747  \\\\\n",
       "\t Chad        & 483         & 2016        &  1854.71    & 0           &    0        &  7.526023  \\\\\n",
       "\t Chad        & 483         & 2017        &  2224.23    & 1           &   57        &  7.707616  \\\\\n",
       "\t Uganda      & 500         & 2015        &  1700.50    & 1           &  197        &  7.439265  \\\\\n",
       "\t Uganda      & 500         & 2016        &  1721.93    & 1           &  132        &  7.451782  \\\\\n",
       "\t Uganda      & 500         & 2017        &  1885.35    & 1           &  235        &  7.542399  \\\\\n",
       "\t Kenya       & 501         & 2015        &  2849.92    & 1           &   42        &  7.955397  \\\\\n",
       "\t Kenya       & 501         & 2016        &  2940.39    & 1           &   49        &  7.986638  \\\\\n",
       "\t Kenya       & 501         & 2017        &  3261.60    & 1           &   85        &  8.090280  \\\\\n",
       "\t Tanzania    & 510         & 2015        &  2503.30    & 0           &    0        &  7.825765  \\\\\n",
       "\t Tanzania    & 510         & 2016        &  2596.14    & 0           &    0        &  7.862166  \\\\\n",
       "\t Tanzania    & 510         & 2017        &  2776.88    & 0           &    0        &  7.929443  \\\\\n",
       "\t Morocco     & 600         & 2015        &  7326.71    & 0           &    0        &  8.899418  \\\\\n",
       "\t Morocco     & 600         & 2016        &  7306.78    & 0           &    0        &  8.896695  \\\\\n",
       "\t Morocco     & 600         & 2017        &  7712.69    & 0           &    0        &  8.950752  \\\\\n",
       "\t Mauritania  & 435         & 2015        &  3620.30    & 0           &    0        &  8.194588  \\\\\n",
       "\t Mauritania  & 435         & 2016        &  3590.79    & 0           &    0        &  8.186406  \\\\\n",
       "\t Mauritania  & 435         & 2017        &  4238.56    & 0           &    0        &  8.352215  \\\\\n",
       "\t Sudan       & 625         & 2015        &  4313.11    & 1           & 1264        &  8.369646  \\\\\n",
       "\t Sudan       & 625         & 2016        &  4408.34    & 1           & 1314        &  8.391480  \\\\\n",
       "\t Sudan       & 625         & 2017        &  4665.70    & 1           &  128        &  8.448207  \\\\\n",
       "\t South Sudan & 626         & 2015        &  1816.75    & 1           &  493        &  7.505355  \\\\\n",
       "\t South Sudan & 626         & 2016        &       NA    & 1           &  735        &        NA  \\\\\n",
       "\t South Sudan & 626         & 2017        &  1829.13    & 1           &  465        &  7.512142  \\\\\n",
       "\\end{tabular}\n"
      ],
      "text/markdown": [
       "\n",
       "country_name | country_id | year | gdp | count_conflicts | fatalities | log_gdp | \n",
       "|---|---|---|---|---|---|---|---|---|---|---|---|---|---|---|---|---|---|---|---|---|---|---|---|---|---|---|---|---|---|---|---|---|---|---|---|---|---|---|---|---|---|---|---|---|---|---|---|---|---|---|---|---|---|---|---|---|---|---|---|---|\n",
       "| Cape Verde    | 402           | 2015          | 1513.00       | 0             |   0           | 7.322510      | \n",
       "| Cape Verde    | 402           | 2016          | 1561.10       | 0             |   0           | 7.353786      | \n",
       "| Cape Verde    | 402           | 2017          | 1712.70       | 0             |   0           | 7.446410      | \n",
       "| Cote d'Ivoire | 437           | 2015          | 3267.81       | 0             |   0           | 8.092181      | \n",
       "| Cote d'Ivoire | 437           | 2016          | 3465.94       | 0             |   0           | 8.151028      | \n",
       "| Cote d'Ivoire | 437           | 2017          | 2894.78       | 0             |   0           | 7.971010      | \n",
       "| Ghana         | 452           | 2015          | 3950.29       | 0             |   0           | 8.281797      | \n",
       "| Ghana         | 452           | 2016          | 4001.10       | 0             |   0           | 8.294575      | \n",
       "| Ghana         | 452           | 2017          | 4157.05       | 0             |   0           | 8.332801      | \n",
       "| Liberia       | 450           | 2015          |  788.56       | 0             |   0           | 6.671476      | \n",
       "| Liberia       | 450           | 2016          |  756.72       | 0             |   0           | 6.630314      | \n",
       "| Liberia       | 450           | 2017          | 1009.50       | 0             |   0           | 6.918201      | \n",
       "| Burkina Faso  | 439           | 2015          | 1558.06       | 0             |   0           | 7.351838      | \n",
       "| Burkina Faso  | 439           | 2016          | 1602.02       | 0             |   0           | 7.379645      | \n",
       "| Burkina Faso  | 439           | 2017          | 1512.73       | 0             |   0           | 7.322332      | \n",
       "| Guinea        | 438           | 2015          | 1189.35       | 0             |   0           | 7.082003      | \n",
       "| Guinea        | 438           | 2016          | 1220.49       | 0             |   0           | 7.107827      | \n",
       "| Guinea        | 438           | 2017          | 1271.53       | 0             |   0           | 7.148762      | \n",
       "| Guinea-Bissau | 404           | 2015          | 1430.84       | 0             |   0           | 7.266716      | \n",
       "| Guinea-Bissau | 404           | 2016          | 1473.04       | 0             |   0           | 7.295762      | \n",
       "| Guinea-Bissau | 404           | 2017          | 1660.13       | 0             |   0           | 7.415253      | \n",
       "| Mali          | 432           | 2015          | 1928.42       | 3             | 165           | 7.564975      | \n",
       "| Mali          | 432           | 2016          | 1972.12       | 1             |  96           | 7.587371      | \n",
       "| Mali          | 432           | 2017          | 2275.19       | 2             | 345           | 7.730258      | \n",
       "| Senegal       | 433           | 2015          | 2308.00       | 0             |   0           | 7.744570      | \n",
       "| Senegal       | 433           | 2016          | 2392.11       | 0             |   0           | 7.780349      | \n",
       "| Senegal       | 433           | 2017          | 2455.44       | 0             |   0           | 7.806468      | \n",
       "| Sierra Leone  | 451           | 2015          | 1322.05       | 0             |   0           | 7.187695      | \n",
       "| Sierra Leone  | 451           | 2016          | 1372.11       | 0             |   0           | 7.224834      | \n",
       "| Sierra Leone  | 451           | 2017          | 1788.69       | 0             |   0           | 7.489798      | \n",
       "| ⋮ | ⋮ | ⋮ | ⋮ | ⋮ | ⋮ | ⋮ | \n",
       "| Seychelles  | 591         | 2015        | 25689.15    | 0           |    0        | 10.153863   | \n",
       "| Seychelles  | 591         | 2016        | 26488.96    | 0           |    0        | 10.184521   | \n",
       "| Seychelles  | 591         | 2017        | 27489.96    | 0           |    0        | 10.221613   | \n",
       "| Libya       | 620         | 2015        | 17793.44    | 2           |  274        |  9.786641   | \n",
       "| Libya       | 620         | 2016        | 17448.03    | 1           | 1678        |  9.767039   | \n",
       "| Libya       | 620         | 2017        | 17109.32    | 2           |  404        |  9.747437   | \n",
       "| Chad        | 483         | 2015        |  2057.53    | 1           |  272        |  7.629747   | \n",
       "| Chad        | 483         | 2016        |  1854.71    | 0           |    0        |  7.526023   | \n",
       "| Chad        | 483         | 2017        |  2224.23    | 1           |   57        |  7.707616   | \n",
       "| Uganda      | 500         | 2015        |  1700.50    | 1           |  197        |  7.439265   | \n",
       "| Uganda      | 500         | 2016        |  1721.93    | 1           |  132        |  7.451782   | \n",
       "| Uganda      | 500         | 2017        |  1885.35    | 1           |  235        |  7.542399   | \n",
       "| Kenya       | 501         | 2015        |  2849.92    | 1           |   42        |  7.955397   | \n",
       "| Kenya       | 501         | 2016        |  2940.39    | 1           |   49        |  7.986638   | \n",
       "| Kenya       | 501         | 2017        |  3261.60    | 1           |   85        |  8.090280   | \n",
       "| Tanzania    | 510         | 2015        |  2503.30    | 0           |    0        |  7.825765   | \n",
       "| Tanzania    | 510         | 2016        |  2596.14    | 0           |    0        |  7.862166   | \n",
       "| Tanzania    | 510         | 2017        |  2776.88    | 0           |    0        |  7.929443   | \n",
       "| Morocco     | 600         | 2015        |  7326.71    | 0           |    0        |  8.899418   | \n",
       "| Morocco     | 600         | 2016        |  7306.78    | 0           |    0        |  8.896695   | \n",
       "| Morocco     | 600         | 2017        |  7712.69    | 0           |    0        |  8.950752   | \n",
       "| Mauritania  | 435         | 2015        |  3620.30    | 0           |    0        |  8.194588   | \n",
       "| Mauritania  | 435         | 2016        |  3590.79    | 0           |    0        |  8.186406   | \n",
       "| Mauritania  | 435         | 2017        |  4238.56    | 0           |    0        |  8.352215   | \n",
       "| Sudan       | 625         | 2015        |  4313.11    | 1           | 1264        |  8.369646   | \n",
       "| Sudan       | 625         | 2016        |  4408.34    | 1           | 1314        |  8.391480   | \n",
       "| Sudan       | 625         | 2017        |  4665.70    | 1           |  128        |  8.448207   | \n",
       "| South Sudan | 626         | 2015        |  1816.75    | 1           |  493        |  7.505355   | \n",
       "| South Sudan | 626         | 2016        |       NA    | 1           |  735        |        NA   | \n",
       "| South Sudan | 626         | 2017        |  1829.13    | 1           |  465        |  7.512142   | \n",
       "\n",
       "\n"
      ],
      "text/plain": [
       "    country_name  country_id year gdp      count_conflicts fatalities log_gdp  \n",
       "1   Cape Verde    402        2015 1513.00  0                 0        7.322510 \n",
       "2   Cape Verde    402        2016 1561.10  0                 0        7.353786 \n",
       "3   Cape Verde    402        2017 1712.70  0                 0        7.446410 \n",
       "4   Cote d'Ivoire 437        2015 3267.81  0                 0        8.092181 \n",
       "5   Cote d'Ivoire 437        2016 3465.94  0                 0        8.151028 \n",
       "6   Cote d'Ivoire 437        2017 2894.78  0                 0        7.971010 \n",
       "7   Ghana         452        2015 3950.29  0                 0        8.281797 \n",
       "8   Ghana         452        2016 4001.10  0                 0        8.294575 \n",
       "9   Ghana         452        2017 4157.05  0                 0        8.332801 \n",
       "10  Liberia       450        2015  788.56  0                 0        6.671476 \n",
       "11  Liberia       450        2016  756.72  0                 0        6.630314 \n",
       "12  Liberia       450        2017 1009.50  0                 0        6.918201 \n",
       "13  Burkina Faso  439        2015 1558.06  0                 0        7.351838 \n",
       "14  Burkina Faso  439        2016 1602.02  0                 0        7.379645 \n",
       "15  Burkina Faso  439        2017 1512.73  0                 0        7.322332 \n",
       "16  Guinea        438        2015 1189.35  0                 0        7.082003 \n",
       "17  Guinea        438        2016 1220.49  0                 0        7.107827 \n",
       "18  Guinea        438        2017 1271.53  0                 0        7.148762 \n",
       "19  Guinea-Bissau 404        2015 1430.84  0                 0        7.266716 \n",
       "20  Guinea-Bissau 404        2016 1473.04  0                 0        7.295762 \n",
       "21  Guinea-Bissau 404        2017 1660.13  0                 0        7.415253 \n",
       "22  Mali          432        2015 1928.42  3               165        7.564975 \n",
       "23  Mali          432        2016 1972.12  1                96        7.587371 \n",
       "24  Mali          432        2017 2275.19  2               345        7.730258 \n",
       "25  Senegal       433        2015 2308.00  0                 0        7.744570 \n",
       "26  Senegal       433        2016 2392.11  0                 0        7.780349 \n",
       "27  Senegal       433        2017 2455.44  0                 0        7.806468 \n",
       "28  Sierra Leone  451        2015 1322.05  0                 0        7.187695 \n",
       "29  Sierra Leone  451        2016 1372.11  0                 0        7.224834 \n",
       "30  Sierra Leone  451        2017 1788.69  0                 0        7.489798 \n",
       "⋮   ⋮             ⋮          ⋮    ⋮        ⋮               ⋮          ⋮        \n",
       "127 Seychelles    591        2015 25689.15 0                  0       10.153863\n",
       "128 Seychelles    591        2016 26488.96 0                  0       10.184521\n",
       "129 Seychelles    591        2017 27489.96 0                  0       10.221613\n",
       "130 Libya         620        2015 17793.44 2                274        9.786641\n",
       "131 Libya         620        2016 17448.03 1               1678        9.767039\n",
       "132 Libya         620        2017 17109.32 2                404        9.747437\n",
       "133 Chad          483        2015  2057.53 1                272        7.629747\n",
       "134 Chad          483        2016  1854.71 0                  0        7.526023\n",
       "135 Chad          483        2017  2224.23 1                 57        7.707616\n",
       "136 Uganda        500        2015  1700.50 1                197        7.439265\n",
       "137 Uganda        500        2016  1721.93 1                132        7.451782\n",
       "138 Uganda        500        2017  1885.35 1                235        7.542399\n",
       "139 Kenya         501        2015  2849.92 1                 42        7.955397\n",
       "140 Kenya         501        2016  2940.39 1                 49        7.986638\n",
       "141 Kenya         501        2017  3261.60 1                 85        8.090280\n",
       "142 Tanzania      510        2015  2503.30 0                  0        7.825765\n",
       "143 Tanzania      510        2016  2596.14 0                  0        7.862166\n",
       "144 Tanzania      510        2017  2776.88 0                  0        7.929443\n",
       "145 Morocco       600        2015  7326.71 0                  0        8.899418\n",
       "146 Morocco       600        2016  7306.78 0                  0        8.896695\n",
       "147 Morocco       600        2017  7712.69 0                  0        8.950752\n",
       "148 Mauritania    435        2015  3620.30 0                  0        8.194588\n",
       "149 Mauritania    435        2016  3590.79 0                  0        8.186406\n",
       "150 Mauritania    435        2017  4238.56 0                  0        8.352215\n",
       "151 Sudan         625        2015  4313.11 1               1264        8.369646\n",
       "152 Sudan         625        2016  4408.34 1               1314        8.391480\n",
       "153 Sudan         625        2017  4665.70 1                128        8.448207\n",
       "154 South Sudan   626        2015  1816.75 1                493        7.505355\n",
       "155 South Sudan   626        2016       NA 1                735              NA\n",
       "156 South Sudan   626        2017  1829.13 1                465        7.512142"
      ]
     },
     "metadata": {},
     "output_type": "display_data"
    }
   ],
   "source": [
    "with_logs <- mutate(really_final, log_gdp=log(gdp+1))\n",
    "with_logs\n",
    "\n",
    "# Always add +1 when doing logs. Why? Because log(0) does not exist, but log(1)=0!"
   ]
  },
  {
   "cell_type": "markdown",
   "metadata": {},
   "source": [
    "### And I asked the prof. and the prof. said that I should also _lag_ GDP\n",
    "We frequently use lags, because cause->effect relations take time to develop. It's likely that an economic collapse won't trigger conflict immediately, but in a year!. So we use last year's GDP to see if it has an effect on conflict."
   ]
  },
  {
   "cell_type": "code",
   "execution_count": 47,
   "metadata": {},
   "outputs": [
    {
     "data": {
      "text/html": [
       "<table>\n",
       "<thead><tr><th scope=col>country_name</th><th scope=col>country_id</th><th scope=col>year</th><th scope=col>gdp</th><th scope=col>count_conflicts</th><th scope=col>fatalities</th><th scope=col>lagged_gdp</th></tr></thead>\n",
       "<tbody>\n",
       "\t<tr><td>Algeria                 </td><td>615                     </td><td>2015                    </td><td>13807.18                </td><td>2                       </td><td>110                     </td><td>      NA                </td></tr>\n",
       "\t<tr><td>Algeria                 </td><td>615                     </td><td>2016                    </td><td>14059.21                </td><td>1                       </td><td> 86                     </td><td>13807.18                </td></tr>\n",
       "\t<tr><td>Algeria                 </td><td>615                     </td><td>2017                    </td><td>14353.67                </td><td>1                       </td><td> 60                     </td><td>14059.21                </td></tr>\n",
       "\t<tr><td>Angola                  </td><td>540                     </td><td>2015                    </td><td> 6265.56                </td><td>0                       </td><td>  0                     </td><td>      NA                </td></tr>\n",
       "\t<tr><td>Angola                  </td><td>540                     </td><td>2016                    </td><td> 6057.95                </td><td>0                       </td><td>  0                     </td><td> 6265.56                </td></tr>\n",
       "\t<tr><td>Angola                  </td><td>540                     </td><td>2017                    </td><td> 1563.85                </td><td>1                       </td><td> 25                     </td><td> 6057.95                </td></tr>\n",
       "\t<tr><td>Benin                   </td><td>434                     </td><td>2015                    </td><td> 1996.73                </td><td>0                       </td><td>  0                     </td><td>      NA                </td></tr>\n",
       "\t<tr><td>Benin                   </td><td>434                     </td><td>2016                    </td><td> 2019.64                </td><td>0                       </td><td>  0                     </td><td> 1996.73                </td></tr>\n",
       "\t<tr><td>Benin                   </td><td>434                     </td><td>2017                    </td><td> 2005.93                </td><td>0                       </td><td>  0                     </td><td> 2019.64                </td></tr>\n",
       "\t<tr><td>Botswana                </td><td>571                     </td><td>2015                    </td><td>15450.28                </td><td>0                       </td><td>  0                     </td><td>      NA                </td></tr>\n",
       "\t<tr><td>Botswana                </td><td>571                     </td><td>2016                    </td><td>15608.32                </td><td>0                       </td><td>  0                     </td><td>15450.28                </td></tr>\n",
       "\t<tr><td>Botswana                </td><td>571                     </td><td>2017                    </td><td>16987.37                </td><td>0                       </td><td>  0                     </td><td>15608.32                </td></tr>\n",
       "\t<tr><td>Burkina Faso            </td><td>439                     </td><td>2015                    </td><td> 1558.06                </td><td>0                       </td><td>  0                     </td><td>      NA                </td></tr>\n",
       "\t<tr><td>Burkina Faso            </td><td>439                     </td><td>2016                    </td><td> 1602.02                </td><td>0                       </td><td>  0                     </td><td> 1558.06                </td></tr>\n",
       "\t<tr><td>Burkina Faso            </td><td>439                     </td><td>2017                    </td><td> 1512.73                </td><td>0                       </td><td>  0                     </td><td> 1602.02                </td></tr>\n",
       "\t<tr><td>Burundi                 </td><td>516                     </td><td>2015                    </td><td>  751.68                </td><td>1                       </td><td>133                     </td><td>      NA                </td></tr>\n",
       "\t<tr><td>Burundi                 </td><td>516                     </td><td>2016                    </td><td>  724.18                </td><td>0                       </td><td>  0                     </td><td>  751.68                </td></tr>\n",
       "\t<tr><td>Burundi                 </td><td>516                     </td><td>2017                    </td><td>  824.07                </td><td>0                       </td><td>  0                     </td><td>  724.18                </td></tr>\n",
       "\t<tr><td>Cameroon                </td><td>471                     </td><td>2015                    </td><td> 3006.36                </td><td>2                       </td><td>995                     </td><td>      NA                </td></tr>\n",
       "\t<tr><td>Cameroon                </td><td>471                     </td><td>2016                    </td><td> 3061.40                </td><td>2                       </td><td>221                     </td><td> 3006.36                </td></tr>\n",
       "\t<tr><td>Cameroon                </td><td>471                     </td><td>2017                    </td><td> 3096.99                </td><td>1                       </td><td> 63                     </td><td> 3061.40                </td></tr>\n",
       "\t<tr><td>Cape Verde              </td><td>402                     </td><td>2015                    </td><td> 1513.00                </td><td>0                       </td><td>  0                     </td><td>      NA                </td></tr>\n",
       "\t<tr><td>Cape Verde              </td><td>402                     </td><td>2016                    </td><td> 1561.10                </td><td>0                       </td><td>  0                     </td><td> 1513.00                </td></tr>\n",
       "\t<tr><td>Cape Verde              </td><td>402                     </td><td>2017                    </td><td> 1712.70                </td><td>0                       </td><td>  0                     </td><td> 1561.10                </td></tr>\n",
       "\t<tr><td>Central African Republic</td><td>482                     </td><td>2015                    </td><td>  628.97                </td><td>0                       </td><td>  0                     </td><td>      NA                </td></tr>\n",
       "\t<tr><td>Central African Republic</td><td>482                     </td><td>2016                    </td><td>  650.54                </td><td>0                       </td><td>  0                     </td><td>  628.97                </td></tr>\n",
       "\t<tr><td>Central African Republic</td><td>482                     </td><td>2017                    </td><td>  780.49                </td><td>0                       </td><td>  0                     </td><td>  650.54                </td></tr>\n",
       "\t<tr><td>Chad                    </td><td>483                     </td><td>2015                    </td><td> 2057.53                </td><td>1                       </td><td>272                     </td><td>      NA                </td></tr>\n",
       "\t<tr><td>Chad                    </td><td>483                     </td><td>2016                    </td><td> 1854.71                </td><td>0                       </td><td>  0                     </td><td> 2057.53                </td></tr>\n",
       "\t<tr><td>Chad                    </td><td>483                     </td><td>2017                    </td><td> 2224.23                </td><td>1                       </td><td> 57                     </td><td> 1854.71                </td></tr>\n",
       "\t<tr><td>⋮</td><td>⋮</td><td>⋮</td><td>⋮</td><td>⋮</td><td>⋮</td><td>⋮</td></tr>\n",
       "\t<tr><td>South Sudan</td><td>626        </td><td>2015       </td><td> 1816.75   </td><td>1          </td><td> 493       </td><td>      NA   </td></tr>\n",
       "\t<tr><td>South Sudan</td><td>626        </td><td>2016       </td><td>      NA   </td><td>1          </td><td> 735       </td><td> 1816.75   </td></tr>\n",
       "\t<tr><td>South Sudan</td><td>626        </td><td>2017       </td><td> 1829.13   </td><td>1          </td><td> 465       </td><td>      NA   </td></tr>\n",
       "\t<tr><td>Sudan      </td><td>625        </td><td>2015       </td><td> 4313.11   </td><td>1          </td><td>1264       </td><td>      NA   </td></tr>\n",
       "\t<tr><td>Sudan      </td><td>625        </td><td>2016       </td><td> 4408.34   </td><td>1          </td><td>1314       </td><td> 4313.11   </td></tr>\n",
       "\t<tr><td>Sudan      </td><td>625        </td><td>2017       </td><td> 4665.70   </td><td>1          </td><td> 128       </td><td> 4408.34   </td></tr>\n",
       "\t<tr><td>Swaziland  </td><td>572        </td><td>2015       </td><td> 8099.64   </td><td>0          </td><td>   0       </td><td>      NA   </td></tr>\n",
       "\t<tr><td>Swaziland  </td><td>572        </td><td>2016       </td><td> 7777.69   </td><td>0          </td><td>   0       </td><td> 8099.64   </td></tr>\n",
       "\t<tr><td>Swaziland  </td><td>572        </td><td>2017       </td><td> 7804.44   </td><td>0          </td><td>   0       </td><td> 7777.69   </td></tr>\n",
       "\t<tr><td>Tanzania   </td><td>510        </td><td>2015       </td><td> 2503.30   </td><td>0          </td><td>   0       </td><td>      NA   </td></tr>\n",
       "\t<tr><td>Tanzania   </td><td>510        </td><td>2016       </td><td> 2596.14   </td><td>0          </td><td>   0       </td><td> 2503.30   </td></tr>\n",
       "\t<tr><td>Tanzania   </td><td>510        </td><td>2017       </td><td> 2776.88   </td><td>0          </td><td>   0       </td><td> 2596.14   </td></tr>\n",
       "\t<tr><td>The Gambia </td><td>420        </td><td>2015       </td><td> 1595.62   </td><td>0          </td><td>   0       </td><td>      NA   </td></tr>\n",
       "\t<tr><td>The Gambia </td><td>420        </td><td>2016       </td><td> 1573.09   </td><td>0          </td><td>   0       </td><td> 1595.62   </td></tr>\n",
       "\t<tr><td>The Gambia </td><td>420        </td><td>2017       </td><td> 1935.93   </td><td>0          </td><td>   0       </td><td> 1573.09   </td></tr>\n",
       "\t<tr><td>Togo       </td><td>461        </td><td>2015       </td><td> 1356.98   </td><td>0          </td><td>   0       </td><td>      NA   </td></tr>\n",
       "\t<tr><td>Togo       </td><td>461        </td><td>2016       </td><td> 1388.44   </td><td>0          </td><td>   0       </td><td> 1356.98   </td></tr>\n",
       "\t<tr><td>Togo       </td><td>461        </td><td>2017       </td><td> 1203.83   </td><td>0          </td><td>   0       </td><td> 1388.44   </td></tr>\n",
       "\t<tr><td>Tunisia    </td><td>616        </td><td>2015       </td><td>10813.10   </td><td>0          </td><td>   0       </td><td>      NA   </td></tr>\n",
       "\t<tr><td>Tunisia    </td><td>616        </td><td>2016       </td><td>10815.27   </td><td>1          </td><td>  72       </td><td>10813.10   </td></tr>\n",
       "\t<tr><td>Tunisia    </td><td>616        </td><td>2017       </td><td>12003.94   </td><td>0          </td><td>   0       </td><td>10815.27   </td></tr>\n",
       "\t<tr><td>Uganda     </td><td>500        </td><td>2015       </td><td> 1700.50   </td><td>1          </td><td> 197       </td><td>      NA   </td></tr>\n",
       "\t<tr><td>Uganda     </td><td>500        </td><td>2016       </td><td> 1721.93   </td><td>1          </td><td> 132       </td><td> 1700.50   </td></tr>\n",
       "\t<tr><td>Uganda     </td><td>500        </td><td>2017       </td><td> 1885.35   </td><td>1          </td><td> 235       </td><td> 1721.93   </td></tr>\n",
       "\t<tr><td>Zambia     </td><td>551        </td><td>2015       </td><td> 3646.04   </td><td>0          </td><td>   0       </td><td>      NA   </td></tr>\n",
       "\t<tr><td>Zambia     </td><td>551        </td><td>2016       </td><td> 3654.95   </td><td>0          </td><td>   0       </td><td> 3646.04   </td></tr>\n",
       "\t<tr><td>Zambia     </td><td>551        </td><td>2017       </td><td> 4325.47   </td><td>0          </td><td>   0       </td><td> 3654.95   </td></tr>\n",
       "\t<tr><td>Zimbabwe   </td><td>552        </td><td>2015       </td><td> 1899.81   </td><td>0          </td><td>   0       </td><td>      NA   </td></tr>\n",
       "\t<tr><td>Zimbabwe   </td><td>552        </td><td>2016       </td><td> 1868.81   </td><td>0          </td><td>   0       </td><td> 1899.81   </td></tr>\n",
       "\t<tr><td>Zimbabwe   </td><td>552        </td><td>2017       </td><td>  164.93   </td><td>0          </td><td>   0       </td><td> 1868.81   </td></tr>\n",
       "</tbody>\n",
       "</table>\n"
      ],
      "text/latex": [
       "\\begin{tabular}{r|lllllll}\n",
       " country\\_name & country\\_id & year & gdp & count\\_conflicts & fatalities & lagged\\_gdp\\\\\n",
       "\\hline\n",
       "\t Algeria                  & 615                      & 2015                     & 13807.18                 & 2                        & 110                      &       NA                \\\\\n",
       "\t Algeria                  & 615                      & 2016                     & 14059.21                 & 1                        &  86                      & 13807.18                \\\\\n",
       "\t Algeria                  & 615                      & 2017                     & 14353.67                 & 1                        &  60                      & 14059.21                \\\\\n",
       "\t Angola                   & 540                      & 2015                     &  6265.56                 & 0                        &   0                      &       NA                \\\\\n",
       "\t Angola                   & 540                      & 2016                     &  6057.95                 & 0                        &   0                      &  6265.56                \\\\\n",
       "\t Angola                   & 540                      & 2017                     &  1563.85                 & 1                        &  25                      &  6057.95                \\\\\n",
       "\t Benin                    & 434                      & 2015                     &  1996.73                 & 0                        &   0                      &       NA                \\\\\n",
       "\t Benin                    & 434                      & 2016                     &  2019.64                 & 0                        &   0                      &  1996.73                \\\\\n",
       "\t Benin                    & 434                      & 2017                     &  2005.93                 & 0                        &   0                      &  2019.64                \\\\\n",
       "\t Botswana                 & 571                      & 2015                     & 15450.28                 & 0                        &   0                      &       NA                \\\\\n",
       "\t Botswana                 & 571                      & 2016                     & 15608.32                 & 0                        &   0                      & 15450.28                \\\\\n",
       "\t Botswana                 & 571                      & 2017                     & 16987.37                 & 0                        &   0                      & 15608.32                \\\\\n",
       "\t Burkina Faso             & 439                      & 2015                     &  1558.06                 & 0                        &   0                      &       NA                \\\\\n",
       "\t Burkina Faso             & 439                      & 2016                     &  1602.02                 & 0                        &   0                      &  1558.06                \\\\\n",
       "\t Burkina Faso             & 439                      & 2017                     &  1512.73                 & 0                        &   0                      &  1602.02                \\\\\n",
       "\t Burundi                  & 516                      & 2015                     &   751.68                 & 1                        & 133                      &       NA                \\\\\n",
       "\t Burundi                  & 516                      & 2016                     &   724.18                 & 0                        &   0                      &   751.68                \\\\\n",
       "\t Burundi                  & 516                      & 2017                     &   824.07                 & 0                        &   0                      &   724.18                \\\\\n",
       "\t Cameroon                 & 471                      & 2015                     &  3006.36                 & 2                        & 995                      &       NA                \\\\\n",
       "\t Cameroon                 & 471                      & 2016                     &  3061.40                 & 2                        & 221                      &  3006.36                \\\\\n",
       "\t Cameroon                 & 471                      & 2017                     &  3096.99                 & 1                        &  63                      &  3061.40                \\\\\n",
       "\t Cape Verde               & 402                      & 2015                     &  1513.00                 & 0                        &   0                      &       NA                \\\\\n",
       "\t Cape Verde               & 402                      & 2016                     &  1561.10                 & 0                        &   0                      &  1513.00                \\\\\n",
       "\t Cape Verde               & 402                      & 2017                     &  1712.70                 & 0                        &   0                      &  1561.10                \\\\\n",
       "\t Central African Republic & 482                      & 2015                     &   628.97                 & 0                        &   0                      &       NA                \\\\\n",
       "\t Central African Republic & 482                      & 2016                     &   650.54                 & 0                        &   0                      &   628.97                \\\\\n",
       "\t Central African Republic & 482                      & 2017                     &   780.49                 & 0                        &   0                      &   650.54                \\\\\n",
       "\t Chad                     & 483                      & 2015                     &  2057.53                 & 1                        & 272                      &       NA                \\\\\n",
       "\t Chad                     & 483                      & 2016                     &  1854.71                 & 0                        &   0                      &  2057.53                \\\\\n",
       "\t Chad                     & 483                      & 2017                     &  2224.23                 & 1                        &  57                      &  1854.71                \\\\\n",
       "\t ⋮ & ⋮ & ⋮ & ⋮ & ⋮ & ⋮ & ⋮\\\\\n",
       "\t South Sudan & 626         & 2015        &  1816.75    & 1           &  493        &       NA   \\\\\n",
       "\t South Sudan & 626         & 2016        &       NA    & 1           &  735        &  1816.75   \\\\\n",
       "\t South Sudan & 626         & 2017        &  1829.13    & 1           &  465        &       NA   \\\\\n",
       "\t Sudan       & 625         & 2015        &  4313.11    & 1           & 1264        &       NA   \\\\\n",
       "\t Sudan       & 625         & 2016        &  4408.34    & 1           & 1314        &  4313.11   \\\\\n",
       "\t Sudan       & 625         & 2017        &  4665.70    & 1           &  128        &  4408.34   \\\\\n",
       "\t Swaziland   & 572         & 2015        &  8099.64    & 0           &    0        &       NA   \\\\\n",
       "\t Swaziland   & 572         & 2016        &  7777.69    & 0           &    0        &  8099.64   \\\\\n",
       "\t Swaziland   & 572         & 2017        &  7804.44    & 0           &    0        &  7777.69   \\\\\n",
       "\t Tanzania    & 510         & 2015        &  2503.30    & 0           &    0        &       NA   \\\\\n",
       "\t Tanzania    & 510         & 2016        &  2596.14    & 0           &    0        &  2503.30   \\\\\n",
       "\t Tanzania    & 510         & 2017        &  2776.88    & 0           &    0        &  2596.14   \\\\\n",
       "\t The Gambia  & 420         & 2015        &  1595.62    & 0           &    0        &       NA   \\\\\n",
       "\t The Gambia  & 420         & 2016        &  1573.09    & 0           &    0        &  1595.62   \\\\\n",
       "\t The Gambia  & 420         & 2017        &  1935.93    & 0           &    0        &  1573.09   \\\\\n",
       "\t Togo        & 461         & 2015        &  1356.98    & 0           &    0        &       NA   \\\\\n",
       "\t Togo        & 461         & 2016        &  1388.44    & 0           &    0        &  1356.98   \\\\\n",
       "\t Togo        & 461         & 2017        &  1203.83    & 0           &    0        &  1388.44   \\\\\n",
       "\t Tunisia     & 616         & 2015        & 10813.10    & 0           &    0        &       NA   \\\\\n",
       "\t Tunisia     & 616         & 2016        & 10815.27    & 1           &   72        & 10813.10   \\\\\n",
       "\t Tunisia     & 616         & 2017        & 12003.94    & 0           &    0        & 10815.27   \\\\\n",
       "\t Uganda      & 500         & 2015        &  1700.50    & 1           &  197        &       NA   \\\\\n",
       "\t Uganda      & 500         & 2016        &  1721.93    & 1           &  132        &  1700.50   \\\\\n",
       "\t Uganda      & 500         & 2017        &  1885.35    & 1           &  235        &  1721.93   \\\\\n",
       "\t Zambia      & 551         & 2015        &  3646.04    & 0           &    0        &       NA   \\\\\n",
       "\t Zambia      & 551         & 2016        &  3654.95    & 0           &    0        &  3646.04   \\\\\n",
       "\t Zambia      & 551         & 2017        &  4325.47    & 0           &    0        &  3654.95   \\\\\n",
       "\t Zimbabwe    & 552         & 2015        &  1899.81    & 0           &    0        &       NA   \\\\\n",
       "\t Zimbabwe    & 552         & 2016        &  1868.81    & 0           &    0        &  1899.81   \\\\\n",
       "\t Zimbabwe    & 552         & 2017        &   164.93    & 0           &    0        &  1868.81   \\\\\n",
       "\\end{tabular}\n"
      ],
      "text/markdown": [
       "\n",
       "country_name | country_id | year | gdp | count_conflicts | fatalities | lagged_gdp | \n",
       "|---|---|---|---|---|---|---|---|---|---|---|---|---|---|---|---|---|---|---|---|---|---|---|---|---|---|---|---|---|---|---|---|---|---|---|---|---|---|---|---|---|---|---|---|---|---|---|---|---|---|---|---|---|---|---|---|---|---|---|---|---|\n",
       "| Algeria                  | 615                      | 2015                     | 13807.18                 | 2                        | 110                      |       NA                 | \n",
       "| Algeria                  | 615                      | 2016                     | 14059.21                 | 1                        |  86                      | 13807.18                 | \n",
       "| Algeria                  | 615                      | 2017                     | 14353.67                 | 1                        |  60                      | 14059.21                 | \n",
       "| Angola                   | 540                      | 2015                     |  6265.56                 | 0                        |   0                      |       NA                 | \n",
       "| Angola                   | 540                      | 2016                     |  6057.95                 | 0                        |   0                      |  6265.56                 | \n",
       "| Angola                   | 540                      | 2017                     |  1563.85                 | 1                        |  25                      |  6057.95                 | \n",
       "| Benin                    | 434                      | 2015                     |  1996.73                 | 0                        |   0                      |       NA                 | \n",
       "| Benin                    | 434                      | 2016                     |  2019.64                 | 0                        |   0                      |  1996.73                 | \n",
       "| Benin                    | 434                      | 2017                     |  2005.93                 | 0                        |   0                      |  2019.64                 | \n",
       "| Botswana                 | 571                      | 2015                     | 15450.28                 | 0                        |   0                      |       NA                 | \n",
       "| Botswana                 | 571                      | 2016                     | 15608.32                 | 0                        |   0                      | 15450.28                 | \n",
       "| Botswana                 | 571                      | 2017                     | 16987.37                 | 0                        |   0                      | 15608.32                 | \n",
       "| Burkina Faso             | 439                      | 2015                     |  1558.06                 | 0                        |   0                      |       NA                 | \n",
       "| Burkina Faso             | 439                      | 2016                     |  1602.02                 | 0                        |   0                      |  1558.06                 | \n",
       "| Burkina Faso             | 439                      | 2017                     |  1512.73                 | 0                        |   0                      |  1602.02                 | \n",
       "| Burundi                  | 516                      | 2015                     |   751.68                 | 1                        | 133                      |       NA                 | \n",
       "| Burundi                  | 516                      | 2016                     |   724.18                 | 0                        |   0                      |   751.68                 | \n",
       "| Burundi                  | 516                      | 2017                     |   824.07                 | 0                        |   0                      |   724.18                 | \n",
       "| Cameroon                 | 471                      | 2015                     |  3006.36                 | 2                        | 995                      |       NA                 | \n",
       "| Cameroon                 | 471                      | 2016                     |  3061.40                 | 2                        | 221                      |  3006.36                 | \n",
       "| Cameroon                 | 471                      | 2017                     |  3096.99                 | 1                        |  63                      |  3061.40                 | \n",
       "| Cape Verde               | 402                      | 2015                     |  1513.00                 | 0                        |   0                      |       NA                 | \n",
       "| Cape Verde               | 402                      | 2016                     |  1561.10                 | 0                        |   0                      |  1513.00                 | \n",
       "| Cape Verde               | 402                      | 2017                     |  1712.70                 | 0                        |   0                      |  1561.10                 | \n",
       "| Central African Republic | 482                      | 2015                     |   628.97                 | 0                        |   0                      |       NA                 | \n",
       "| Central African Republic | 482                      | 2016                     |   650.54                 | 0                        |   0                      |   628.97                 | \n",
       "| Central African Republic | 482                      | 2017                     |   780.49                 | 0                        |   0                      |   650.54                 | \n",
       "| Chad                     | 483                      | 2015                     |  2057.53                 | 1                        | 272                      |       NA                 | \n",
       "| Chad                     | 483                      | 2016                     |  1854.71                 | 0                        |   0                      |  2057.53                 | \n",
       "| Chad                     | 483                      | 2017                     |  2224.23                 | 1                        |  57                      |  1854.71                 | \n",
       "| ⋮ | ⋮ | ⋮ | ⋮ | ⋮ | ⋮ | ⋮ | \n",
       "| South Sudan | 626         | 2015        |  1816.75    | 1           |  493        |       NA    | \n",
       "| South Sudan | 626         | 2016        |       NA    | 1           |  735        |  1816.75    | \n",
       "| South Sudan | 626         | 2017        |  1829.13    | 1           |  465        |       NA    | \n",
       "| Sudan       | 625         | 2015        |  4313.11    | 1           | 1264        |       NA    | \n",
       "| Sudan       | 625         | 2016        |  4408.34    | 1           | 1314        |  4313.11    | \n",
       "| Sudan       | 625         | 2017        |  4665.70    | 1           |  128        |  4408.34    | \n",
       "| Swaziland   | 572         | 2015        |  8099.64    | 0           |    0        |       NA    | \n",
       "| Swaziland   | 572         | 2016        |  7777.69    | 0           |    0        |  8099.64    | \n",
       "| Swaziland   | 572         | 2017        |  7804.44    | 0           |    0        |  7777.69    | \n",
       "| Tanzania    | 510         | 2015        |  2503.30    | 0           |    0        |       NA    | \n",
       "| Tanzania    | 510         | 2016        |  2596.14    | 0           |    0        |  2503.30    | \n",
       "| Tanzania    | 510         | 2017        |  2776.88    | 0           |    0        |  2596.14    | \n",
       "| The Gambia  | 420         | 2015        |  1595.62    | 0           |    0        |       NA    | \n",
       "| The Gambia  | 420         | 2016        |  1573.09    | 0           |    0        |  1595.62    | \n",
       "| The Gambia  | 420         | 2017        |  1935.93    | 0           |    0        |  1573.09    | \n",
       "| Togo        | 461         | 2015        |  1356.98    | 0           |    0        |       NA    | \n",
       "| Togo        | 461         | 2016        |  1388.44    | 0           |    0        |  1356.98    | \n",
       "| Togo        | 461         | 2017        |  1203.83    | 0           |    0        |  1388.44    | \n",
       "| Tunisia     | 616         | 2015        | 10813.10    | 0           |    0        |       NA    | \n",
       "| Tunisia     | 616         | 2016        | 10815.27    | 1           |   72        | 10813.10    | \n",
       "| Tunisia     | 616         | 2017        | 12003.94    | 0           |    0        | 10815.27    | \n",
       "| Uganda      | 500         | 2015        |  1700.50    | 1           |  197        |       NA    | \n",
       "| Uganda      | 500         | 2016        |  1721.93    | 1           |  132        |  1700.50    | \n",
       "| Uganda      | 500         | 2017        |  1885.35    | 1           |  235        |  1721.93    | \n",
       "| Zambia      | 551         | 2015        |  3646.04    | 0           |    0        |       NA    | \n",
       "| Zambia      | 551         | 2016        |  3654.95    | 0           |    0        |  3646.04    | \n",
       "| Zambia      | 551         | 2017        |  4325.47    | 0           |    0        |  3654.95    | \n",
       "| Zimbabwe    | 552         | 2015        |  1899.81    | 0           |    0        |       NA    | \n",
       "| Zimbabwe    | 552         | 2016        |  1868.81    | 0           |    0        |  1899.81    | \n",
       "| Zimbabwe    | 552         | 2017        |   164.93    | 0           |    0        |  1868.81    | \n",
       "\n",
       "\n"
      ],
      "text/plain": [
       "    country_name             country_id year gdp      count_conflicts\n",
       "1   Algeria                  615        2015 13807.18 2              \n",
       "2   Algeria                  615        2016 14059.21 1              \n",
       "3   Algeria                  615        2017 14353.67 1              \n",
       "4   Angola                   540        2015  6265.56 0              \n",
       "5   Angola                   540        2016  6057.95 0              \n",
       "6   Angola                   540        2017  1563.85 1              \n",
       "7   Benin                    434        2015  1996.73 0              \n",
       "8   Benin                    434        2016  2019.64 0              \n",
       "9   Benin                    434        2017  2005.93 0              \n",
       "10  Botswana                 571        2015 15450.28 0              \n",
       "11  Botswana                 571        2016 15608.32 0              \n",
       "12  Botswana                 571        2017 16987.37 0              \n",
       "13  Burkina Faso             439        2015  1558.06 0              \n",
       "14  Burkina Faso             439        2016  1602.02 0              \n",
       "15  Burkina Faso             439        2017  1512.73 0              \n",
       "16  Burundi                  516        2015   751.68 1              \n",
       "17  Burundi                  516        2016   724.18 0              \n",
       "18  Burundi                  516        2017   824.07 0              \n",
       "19  Cameroon                 471        2015  3006.36 2              \n",
       "20  Cameroon                 471        2016  3061.40 2              \n",
       "21  Cameroon                 471        2017  3096.99 1              \n",
       "22  Cape Verde               402        2015  1513.00 0              \n",
       "23  Cape Verde               402        2016  1561.10 0              \n",
       "24  Cape Verde               402        2017  1712.70 0              \n",
       "25  Central African Republic 482        2015   628.97 0              \n",
       "26  Central African Republic 482        2016   650.54 0              \n",
       "27  Central African Republic 482        2017   780.49 0              \n",
       "28  Chad                     483        2015  2057.53 1              \n",
       "29  Chad                     483        2016  1854.71 0              \n",
       "30  Chad                     483        2017  2224.23 1              \n",
       "⋮   ⋮                        ⋮          ⋮    ⋮        ⋮              \n",
       "127 South Sudan              626        2015  1816.75 1              \n",
       "128 South Sudan              626        2016       NA 1              \n",
       "129 South Sudan              626        2017  1829.13 1              \n",
       "130 Sudan                    625        2015  4313.11 1              \n",
       "131 Sudan                    625        2016  4408.34 1              \n",
       "132 Sudan                    625        2017  4665.70 1              \n",
       "133 Swaziland                572        2015  8099.64 0              \n",
       "134 Swaziland                572        2016  7777.69 0              \n",
       "135 Swaziland                572        2017  7804.44 0              \n",
       "136 Tanzania                 510        2015  2503.30 0              \n",
       "137 Tanzania                 510        2016  2596.14 0              \n",
       "138 Tanzania                 510        2017  2776.88 0              \n",
       "139 The Gambia               420        2015  1595.62 0              \n",
       "140 The Gambia               420        2016  1573.09 0              \n",
       "141 The Gambia               420        2017  1935.93 0              \n",
       "142 Togo                     461        2015  1356.98 0              \n",
       "143 Togo                     461        2016  1388.44 0              \n",
       "144 Togo                     461        2017  1203.83 0              \n",
       "145 Tunisia                  616        2015 10813.10 0              \n",
       "146 Tunisia                  616        2016 10815.27 1              \n",
       "147 Tunisia                  616        2017 12003.94 0              \n",
       "148 Uganda                   500        2015  1700.50 1              \n",
       "149 Uganda                   500        2016  1721.93 1              \n",
       "150 Uganda                   500        2017  1885.35 1              \n",
       "151 Zambia                   551        2015  3646.04 0              \n",
       "152 Zambia                   551        2016  3654.95 0              \n",
       "153 Zambia                   551        2017  4325.47 0              \n",
       "154 Zimbabwe                 552        2015  1899.81 0              \n",
       "155 Zimbabwe                 552        2016  1868.81 0              \n",
       "156 Zimbabwe                 552        2017   164.93 0              \n",
       "    fatalities lagged_gdp\n",
       "1   110              NA  \n",
       "2    86        13807.18  \n",
       "3    60        14059.21  \n",
       "4     0              NA  \n",
       "5     0         6265.56  \n",
       "6    25         6057.95  \n",
       "7     0              NA  \n",
       "8     0         1996.73  \n",
       "9     0         2019.64  \n",
       "10    0              NA  \n",
       "11    0        15450.28  \n",
       "12    0        15608.32  \n",
       "13    0              NA  \n",
       "14    0         1558.06  \n",
       "15    0         1602.02  \n",
       "16  133              NA  \n",
       "17    0          751.68  \n",
       "18    0          724.18  \n",
       "19  995              NA  \n",
       "20  221         3006.36  \n",
       "21   63         3061.40  \n",
       "22    0              NA  \n",
       "23    0         1513.00  \n",
       "24    0         1561.10  \n",
       "25    0              NA  \n",
       "26    0          628.97  \n",
       "27    0          650.54  \n",
       "28  272              NA  \n",
       "29    0         2057.53  \n",
       "30   57         1854.71  \n",
       "⋮   ⋮          ⋮         \n",
       "127  493             NA  \n",
       "128  735        1816.75  \n",
       "129  465             NA  \n",
       "130 1264             NA  \n",
       "131 1314        4313.11  \n",
       "132  128        4408.34  \n",
       "133    0             NA  \n",
       "134    0        8099.64  \n",
       "135    0        7777.69  \n",
       "136    0             NA  \n",
       "137    0        2503.30  \n",
       "138    0        2596.14  \n",
       "139    0             NA  \n",
       "140    0        1595.62  \n",
       "141    0        1573.09  \n",
       "142    0             NA  \n",
       "143    0        1356.98  \n",
       "144    0        1388.44  \n",
       "145    0             NA  \n",
       "146   72       10813.10  \n",
       "147    0       10815.27  \n",
       "148  197             NA  \n",
       "149  132        1700.50  \n",
       "150  235        1721.93  \n",
       "151    0             NA  \n",
       "152    0        3646.04  \n",
       "153    0        3654.95  \n",
       "154    0             NA  \n",
       "155    0        1899.81  \n",
       "156    0        1868.81  "
      ]
     },
     "metadata": {},
     "output_type": "display_data"
    }
   ],
   "source": [
    "with_lags <- really_final %>% arrange(country_name, year) %>% group_by(country_name) %>% mutate(lagged_gdp = lag(gdp))\n",
    "\n",
    "# OR, if you want it without pipes\n",
    "with_lags <- arrange(really_final,country_name, year)\n",
    "with_lags <- group_by(with_lags,country_name)\n",
    "with_lags <- mutate(with_lags,lagged_gdp = lag(gdp))\n",
    "\n",
    "with_lags\n",
    "\n",
    "#Why did we need to arrange the data first?\n",
    "#Why did we need to group it afterwards?\n",
    "#Can we compute a change in GDP from past year to current year? How?"
   ]
  },
  {
   "cell_type": "markdown",
   "metadata": {},
   "source": [
    "Sometimes, you want to lag (shift) by more than 1 year in the past. Use `lag(VARIABLE, nL)` where n is the number of rows to go back. \n",
    "\n",
    "Example, \n",
    "`with_lags <- mutate(with_lags,lagged_gdp = lag(gdp, 10L))`\n",
    "would lag 10 years, not one.\n",
    "\n",
    "Sometimes, you want data from the future. This is called a `lead`, and the function is `lead()`. Works the same as `lag()`."
   ]
  },
  {
   "cell_type": "markdown",
   "metadata": {},
   "source": [
    "# Advice : Keep your data clean!\n",
    "\n",
    "## Clean (or _tidy_ in R lingo) means:\n",
    "\n",
    "## 1. One variable per column\n",
    "## 2. One observation per row\n",
    "\n",
    "If you have a country-year dataset containing GDP and Population, each row should be a country-year, and GDP and Population their own columns. Of course, the country name (and identifier) and year should be included.\n",
    "\n",
    "If this is not the case, you can use `gather()` and `spread()`\n"
   ]
  },
  {
   "cell_type": "code",
   "execution_count": 49,
   "metadata": {},
   "outputs": [
    {
     "data": {
      "text/html": [
       "<table>\n",
       "<thead><tr><th scope=col>country</th><th scope=col>year</th><th scope=col>type</th><th scope=col>count</th></tr></thead>\n",
       "<tbody>\n",
       "\t<tr><td>Afghanistan</td><td>1999       </td><td>cases      </td><td>       745 </td></tr>\n",
       "\t<tr><td>Afghanistan</td><td>1999       </td><td>population </td><td>  19987071 </td></tr>\n",
       "\t<tr><td>Afghanistan</td><td>2000       </td><td>cases      </td><td>      2666 </td></tr>\n",
       "\t<tr><td>Afghanistan</td><td>2000       </td><td>population </td><td>  20595360 </td></tr>\n",
       "\t<tr><td>Brazil     </td><td>1999       </td><td>cases      </td><td>     37737 </td></tr>\n",
       "\t<tr><td>Brazil     </td><td>1999       </td><td>population </td><td> 172006362 </td></tr>\n",
       "\t<tr><td>Brazil     </td><td>2000       </td><td>cases      </td><td>     80488 </td></tr>\n",
       "\t<tr><td>Brazil     </td><td>2000       </td><td>population </td><td> 174504898 </td></tr>\n",
       "\t<tr><td>China      </td><td>1999       </td><td>cases      </td><td>    212258 </td></tr>\n",
       "\t<tr><td>China      </td><td>1999       </td><td>population </td><td>1272915272 </td></tr>\n",
       "\t<tr><td>China      </td><td>2000       </td><td>cases      </td><td>    213766 </td></tr>\n",
       "\t<tr><td>China      </td><td>2000       </td><td>population </td><td>1280428583 </td></tr>\n",
       "</tbody>\n",
       "</table>\n"
      ],
      "text/latex": [
       "\\begin{tabular}{r|llll}\n",
       " country & year & type & count\\\\\n",
       "\\hline\n",
       "\t Afghanistan & 1999        & cases       &        745 \\\\\n",
       "\t Afghanistan & 1999        & population  &   19987071 \\\\\n",
       "\t Afghanistan & 2000        & cases       &       2666 \\\\\n",
       "\t Afghanistan & 2000        & population  &   20595360 \\\\\n",
       "\t Brazil      & 1999        & cases       &      37737 \\\\\n",
       "\t Brazil      & 1999        & population  &  172006362 \\\\\n",
       "\t Brazil      & 2000        & cases       &      80488 \\\\\n",
       "\t Brazil      & 2000        & population  &  174504898 \\\\\n",
       "\t China       & 1999        & cases       &     212258 \\\\\n",
       "\t China       & 1999        & population  & 1272915272 \\\\\n",
       "\t China       & 2000        & cases       &     213766 \\\\\n",
       "\t China       & 2000        & population  & 1280428583 \\\\\n",
       "\\end{tabular}\n"
      ],
      "text/markdown": [
       "\n",
       "country | year | type | count | \n",
       "|---|---|---|---|---|---|---|---|---|---|---|---|\n",
       "| Afghanistan | 1999        | cases       |        745  | \n",
       "| Afghanistan | 1999        | population  |   19987071  | \n",
       "| Afghanistan | 2000        | cases       |       2666  | \n",
       "| Afghanistan | 2000        | population  |   20595360  | \n",
       "| Brazil      | 1999        | cases       |      37737  | \n",
       "| Brazil      | 1999        | population  |  172006362  | \n",
       "| Brazil      | 2000        | cases       |      80488  | \n",
       "| Brazil      | 2000        | population  |  174504898  | \n",
       "| China       | 1999        | cases       |     212258  | \n",
       "| China       | 1999        | population  | 1272915272  | \n",
       "| China       | 2000        | cases       |     213766  | \n",
       "| China       | 2000        | population  | 1280428583  | \n",
       "\n",
       "\n"
      ],
      "text/plain": [
       "   country     year type       count     \n",
       "1  Afghanistan 1999 cases             745\n",
       "2  Afghanistan 1999 population   19987071\n",
       "3  Afghanistan 2000 cases            2666\n",
       "4  Afghanistan 2000 population   20595360\n",
       "5  Brazil      1999 cases           37737\n",
       "6  Brazil      1999 population  172006362\n",
       "7  Brazil      2000 cases           80488\n",
       "8  Brazil      2000 population  174504898\n",
       "9  China       1999 cases          212258\n",
       "10 China       1999 population 1272915272\n",
       "11 China       2000 cases          213766\n",
       "12 China       2000 population 1280428583"
      ]
     },
     "metadata": {},
     "output_type": "display_data"
    }
   ],
   "source": [
    "#These examples come directly from dplyr(). Why is this NOT CLEAN?\n",
    "table2"
   ]
  },
  {
   "cell_type": "code",
   "execution_count": 54,
   "metadata": {},
   "outputs": [
    {
     "data": {
      "text/html": [
       "<table>\n",
       "<thead><tr><th scope=col>country</th><th scope=col>year</th><th scope=col>cases</th><th scope=col>population</th></tr></thead>\n",
       "<tbody>\n",
       "\t<tr><td>Afghanistan</td><td>1999       </td><td>   745     </td><td>  19987071 </td></tr>\n",
       "\t<tr><td>Afghanistan</td><td>2000       </td><td>  2666     </td><td>  20595360 </td></tr>\n",
       "\t<tr><td>Brazil     </td><td>1999       </td><td> 37737     </td><td> 172006362 </td></tr>\n",
       "\t<tr><td>Brazil     </td><td>2000       </td><td> 80488     </td><td> 174504898 </td></tr>\n",
       "\t<tr><td>China      </td><td>1999       </td><td>212258     </td><td>1272915272 </td></tr>\n",
       "\t<tr><td>China      </td><td>2000       </td><td>213766     </td><td>1280428583 </td></tr>\n",
       "</tbody>\n",
       "</table>\n"
      ],
      "text/latex": [
       "\\begin{tabular}{r|llll}\n",
       " country & year & cases & population\\\\\n",
       "\\hline\n",
       "\t Afghanistan & 1999        &    745      &   19987071 \\\\\n",
       "\t Afghanistan & 2000        &   2666      &   20595360 \\\\\n",
       "\t Brazil      & 1999        &  37737      &  172006362 \\\\\n",
       "\t Brazil      & 2000        &  80488      &  174504898 \\\\\n",
       "\t China       & 1999        & 212258      & 1272915272 \\\\\n",
       "\t China       & 2000        & 213766      & 1280428583 \\\\\n",
       "\\end{tabular}\n"
      ],
      "text/markdown": [
       "\n",
       "country | year | cases | population | \n",
       "|---|---|---|---|---|---|\n",
       "| Afghanistan | 1999        |    745      |   19987071  | \n",
       "| Afghanistan | 2000        |   2666      |   20595360  | \n",
       "| Brazil      | 1999        |  37737      |  172006362  | \n",
       "| Brazil      | 2000        |  80488      |  174504898  | \n",
       "| China       | 1999        | 212258      | 1272915272  | \n",
       "| China       | 2000        | 213766      | 1280428583  | \n",
       "\n",
       "\n"
      ],
      "text/plain": [
       "  country     year cases  population\n",
       "1 Afghanistan 1999    745   19987071\n",
       "2 Afghanistan 2000   2666   20595360\n",
       "3 Brazil      1999  37737  172006362\n",
       "4 Brazil      2000  80488  174504898\n",
       "5 China       1999 212258 1272915272\n",
       "6 China       2000 213766 1280428583"
      ]
     },
     "metadata": {},
     "output_type": "display_data"
    }
   ],
   "source": [
    "#And let's clean it up!\n",
    "#spread() takes multi-row observations and turns it into a single row with multiple observations\n",
    "spread(table2, key = type, value = count)"
   ]
  },
  {
   "cell_type": "code",
   "execution_count": 58,
   "metadata": {},
   "outputs": [
    {
     "data": {
      "text/html": [
       "<table>\n",
       "<thead><tr><th scope=col>country</th><th scope=col>1999</th><th scope=col>2000</th></tr></thead>\n",
       "<tbody>\n",
       "\t<tr><td>Afghanistan</td><td>   745     </td><td>  2666     </td></tr>\n",
       "\t<tr><td>Brazil     </td><td> 37737     </td><td> 80488     </td></tr>\n",
       "\t<tr><td>China      </td><td>212258     </td><td>213766     </td></tr>\n",
       "</tbody>\n",
       "</table>\n"
      ],
      "text/latex": [
       "\\begin{tabular}{r|lll}\n",
       " country & 1999 & 2000\\\\\n",
       "\\hline\n",
       "\t Afghanistan &    745      &   2666     \\\\\n",
       "\t Brazil      &  37737      &  80488     \\\\\n",
       "\t China       & 212258      & 213766     \\\\\n",
       "\\end{tabular}\n"
      ],
      "text/markdown": [
       "\n",
       "country | 1999 | 2000 | \n",
       "|---|---|---|\n",
       "| Afghanistan |    745      |   2666      | \n",
       "| Brazil      |  37737      |  80488      | \n",
       "| China       | 212258      | 213766      | \n",
       "\n",
       "\n"
      ],
      "text/plain": [
       "  country     1999   2000  \n",
       "1 Afghanistan    745   2666\n",
       "2 Brazil       37737  80488\n",
       "3 China       212258 213766"
      ]
     },
     "metadata": {},
     "output_type": "display_data"
    }
   ],
   "source": [
    "table4a\n",
    "#Why is this one not clean?"
   ]
  },
  {
   "cell_type": "code",
   "execution_count": 63,
   "metadata": {},
   "outputs": [
    {
     "data": {
      "text/html": [
       "<table>\n",
       "<thead><tr><th scope=col>country</th><th scope=col>year</th><th scope=col>deaths</th></tr></thead>\n",
       "<tbody>\n",
       "\t<tr><td>Afghanistan</td><td>1999       </td><td>   745     </td></tr>\n",
       "\t<tr><td>Brazil     </td><td>1999       </td><td> 37737     </td></tr>\n",
       "\t<tr><td>China      </td><td>1999       </td><td>212258     </td></tr>\n",
       "\t<tr><td>Afghanistan</td><td>2000       </td><td>  2666     </td></tr>\n",
       "\t<tr><td>Brazil     </td><td>2000       </td><td> 80488     </td></tr>\n",
       "\t<tr><td>China      </td><td>2000       </td><td>213766     </td></tr>\n",
       "</tbody>\n",
       "</table>\n"
      ],
      "text/latex": [
       "\\begin{tabular}{r|lll}\n",
       " country & year & deaths\\\\\n",
       "\\hline\n",
       "\t Afghanistan & 1999        &    745     \\\\\n",
       "\t Brazil      & 1999        &  37737     \\\\\n",
       "\t China       & 1999        & 212258     \\\\\n",
       "\t Afghanistan & 2000        &   2666     \\\\\n",
       "\t Brazil      & 2000        &  80488     \\\\\n",
       "\t China       & 2000        & 213766     \\\\\n",
       "\\end{tabular}\n"
      ],
      "text/markdown": [
       "\n",
       "country | year | deaths | \n",
       "|---|---|---|---|---|---|\n",
       "| Afghanistan | 1999        |    745      | \n",
       "| Brazil      | 1999        |  37737      | \n",
       "| China       | 1999        | 212258      | \n",
       "| Afghanistan | 2000        |   2666      | \n",
       "| Brazil      | 2000        |  80488      | \n",
       "| China       | 2000        | 213766      | \n",
       "\n",
       "\n"
      ],
      "text/plain": [
       "  country     year deaths\n",
       "1 Afghanistan 1999    745\n",
       "2 Brazil      1999  37737\n",
       "3 China       1999 212258\n",
       "4 Afghanistan 2000   2666\n",
       "5 Brazil      2000  80488\n",
       "6 China       2000 213766"
      ]
     },
     "metadata": {},
     "output_type": "display_data"
    }
   ],
   "source": [
    "#And let's clean it up!\n",
    "#spread() takes multi-column observations and turns it into a single row with multiple observations\n",
    "gather(table4a,`1999`, `2000`, key = \"year\", value = \"deaths\")"
   ]
  },
  {
   "cell_type": "markdown",
   "metadata": {},
   "source": [
    "# Documentation and future help!\n",
    "\n",
    "## A cheatsheet:\n",
    "\n",
    "[https://github.com/rstudio/cheatsheets/blob/master/data-transformation.pdf]\n",
    "\n",
    "## And documentation:\n",
    "[https://cran.r-project.org/web/packages/dplyr/vignettes/dplyr.html]\n",
    "\n",
    "## A whole book on this:\n",
    "https://r4ds.had.co.nz/"
   ]
  },
  {
   "cell_type": "markdown",
   "metadata": {},
   "source": [
    "# HOMEWORK!!!!"
   ]
  }
 ],
 "metadata": {
  "kernelspec": {
   "display_name": "R",
   "language": "R",
   "name": "ir"
  },
  "language_info": {
   "codemirror_mode": "r",
   "file_extension": ".r",
   "mimetype": "text/x-r-source",
   "name": "R",
   "pygments_lexer": "r",
   "version": "3.5.1"
  }
 },
 "nbformat": 4,
 "nbformat_minor": 2
}
